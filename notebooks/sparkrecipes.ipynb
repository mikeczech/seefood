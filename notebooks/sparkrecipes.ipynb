{
 "cells": [
  {
   "cell_type": "code",
   "execution_count": 5,
   "metadata": {},
   "outputs": [],
   "source": [
    "import pandas as pd"
   ]
  },
  {
   "cell_type": "code",
   "execution_count": 14,
   "metadata": {},
   "outputs": [],
   "source": [
    "df = pd.read_csv(\"../data/sparkrecipes.csv\")"
   ]
  },
  {
   "cell_type": "code",
   "execution_count": 15,
   "metadata": {},
   "outputs": [
    {
     "data": {
      "text/html": [
       "<div>\n",
       "<style scoped>\n",
       "    .dataframe tbody tr th:only-of-type {\n",
       "        vertical-align: middle;\n",
       "    }\n",
       "\n",
       "    .dataframe tbody tr th {\n",
       "        vertical-align: top;\n",
       "    }\n",
       "\n",
       "    .dataframe thead th {\n",
       "        text-align: right;\n",
       "    }\n",
       "</style>\n",
       "<table border=\"1\" class=\"dataframe\">\n",
       "  <thead>\n",
       "    <tr style=\"text-align: right;\">\n",
       "      <th></th>\n",
       "      <th>title</th>\n",
       "      <th>image_url</th>\n",
       "      <th>recipe_yield</th>\n",
       "      <th>ingredients</th>\n",
       "      <th>ingredient_calories</th>\n",
       "      <th>Calories</th>\n",
       "      <th>Total Fat</th>\n",
       "      <th>Saturated Fat</th>\n",
       "      <th>Polyunsaturated Fat</th>\n",
       "      <th>Monounsaturated Fat</th>\n",
       "      <th>...</th>\n",
       "      <th>Iron</th>\n",
       "      <th>Magnesium</th>\n",
       "      <th>Manganese</th>\n",
       "      <th>Niacin</th>\n",
       "      <th>Pantothenic Acid</th>\n",
       "      <th>Phosphorus</th>\n",
       "      <th>Riboflavin</th>\n",
       "      <th>Selenium</th>\n",
       "      <th>Thiamin</th>\n",
       "      <th>Zinc</th>\n",
       "    </tr>\n",
       "  </thead>\n",
       "  <tbody>\n",
       "    <tr>\n",
       "      <th>0</th>\n",
       "      <td>No-Bake Graham Cracker Cheesycake</td>\n",
       "      <td>https://sparkpeo.hs.llnwd.net/e1/resize/630m62...</td>\n",
       "      <td>20</td>\n",
       "      <td>Low-Fat Graham Crackers|||8 oz. fat free cream...</td>\n",
       "      <td>34 calories of Pie fillings, canned, cherry, (...</td>\n",
       "      <td>0.3 g</td>\n",
       "      <td>0.3 g</td>\n",
       "      <td>0.3 g</td>\n",
       "      <td>0.3 g</td>\n",
       "      <td>0.3 g</td>\n",
       "      <td>...</td>\n",
       "      <td>0.8 %</td>\n",
       "      <td>0.8 %</td>\n",
       "      <td>0.8 %</td>\n",
       "      <td>0.8 %</td>\n",
       "      <td>0.8 %</td>\n",
       "      <td>0.8 %</td>\n",
       "      <td>0.8 %</td>\n",
       "      <td>0.8 %</td>\n",
       "      <td>0.8 %</td>\n",
       "      <td>0.8 %</td>\n",
       "    </tr>\n",
       "  </tbody>\n",
       "</table>\n",
       "<p>1 rows × 36 columns</p>\n",
       "</div>"
      ],
      "text/plain": [
       "                               title  \\\n",
       "0  No-Bake Graham Cracker Cheesycake   \n",
       "\n",
       "                                           image_url  recipe_yield  \\\n",
       "0  https://sparkpeo.hs.llnwd.net/e1/resize/630m62...            20   \n",
       "\n",
       "                                         ingredients  \\\n",
       "0  Low-Fat Graham Crackers|||8 oz. fat free cream...   \n",
       "\n",
       "                                 ingredient_calories Calories  Total Fat   \\\n",
       "0  34 calories of Pie fillings, canned, cherry, (...     0.3 g      0.3 g   \n",
       "\n",
       "  Saturated Fat  Polyunsaturated Fat  Monounsaturated Fat   ...  Iron   \\\n",
       "0          0.3 g                0.3 g                0.3 g  ...  0.8 %   \n",
       "\n",
       "  Magnesium  Manganese  Niacin  Pantothenic Acid  Phosphorus  Riboflavin   \\\n",
       "0      0.8 %      0.8 %   0.8 %             0.8 %       0.8 %       0.8 %   \n",
       "\n",
       "  Selenium  Thiamin   Zinc   \n",
       "0     0.8 %    0.8 %  0.8 %  \n",
       "\n",
       "[1 rows x 36 columns]"
      ]
     },
     "execution_count": 15,
     "metadata": {},
     "output_type": "execute_result"
    }
   ],
   "source": [
    "df.head()"
   ]
  },
  {
   "cell_type": "code",
   "execution_count": 16,
   "metadata": {
    "collapsed": true,
    "jupyter": {
     "outputs_hidden": true
    }
   },
   "outputs": [
    {
     "data": {
      "text/plain": [
       "title                   0.0\n",
       "image_url               0.0\n",
       "recipe_yield            0.0\n",
       "ingredients             0.0\n",
       "ingredient_calories     0.0\n",
       "Calories                0.0\n",
       "Total Fat               0.0\n",
       "Saturated Fat           0.0\n",
       "Polyunsaturated Fat     0.0\n",
       "Monounsaturated Fat     0.0\n",
       "Cholesterol             0.0\n",
       "Sodium                  0.0\n",
       "Potassium               0.0\n",
       "Total Carbohydrate      0.0\n",
       "Dietary Fiber           0.0\n",
       "Sugars                  0.0\n",
       "Protein                 0.0\n",
       "Vitamin A               0.0\n",
       "Vitamin B-12            0.0\n",
       "Vitamin B-6             0.0\n",
       "Vitamin C               0.0\n",
       "Vitamin D               0.0\n",
       "Vitamin E               0.0\n",
       "Calcium                 0.0\n",
       "Copper                  0.0\n",
       "Folate                  0.0\n",
       "Iron                    0.0\n",
       "Magnesium               0.0\n",
       "Manganese               0.0\n",
       "Niacin                  0.0\n",
       "Pantothenic Acid        0.0\n",
       "Phosphorus              0.0\n",
       "Riboflavin              0.0\n",
       "Selenium                0.0\n",
       "Thiamin                 0.0\n",
       "Zinc                    0.0\n",
       "dtype: float64"
      ]
     },
     "execution_count": 16,
     "metadata": {},
     "output_type": "execute_result"
    }
   ],
   "source": [
    "df.isnull().mean()"
   ]
  },
  {
   "cell_type": "code",
   "execution_count": 21,
   "metadata": {},
   "outputs": [
    {
     "data": {
      "text/plain": [
       "array(['https://sparkpeo.hs.llnwd.net/e1/resize/630m620/e2/guid/No-Bake-Graham-Cracker-Cheesycake/4d986ec5-34fe-4a90-bdf0-8479081c8441.jpg'],\n",
       "      dtype=object)"
      ]
     },
     "execution_count": 21,
     "metadata": {},
     "output_type": "execute_result"
    }
   ],
   "source": [
    "df[\"image_url\"].values"
   ]
  },
  {
   "cell_type": "code",
   "execution_count": null,
   "metadata": {},
   "outputs": [],
   "source": []
  }
 ],
 "metadata": {
  "kernelspec": {
   "display_name": "Python 3",
   "language": "python",
   "name": "python3"
  },
  "language_info": {
   "codemirror_mode": {
    "name": "ipython",
    "version": 3
   },
   "file_extension": ".py",
   "mimetype": "text/x-python",
   "name": "python",
   "nbconvert_exporter": "python",
   "pygments_lexer": "ipython3",
   "version": "3.7.3"
  }
 },
 "nbformat": 4,
 "nbformat_minor": 4
}
