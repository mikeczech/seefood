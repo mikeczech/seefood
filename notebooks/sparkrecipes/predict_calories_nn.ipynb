{
 "cells": [
  {
   "cell_type": "code",
   "execution_count": 1,
   "metadata": {},
   "outputs": [],
   "source": [
    "LMDB_FILEPATH = \"/mnt/lab_lmdb/seefood_data\""
   ]
  },
  {
   "cell_type": "code",
   "execution_count": 2,
   "metadata": {},
   "outputs": [],
   "source": [
    "%load_ext lab_black"
   ]
  },
  {
   "cell_type": "code",
   "execution_count": 3,
   "metadata": {},
   "outputs": [],
   "source": [
    "%load_ext google.cloud.bigquery\n",
    "%load_ext line_profiler"
   ]
  },
  {
   "cell_type": "code",
   "execution_count": 4,
   "metadata": {},
   "outputs": [],
   "source": [
    "%load_ext autoreload\n",
    "%autoreload 2"
   ]
  },
  {
   "cell_type": "code",
   "execution_count": 5,
   "metadata": {},
   "outputs": [],
   "source": [
    "import sys\n",
    "\n",
    "sys.path.insert(0, \"../..\")"
   ]
  },
  {
   "cell_type": "code",
   "execution_count": 26,
   "metadata": {},
   "outputs": [],
   "source": [
    "import time\n",
    "import copy\n",
    "\n",
    "import pandas as pd\n",
    "import numpy as np\n",
    "import altair as alt\n",
    "import lmdb\n",
    "import pickle\n",
    "\n",
    "import matplotlib.pyplot as plt\n",
    "\n",
    "from tqdm.notebook import tqdm\n",
    "\n",
    "from sklearn.model_selection import train_test_split\n",
    "\n",
    "from sklearn.metrics import explained_variance_score\n",
    "from sklearn.metrics import max_error\n",
    "from sklearn.metrics import mean_absolute_error\n",
    "from sklearn.metrics import mean_squared_error\n",
    "from sklearn.metrics import mean_squared_log_error\n",
    "from sklearn.metrics import median_absolute_error\n",
    "from sklearn.metrics import r2_score\n",
    "\n",
    "import torch\n",
    "import torch.nn as nn\n",
    "import torch.optim as optim\n",
    "from torch.optim import lr_scheduler\n",
    "from torchvision import datasets, models, transforms\n",
    "from torch.utils.tensorboard import SummaryWriter\n",
    "from PIL import Image, ImageFile\n",
    "\n",
    "from seefood.model import CalorieNet\n",
    "\n",
    "ImageFile.LOAD_TRUNCATED_IMAGES = True\n",
    "\n",
    "from wordcloud import WordCloud\n",
    "import matplotlib.pyplot as plt"
   ]
  },
  {
   "cell_type": "code",
   "execution_count": 7,
   "metadata": {},
   "outputs": [],
   "source": [
    "def get_metrics(name, y_test, y_pred):\n",
    "    return pd.DataFrame(\n",
    "        {\n",
    "            \"experiment_name\": name,\n",
    "            \"r2_score\": [r2_score(y_test, y_pred)],\n",
    "            \"explained_variance_score\": [explained_variance_score(y_test, y_pred)],\n",
    "            \"max_error\": [max_error(y_test, y_pred)],\n",
    "            \"mean_absolute_error\": [mean_absolute_error(y_test, y_pred)],\n",
    "            \"mean_squared_error\": [mean_squared_error(y_test, y_pred)],\n",
    "            \"median_absolute_error\": [median_absolute_error(y_test, y_pred)],\n",
    "        }\n",
    "    )"
   ]
  },
  {
   "cell_type": "markdown",
   "metadata": {},
   "source": [
    "## Load data"
   ]
  },
  {
   "cell_type": "code",
   "execution_count": 10,
   "metadata": {},
   "outputs": [],
   "source": [
    "%%bigquery df_nn --project zenscr-seefood-dev\n",
    "\n",
    "SELECT title, image_path, total_calories\n",
    "FROM `zenscr-seefood-dev.sparkrecipes.base_filtered`\n",
    "INNER JOIN `zenscr-seefood-dev.sparkrecipes.image_path`\n",
    "USING (recipe_id)"
   ]
  },
  {
   "cell_type": "code",
   "execution_count": 11,
   "metadata": {},
   "outputs": [
    {
     "data": {
      "text/html": [
       "<div>\n",
       "<style scoped>\n",
       "    .dataframe tbody tr th:only-of-type {\n",
       "        vertical-align: middle;\n",
       "    }\n",
       "\n",
       "    .dataframe tbody tr th {\n",
       "        vertical-align: top;\n",
       "    }\n",
       "\n",
       "    .dataframe thead th {\n",
       "        text-align: right;\n",
       "    }\n",
       "</style>\n",
       "<table border=\"1\" class=\"dataframe\">\n",
       "  <thead>\n",
       "    <tr style=\"text-align: right;\">\n",
       "      <th></th>\n",
       "      <th>title</th>\n",
       "      <th>image_path</th>\n",
       "      <th>total_calories</th>\n",
       "    </tr>\n",
       "  </thead>\n",
       "  <tbody>\n",
       "    <tr>\n",
       "      <th>0</th>\n",
       "      <td>Fruit Cocktail Dessert/Salad</td>\n",
       "      <td>../../data/images/70865/000001</td>\n",
       "      <td>30.0</td>\n",
       "    </tr>\n",
       "    <tr>\n",
       "      <th>1</th>\n",
       "      <td>Fruit Cocktail Dessert/Salad</td>\n",
       "      <td>../../data/images/70865/000010</td>\n",
       "      <td>30.0</td>\n",
       "    </tr>\n",
       "    <tr>\n",
       "      <th>2</th>\n",
       "      <td>Fruit Cocktail Dessert/Salad</td>\n",
       "      <td>../../data/images/70865/000011</td>\n",
       "      <td>30.0</td>\n",
       "    </tr>\n",
       "    <tr>\n",
       "      <th>3</th>\n",
       "      <td>Fruit Cocktail Dessert/Salad</td>\n",
       "      <td>../../data/images/70865/000012</td>\n",
       "      <td>30.0</td>\n",
       "    </tr>\n",
       "    <tr>\n",
       "      <th>4</th>\n",
       "      <td>Fruit Cocktail Dessert/Salad</td>\n",
       "      <td>../../data/images/70865/000013</td>\n",
       "      <td>30.0</td>\n",
       "    </tr>\n",
       "    <tr>\n",
       "      <th>...</th>\n",
       "      <td>...</td>\n",
       "      <td>...</td>\n",
       "      <td>...</td>\n",
       "    </tr>\n",
       "    <tr>\n",
       "      <th>1311732</th>\n",
       "      <td>Banana Bread Muffins</td>\n",
       "      <td>../../data/images/418865/000005</td>\n",
       "      <td>134.9</td>\n",
       "    </tr>\n",
       "    <tr>\n",
       "      <th>1311733</th>\n",
       "      <td>Banana Bread Muffins</td>\n",
       "      <td>../../data/images/418865/000006</td>\n",
       "      <td>134.9</td>\n",
       "    </tr>\n",
       "    <tr>\n",
       "      <th>1311734</th>\n",
       "      <td>Banana Bread Muffins</td>\n",
       "      <td>../../data/images/418865/000007</td>\n",
       "      <td>134.9</td>\n",
       "    </tr>\n",
       "    <tr>\n",
       "      <th>1311735</th>\n",
       "      <td>Banana Bread Muffins</td>\n",
       "      <td>../../data/images/418865/000008</td>\n",
       "      <td>134.9</td>\n",
       "    </tr>\n",
       "    <tr>\n",
       "      <th>1311736</th>\n",
       "      <td>Banana Bread Muffins</td>\n",
       "      <td>../../data/images/418865/000009</td>\n",
       "      <td>134.9</td>\n",
       "    </tr>\n",
       "  </tbody>\n",
       "</table>\n",
       "<p>1311737 rows × 3 columns</p>\n",
       "</div>"
      ],
      "text/plain": [
       "                                title                       image_path  \\\n",
       "0        Fruit Cocktail Dessert/Salad   ../../data/images/70865/000001   \n",
       "1        Fruit Cocktail Dessert/Salad   ../../data/images/70865/000010   \n",
       "2        Fruit Cocktail Dessert/Salad   ../../data/images/70865/000011   \n",
       "3        Fruit Cocktail Dessert/Salad   ../../data/images/70865/000012   \n",
       "4        Fruit Cocktail Dessert/Salad   ../../data/images/70865/000013   \n",
       "...                               ...                              ...   \n",
       "1311732          Banana Bread Muffins  ../../data/images/418865/000005   \n",
       "1311733          Banana Bread Muffins  ../../data/images/418865/000006   \n",
       "1311734          Banana Bread Muffins  ../../data/images/418865/000007   \n",
       "1311735          Banana Bread Muffins  ../../data/images/418865/000008   \n",
       "1311736          Banana Bread Muffins  ../../data/images/418865/000009   \n",
       "\n",
       "         total_calories  \n",
       "0                  30.0  \n",
       "1                  30.0  \n",
       "2                  30.0  \n",
       "3                  30.0  \n",
       "4                  30.0  \n",
       "...                 ...  \n",
       "1311732           134.9  \n",
       "1311733           134.9  \n",
       "1311734           134.9  \n",
       "1311735           134.9  \n",
       "1311736           134.9  \n",
       "\n",
       "[1311737 rows x 3 columns]"
      ]
     },
     "execution_count": 11,
     "metadata": {},
     "output_type": "execute_result"
    }
   ],
   "source": [
    "df_nn"
   ]
  },
  {
   "cell_type": "code",
   "execution_count": 12,
   "metadata": {},
   "outputs": [
    {
     "data": {
      "text/html": [
       "<div>\n",
       "<style scoped>\n",
       "    .dataframe tbody tr th:only-of-type {\n",
       "        vertical-align: middle;\n",
       "    }\n",
       "\n",
       "    .dataframe tbody tr th {\n",
       "        vertical-align: top;\n",
       "    }\n",
       "\n",
       "    .dataframe thead th {\n",
       "        text-align: right;\n",
       "    }\n",
       "</style>\n",
       "<table border=\"1\" class=\"dataframe\">\n",
       "  <thead>\n",
       "    <tr style=\"text-align: right;\">\n",
       "      <th></th>\n",
       "      <th>total_calories</th>\n",
       "    </tr>\n",
       "  </thead>\n",
       "  <tbody>\n",
       "    <tr>\n",
       "      <th>count</th>\n",
       "      <td>1.311737e+06</td>\n",
       "    </tr>\n",
       "    <tr>\n",
       "      <th>mean</th>\n",
       "      <td>2.190868e+02</td>\n",
       "    </tr>\n",
       "    <tr>\n",
       "      <th>std</th>\n",
       "      <td>1.085666e+02</td>\n",
       "    </tr>\n",
       "    <tr>\n",
       "      <th>min</th>\n",
       "      <td>2.560000e+01</td>\n",
       "    </tr>\n",
       "    <tr>\n",
       "      <th>25%</th>\n",
       "      <td>1.350000e+02</td>\n",
       "    </tr>\n",
       "    <tr>\n",
       "      <th>50%</th>\n",
       "      <td>2.049000e+02</td>\n",
       "    </tr>\n",
       "    <tr>\n",
       "      <th>75%</th>\n",
       "      <td>2.912000e+02</td>\n",
       "    </tr>\n",
       "    <tr>\n",
       "      <th>max</th>\n",
       "      <td>5.217000e+02</td>\n",
       "    </tr>\n",
       "  </tbody>\n",
       "</table>\n",
       "</div>"
      ],
      "text/plain": [
       "       total_calories\n",
       "count    1.311737e+06\n",
       "mean     2.190868e+02\n",
       "std      1.085666e+02\n",
       "min      2.560000e+01\n",
       "25%      1.350000e+02\n",
       "50%      2.049000e+02\n",
       "75%      2.912000e+02\n",
       "max      5.217000e+02"
      ]
     },
     "execution_count": 12,
     "metadata": {},
     "output_type": "execute_result"
    }
   ],
   "source": [
    "df_nn.describe()"
   ]
  },
  {
   "cell_type": "code",
   "execution_count": 13,
   "metadata": {},
   "outputs": [
    {
     "data": {
      "image/png": "[encoded data removed]",
      "text/plain": [
       "<Figure size 720x504 with 1 Axes>"
      ]
     },
     "metadata": {
      "needs_background": "light"
     },
     "output_type": "display_data"
    }
   ],
   "source": [
    "_ = df_nn.total_calories.hist(bins=150, figsize=(10, 7))"
   ]
  },
  {
   "cell_type": "markdown",
   "metadata": {},
   "source": [
    "# Train Neural Network"
   ]
  },
  {
   "cell_type": "code",
   "execution_count": 14,
   "metadata": {},
   "outputs": [],
   "source": [
    "device = torch.device(\"cuda:0\" if torch.cuda.is_available() else \"cpu\")"
   ]
  },
  {
   "cell_type": "code",
   "execution_count": 217,
   "metadata": {},
   "outputs": [],
   "source": [
    "IMAGE_SIZE = 224\n",
    "\n",
    "\n",
    "class SeefoodImage:\n",
    "    def __init__(self, image, target):\n",
    "        self.channels = image.shape[2]\n",
    "        self.size = image.shape[:2]\n",
    "        self.image = image.tobytes()\n",
    "        self.target = target\n",
    "\n",
    "    def get_image(self):\n",
    "        image = np.frombuffer(self.image, dtype=np.uint8)\n",
    "        return image.reshape(*self.size, self.channels)\n",
    "\n",
    "\n",
    "class LMDBDataset(torch.utils.data.Dataset):\n",
    "    def __init__(self, lmdb_filename, transform=None):\n",
    "        self.env = lmdb.open(\n",
    "            lmdb_filename,\n",
    "            max_readers=8,\n",
    "            readonly=True,\n",
    "            lock=False,\n",
    "            readahead=True,\n",
    "            meminit=False,\n",
    "        )\n",
    "        self.transform = transform\n",
    "        with self.env.begin(write=False) as txn:\n",
    "            self.length = txn.stat()[\"entries\"]\n",
    "\n",
    "    def __getitem__(self, index):\n",
    "        with self.env.begin(write=False) as txn:\n",
    "            imgbuf = txn.get(f\"{index:08}\".encode(\"ascii\"))\n",
    "\n",
    "        img = pickle.loads(imgbuf)\n",
    "        pil_img = Image.fromarray(img.get_image())\n",
    "        if self.transform is not None:\n",
    "            pil_img = self.transform(pil_img)\n",
    "\n",
    "        return pil_img, img.target\n",
    "\n",
    "    def __len__(self):\n",
    "        return self.length\n",
    "\n",
    "    def close(self):\n",
    "        self.env.close()\n",
    "\n",
    "\n",
    "class ImageDataset(torch.utils.data.Dataset):\n",
    "    def __init__(self, X, y, transform):\n",
    "        self.images = X[\"image_path\"].reset_index(drop=True)\n",
    "        self.y = y.reset_index(drop=True)\n",
    "        self.transform = transform\n",
    "\n",
    "        assert self.images.shape[0] == self.y.shape[0]\n",
    "\n",
    "    def __len__(self):\n",
    "        return len(self.images)\n",
    "\n",
    "    def __getitem__(self, idx):\n",
    "        img_path = self.images.iloc[idx]\n",
    "        with Image.open(img_path) as f:\n",
    "            image = f.convert(\"RGB\")\n",
    "        image = self.transform(image)\n",
    "        y = self.y.iloc[idx]\n",
    "        return image, y\n",
    "\n",
    "\n",
    "data_transforms = {\n",
    "    \"train\": transforms.Compose(\n",
    "        [\n",
    "            transforms.Resize(IMAGE_SIZE),\n",
    "            transforms.CenterCrop(IMAGE_SIZE),\n",
    "            transforms.RandomHorizontalFlip(),\n",
    "            transforms.ToTensor(),\n",
    "            transforms.Normalize([0.485, 0.456, 0.406], [0.229, 0.224, 0.225]),\n",
    "        ]\n",
    "    ),\n",
    "    \"val\": transforms.Compose(\n",
    "        [\n",
    "            # transforms.Resize(IMAGE_SIZE),\n",
    "            transforms.CenterCrop(IMAGE_SIZE),\n",
    "            transforms.ToTensor(),\n",
    "            transforms.Normalize([0.485, 0.456, 0.406], [0.229, 0.224, 0.225]),\n",
    "        ]\n",
    "    ),\n",
    "}"
   ]
  },
  {
   "cell_type": "code",
   "execution_count": 218,
   "metadata": {},
   "outputs": [],
   "source": [
    "X_nn_train, X_nn_val, y_nn_train, y_nn_val = train_test_split(\n",
    "    df_nn[[\"image_path\"]], np.log(df_nn.total_calories), test_size=0.33, random_state=42\n",
    ")"
   ]
  },
  {
   "cell_type": "code",
   "execution_count": 227,
   "metadata": {},
   "outputs": [],
   "source": [
    "dataloaders = {\n",
    "    \"train\": torch.utils.data.DataLoader(\n",
    "        ImageDataset(X_nn_train, y_nn_train, data_transforms[\"train\"]),\n",
    "        batch_size=128,\n",
    "        shuffle=False,\n",
    "        num_workers=0,\n",
    "        pin_memory=False,\n",
    "    ),\n",
    "    \"val\": torch.utils.data.DataLoader(\n",
    "        ImageDataset(X_nn_val, y_nn_val, data_transforms[\"val\"]),\n",
    "        batch_size=128,\n",
    "        shuffle=False,\n",
    "        num_workers=0,\n",
    "        pin_memory=False,\n",
    "    ),\n",
    "}\n",
    "\n",
    "dataset_sizes = {\"train\": X_nn_train.shape[0], \"val\": X_nn_val.shape[0]}"
   ]
  },
  {
   "cell_type": "code",
   "execution_count": 228,
   "metadata": {},
   "outputs": [],
   "source": [
    "mobile_net = models.mobilenet_v2(pretrained=True)"
   ]
  },
  {
   "cell_type": "code",
   "execution_count": 229,
   "metadata": {},
   "outputs": [
    {
     "data": {
      "text/plain": [
       "device(type='cuda', index=0)"
      ]
     },
     "execution_count": 229,
     "metadata": {},
     "output_type": "execute_result"
    }
   ],
   "source": [
    "device"
   ]
  },
  {
   "cell_type": "code",
   "execution_count": 230,
   "metadata": {},
   "outputs": [],
   "source": [
    "net = CalorieNet(mobile_net).to(device)"
   ]
  },
  {
   "cell_type": "code",
   "execution_count": 231,
   "metadata": {},
   "outputs": [],
   "source": [
    "def train_model(model, criterion, optimizer, scheduler, num_epochs=5):\n",
    "    writer = SummaryWriter()\n",
    "    since = time.time()\n",
    "    training_loss = []\n",
    "    validation_loss = []\n",
    "\n",
    "    for epoch in tqdm(range(num_epochs)):\n",
    "        for phase in [\"train\", \"val\"]:\n",
    "            if phase == \"train\":\n",
    "                model.train()\n",
    "            else:\n",
    "                model.eval()\n",
    "            running_loss = 0.0\n",
    "\n",
    "            i = 0\n",
    "            for inputs, targets in tqdm(dataloaders[phase]):\n",
    "                pass\n",
    "                # inputs = inputs.to(device)\n",
    "                # targets = targets.to(device)\n",
    "\n",
    "            if phase == \"train\":\n",
    "                scheduler.step()\n",
    "\n",
    "            epoch_loss = running_loss / dataset_sizes[phase]\n",
    "            if phase == \"train\":\n",
    "                training_loss.append(epoch_loss)\n",
    "                writer.add_scalar(\"Loss/train\", epoch_loss, epoch)\n",
    "            else:\n",
    "                validation_loss.append(epoch_loss)\n",
    "                writer.add_scalar(\"Loss/val\", epoch_loss, epoch)\n",
    "\n",
    "    time_elapsed = time.time() - since\n",
    "\n",
    "    print(f\"Training complete in {time_elapsed/60}m {time_elapsed % 60}s\")\n",
    "    writer.close()\n",
    "    return model, (training_loss, validation_loss)"
   ]
  },
  {
   "cell_type": "code",
   "execution_count": 232,
   "metadata": {},
   "outputs": [],
   "source": [
    "criterion = nn.L1Loss()\n",
    "optimizer = optim.SGD(net.parameters(), lr=0.001, momentum=0.9)\n",
    "exp_lr_scheduler = lr_scheduler.StepLR(optimizer, step_size=7, gamma=0.1)"
   ]
  },
  {
   "cell_type": "code",
   "execution_count": 233,
   "metadata": {},
   "outputs": [
    {
     "data": {
      "application/vnd.jupyter.widget-view+json": {
       "model_id": "eee7891b546c403091830d452a00718c",
       "version_major": 2,
       "version_minor": 0
      },
      "text/plain": [
       "HBox(children=(FloatProgress(value=0.0), HTML(value='')))"
      ]
     },
     "metadata": {},
     "output_type": "display_data"
    },
    {
     "data": {
      "application/vnd.jupyter.widget-view+json": {
       "model_id": "7098fa509d4849f084b239647050d96f",
       "version_major": 2,
       "version_minor": 0
      },
      "text/plain": [
       "HBox(children=(FloatProgress(value=0.0, max=6867.0), HTML(value='')))"
      ]
     },
     "metadata": {},
     "output_type": "display_data"
    },
    {
     "data": {
      "text/plain": [
       "Timer unit: 1e-06 s\n",
       "\n",
       "Total time: 49.9034 s\n",
       "File: <ipython-input-217-1d77cf6ff6d7>\n",
       "Function: __getitem__ at line 59\n",
       "\n",
       "Line #      Hits         Time  Per Hit   % Time  Line Contents\n",
       "==============================================================\n",
       "    59                                               def __getitem__(self, idx):\n",
       "    60     24933     586825.0     23.5      1.2          img_path = self.images.iloc[idx]\n",
       "    61     24933    5274259.0    211.5     10.6          with Image.open(img_path) as f:\n",
       "    62     24933    7026297.0    281.8     14.1              image = f.convert(\"RGB\")\n",
       "    63     24933   35738984.0   1433.4     71.6          image = self.transform(image)\n",
       "    64     24932    1259166.0     50.5      2.5          y = self.y.iloc[idx]\n",
       "    65     24932      17879.0      0.7      0.0          return image, y"
      ]
     },
     "metadata": {},
     "output_type": "display_data"
    },
    {
     "name": "stdout",
     "output_type": "stream",
     "text": [
      "*** KeyboardInterrupt exception caught in code being profiled."
     ]
    }
   ],
   "source": [
    "%lprun -f ImageDataset.__getitem__ model, metrics = train_model(net, criterion, optimizer, exp_lr_scheduler, num_epochs=100)"
   ]
  },
  {
   "cell_type": "code",
   "execution_count": null,
   "metadata": {},
   "outputs": [],
   "source": [
    "training_loss, validation_loss = metrics\n",
    "pd.DataFrame({\"training\": training_loss, \"validation\": validation_loss}).plot.line(\n",
    "    figsize=(15, 10)\n",
    ")"
   ]
  },
  {
   "cell_type": "code",
   "execution_count": null,
   "metadata": {},
   "outputs": [],
   "source": [
    "predict_dataloader = torch.utils.data.DataLoader(\n",
    "    ImageDataset(X_nn_val, y_nn_val, data_transforms[\"val\"]),\n",
    "    batch_size=100,\n",
    "    shuffle=False,\n",
    "    num_workers=3,\n",
    ")"
   ]
  },
  {
   "cell_type": "code",
   "execution_count": null,
   "metadata": {},
   "outputs": [],
   "source": [
    "y_pred_nn = []\n",
    "for inputs, _ in predict_dataloader:\n",
    "    inputs = inputs.to(device)\n",
    "    y_pred_nn.append(model(inputs).to(cpu))"
   ]
  },
  {
   "cell_type": "code",
   "execution_count": null,
   "metadata": {},
   "outputs": [],
   "source": [
    "y_pred_nn_np = torch.flatten(torch.cat(y_pred_nn)).detach().numpy()"
   ]
  },
  {
   "cell_type": "code",
   "execution_count": null,
   "metadata": {},
   "outputs": [],
   "source": [
    "y_pred_nn"
   ]
  },
  {
   "cell_type": "code",
   "execution_count": null,
   "metadata": {},
   "outputs": [],
   "source": [
    "df_nn_results = get_metrics(\"nn\", y_nn_val, y_pred_nn_np)\n",
    "df_nn_results"
   ]
  },
  {
   "cell_type": "markdown",
   "metadata": {},
   "source": [
    "## Create Baseline"
   ]
  },
  {
   "cell_type": "code",
   "execution_count": null,
   "metadata": {},
   "outputs": [],
   "source": [
    "from sklearn.base import BaseEstimator\n",
    "from sklearn.base import RegressorMixin\n",
    "from sklearn.utils.validation import check_is_fitted\n",
    "\n",
    "\n",
    "class BaselineModel(BaseEstimator, RegressorMixin):\n",
    "    def __init__(self):\n",
    "        pass\n",
    "\n",
    "    def fit(self, _, y):\n",
    "        self.mean_ = y.mean()\n",
    "        return self\n",
    "\n",
    "    def predict(self, X):\n",
    "        check_is_fitted(self, [])\n",
    "\n",
    "        return np.array(X.shape[0] * [self.mean_])"
   ]
  },
  {
   "cell_type": "code",
   "execution_count": null,
   "metadata": {},
   "outputs": [],
   "source": [
    "baseline_model = BaselineModel()"
   ]
  },
  {
   "cell_type": "code",
   "execution_count": null,
   "metadata": {},
   "outputs": [],
   "source": [
    "baseline_model.fit(X_nn_train, y_nn_train)"
   ]
  },
  {
   "cell_type": "code",
   "execution_count": null,
   "metadata": {},
   "outputs": [],
   "source": [
    "y_pred_baseline = baseline_model.predict(X_nn_val)"
   ]
  },
  {
   "cell_type": "code",
   "execution_count": null,
   "metadata": {},
   "outputs": [],
   "source": [
    "df_baseline_results = get_metrics(\"baseline\", y_nn_val, y_pred_baseline)\n",
    "df_baseline_results"
   ]
  },
  {
   "cell_type": "markdown",
   "metadata": {},
   "source": [
    "## Compare NN to Baseline"
   ]
  },
  {
   "cell_type": "code",
   "execution_count": null,
   "metadata": {},
   "outputs": [],
   "source": [
    "df_results = pd.concat([df_baseline_results, df_nn_results]).reset_index(drop=True).T\n",
    "df_results.columns = df_results.loc[\"experiment_name\"].values\n",
    "df_results = df_results.iloc[1:]"
   ]
  },
  {
   "cell_type": "code",
   "execution_count": null,
   "metadata": {},
   "outputs": [],
   "source": [
    "df_results"
   ]
  },
  {
   "cell_type": "code",
   "execution_count": null,
   "metadata": {},
   "outputs": [],
   "source": [
    "df_results.plot.bar(log=True, figsize=(12, 7))"
   ]
  },
  {
   "cell_type": "markdown",
   "metadata": {},
   "source": [
    "## Inspect predictions"
   ]
  },
  {
   "cell_type": "code",
   "execution_count": null,
   "metadata": {},
   "outputs": [],
   "source": [
    "ylim = (0, 1200)"
   ]
  },
  {
   "cell_type": "code",
   "execution_count": null,
   "metadata": {},
   "outputs": [],
   "source": [
    "df_nn.loc[X_nn_train.index].total_calories.plot.hist(\n",
    "    bins=300, figsize=(16, 11), ylim=ylim\n",
    ")"
   ]
  },
  {
   "cell_type": "code",
   "execution_count": null,
   "metadata": {},
   "outputs": [],
   "source": [
    "df_predictions = df_nn.loc[X_nn_val.index].assign(\n",
    "    predicted_calories=np.exp(y_pred_nn_np)\n",
    ")"
   ]
  },
  {
   "cell_type": "code",
   "execution_count": null,
   "metadata": {},
   "outputs": [],
   "source": [
    "df_predictions[[\"total_calories\", \"predicted_calories\"]].plot.hist(\n",
    "    bins=300, figsize=(16, 11), alpha=0.8, ylim=ylim\n",
    ")"
   ]
  },
  {
   "cell_type": "code",
   "execution_count": null,
   "metadata": {},
   "outputs": [],
   "source": [
    "df_predictions_sample = df_predictions\n",
    "line = (\n",
    "    alt.Chart(df_predictions_sample)\n",
    "    .mark_line()\n",
    "    .encode(x=\"total_calories\", y=\"total_calories\")\n",
    ")\n",
    "\n",
    "scatter = (\n",
    "    alt.Chart(df_predictions_sample)\n",
    "    .mark_circle(color=\"red\")\n",
    "    .encode(\n",
    "        x=\"total_calories\",\n",
    "        y=\"predicted_calories\",\n",
    "        tooltip=[\"title\", \"total_calories\", \"predicted_calories\"],\n",
    "    )\n",
    ").interactive()\n",
    "\n",
    "(line + scatter).properties(width=800, height=800)"
   ]
  },
  {
   "cell_type": "code",
   "execution_count": null,
   "metadata": {},
   "outputs": [],
   "source": [
    "NON_FEATURE_COLS = [\"title\", \"total_calories\", \"servings\", \"predicted_calories\"]"
   ]
  },
  {
   "cell_type": "code",
   "execution_count": null,
   "metadata": {},
   "outputs": [],
   "source": [
    "df_high_cal = df_predictions[df_predictions.predicted_calories > 300]\n",
    "df_low_cal = df_predictions[df_predictions.predicted_calories < 120]"
   ]
  },
  {
   "cell_type": "code",
   "execution_count": null,
   "metadata": {},
   "outputs": [],
   "source": [
    "df_high_cal[NON_FEATURE_COLS].sample(10)"
   ]
  },
  {
   "cell_type": "code",
   "execution_count": null,
   "metadata": {},
   "outputs": [],
   "source": [
    "df_low_cal[NON_FEATURE_COLS].sample(10)"
   ]
  },
  {
   "cell_type": "code",
   "execution_count": null,
   "metadata": {},
   "outputs": [],
   "source": [
    "df_high_cal[NON_FEATURE_COLS].describe()"
   ]
  },
  {
   "cell_type": "code",
   "execution_count": null,
   "metadata": {},
   "outputs": [],
   "source": [
    "df_low_cal[NON_FEATURE_COLS].describe()"
   ]
  },
  {
   "cell_type": "code",
   "execution_count": null,
   "metadata": {},
   "outputs": [],
   "source": [
    "high_cal_wc = WordCloud().generate(\" \".join(df_high_cal.title.str.lower()))\n",
    "low_cal_wc = WordCloud().generate(\" \".join(df_low_cal.title.str.lower()))"
   ]
  },
  {
   "cell_type": "code",
   "execution_count": null,
   "metadata": {},
   "outputs": [],
   "source": [
    "plt.figure(figsize=(15, 15))\n",
    "plt.imshow(high_cal_wc, interpolation=\"nearest\")"
   ]
  },
  {
   "cell_type": "code",
   "execution_count": null,
   "metadata": {},
   "outputs": [],
   "source": [
    "plt.figure(figsize=(15, 15))\n",
    "plt.imshow(low_cal_wc, interpolation=\"nearest\")"
   ]
  },
  {
   "cell_type": "markdown",
   "metadata": {},
   "source": [
    "# Persist Model"
   ]
  },
  {
   "cell_type": "code",
   "execution_count": null,
   "metadata": {},
   "outputs": [],
   "source": [
    "!ls ../../models"
   ]
  },
  {
   "cell_type": "code",
   "execution_count": null,
   "metadata": {},
   "outputs": [],
   "source": [
    "torch.save(model_ft, \"../../models/calorie_regression_mobilenet_.pt\")"
   ]
  },
  {
   "cell_type": "code",
   "execution_count": null,
   "metadata": {},
   "outputs": [],
   "source": []
  }
 ],
 "metadata": {
  "kernelspec": {
   "display_name": "Python 3",
   "language": "python",
   "name": "python3"
  },
  "language_info": {
   "codemirror_mode": {
    "name": "ipython",
    "version": 3
   },
   "file_extension": ".py",
   "mimetype": "text/x-python",
   "name": "python",
   "nbconvert_exporter": "python",
   "pygments_lexer": "ipython3",
   "version": "3.7.6"
  }
 },
 "nbformat": 4,
 "nbformat_minor": 4
}
