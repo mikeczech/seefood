{
 "cells": [
  {
   "cell_type": "code",
   "execution_count": 2,
   "metadata": {},
   "outputs": [],
   "source": [
    "%load_ext lab_black"
   ]
  },
  {
   "cell_type": "code",
   "execution_count": 3,
   "metadata": {},
   "outputs": [],
   "source": [
    "%load_ext autoreload\n",
    "%autoreload 2"
   ]
  },
  {
   "cell_type": "code",
   "execution_count": 4,
   "metadata": {},
   "outputs": [],
   "source": [
    "import sys\n",
    "\n",
    "sys.path.insert(0, \"../..\")"
   ]
  },
  {
   "cell_type": "code",
   "execution_count": 5,
   "metadata": {},
   "outputs": [],
   "source": [
    "import time\n",
    "import copy\n",
    "\n",
    "import pandas as pd\n",
    "import numpy as np\n",
    "import altair as alt\n",
    "\n",
    "import matplotlib.pyplot as plt\n",
    "\n",
    "from tqdm.notebook import tqdm\n",
    "\n",
    "from sklearn.model_selection import train_test_split\n",
    "\n",
    "from sklearn.metrics import explained_variance_score\n",
    "from sklearn.metrics import max_error\n",
    "from sklearn.metrics import mean_absolute_error\n",
    "from sklearn.metrics import mean_squared_error\n",
    "from sklearn.metrics import mean_squared_log_error\n",
    "from sklearn.metrics import median_absolute_error\n",
    "from sklearn.metrics import r2_score\n",
    "\n",
    "import torch\n",
    "import torch.nn as nn\n",
    "import torch.optim as optim\n",
    "from torch.optim import lr_scheduler\n",
    "from torchvision import datasets, models, transforms\n",
    "from torch.utils.tensorboard import SummaryWriter\n",
    "from PIL import Image, ImageFile\n",
    "\n",
    "from seefood.model import CalorieNet\n",
    "\n",
    "ImageFile.LOAD_TRUNCATED_IMAGES = True\n",
    "\n",
    "from wordcloud import WordCloud\n",
    "import matplotlib.pyplot as plt"
   ]
  },
  {
   "cell_type": "code",
   "execution_count": 6,
   "metadata": {},
   "outputs": [],
   "source": [
    "def get_metrics(name, y_test, y_pred):\n",
    "    return pd.DataFrame(\n",
    "        {\n",
    "            \"experiment_name\": name,\n",
    "            \"r2_score\": [r2_score(y_test, y_pred)],\n",
    "            \"explained_variance_score\": [explained_variance_score(y_test, y_pred)],\n",
    "            \"max_error\": [max_error(y_test, y_pred)],\n",
    "            \"mean_absolute_error\": [mean_absolute_error(y_test, y_pred)],\n",
    "            \"mean_squared_error\": [mean_squared_error(y_test, y_pred)],\n",
    "            \"median_absolute_error\": [median_absolute_error(y_test, y_pred)],\n",
    "        }\n",
    "    )"
   ]
  },
  {
   "cell_type": "markdown",
   "metadata": {},
   "source": [
    "## Load data"
   ]
  },
  {
   "cell_type": "code",
   "execution_count": 7,
   "metadata": {},
   "outputs": [
    {
     "data": {
      "text/html": [
       "<div>\n",
       "<style scoped>\n",
       "    .dataframe tbody tr th:only-of-type {\n",
       "        vertical-align: middle;\n",
       "    }\n",
       "\n",
       "    .dataframe tbody tr th {\n",
       "        vertical-align: top;\n",
       "    }\n",
       "\n",
       "    .dataframe thead th {\n",
       "        text-align: right;\n",
       "    }\n",
       "</style>\n",
       "<table border=\"1\" class=\"dataframe\">\n",
       "  <thead>\n",
       "    <tr style=\"text-align: right;\">\n",
       "      <th></th>\n",
       "      <th>recipe_id</th>\n",
       "      <th>title</th>\n",
       "      <th>total_calories</th>\n",
       "      <th>url</th>\n",
       "      <th>servings</th>\n",
       "    </tr>\n",
       "  </thead>\n",
       "  <tbody>\n",
       "    <tr>\n",
       "      <th>0</th>\n",
       "      <td>19</td>\n",
       "      <td>Turkey Stuffed Cabbage</td>\n",
       "      <td>155.5</td>\n",
       "      <td>https://recipes.sparkpeople.com/recipe-detail....</td>\n",
       "      <td>10.0</td>\n",
       "    </tr>\n",
       "    <tr>\n",
       "      <th>1</th>\n",
       "      <td>25</td>\n",
       "      <td>Easy Lemon Chicken</td>\n",
       "      <td>318.0</td>\n",
       "      <td>https://recipes.sparkpeople.com/recipe-detail....</td>\n",
       "      <td>4.0</td>\n",
       "    </tr>\n",
       "    <tr>\n",
       "      <th>2</th>\n",
       "      <td>29</td>\n",
       "      <td>Bavarian Beef</td>\n",
       "      <td>256.1</td>\n",
       "      <td>https://recipes.sparkpeople.com/recipe-detail....</td>\n",
       "      <td>5.0</td>\n",
       "    </tr>\n",
       "    <tr>\n",
       "      <th>3</th>\n",
       "      <td>37</td>\n",
       "      <td>Garlic Mashed Potatoes</td>\n",
       "      <td>167.6</td>\n",
       "      <td>https://recipes.sparkpeople.com/recipe-detail....</td>\n",
       "      <td>4.0</td>\n",
       "    </tr>\n",
       "    <tr>\n",
       "      <th>4</th>\n",
       "      <td>40</td>\n",
       "      <td>Wonderful Stuffed Potatoes</td>\n",
       "      <td>164.4</td>\n",
       "      <td>https://recipes.sparkpeople.com/recipe-detail....</td>\n",
       "      <td>8.0</td>\n",
       "    </tr>\n",
       "    <tr>\n",
       "      <th>...</th>\n",
       "      <td>...</td>\n",
       "      <td>...</td>\n",
       "      <td>...</td>\n",
       "      <td>...</td>\n",
       "      <td>...</td>\n",
       "    </tr>\n",
       "    <tr>\n",
       "      <th>446709</th>\n",
       "      <td>3199895</td>\n",
       "      <td>M4G's Loaded Split Pea &amp; Ham Soup</td>\n",
       "      <td>164.4</td>\n",
       "      <td>https://recipes.sparkpeople.com/recipe-detail....</td>\n",
       "      <td>16.0</td>\n",
       "    </tr>\n",
       "    <tr>\n",
       "      <th>446710</th>\n",
       "      <td>3199906</td>\n",
       "      <td>Vegetarian Skyline Chili</td>\n",
       "      <td>191.6</td>\n",
       "      <td>https://recipes.sparkpeople.com/recipe-detail....</td>\n",
       "      <td>4.0</td>\n",
       "    </tr>\n",
       "    <tr>\n",
       "      <th>446711</th>\n",
       "      <td>3199939</td>\n",
       "      <td>2 FEV 17 Lemon cheese cake fat bomb</td>\n",
       "      <td>122.9</td>\n",
       "      <td>https://recipes.sparkpeople.com/recipe-detail....</td>\n",
       "      <td>14.0</td>\n",
       "    </tr>\n",
       "    <tr>\n",
       "      <th>446712</th>\n",
       "      <td>3199943</td>\n",
       "      <td>Lentil soup</td>\n",
       "      <td>117.8</td>\n",
       "      <td>https://recipes.sparkpeople.com/recipe-detail....</td>\n",
       "      <td>6.0</td>\n",
       "    </tr>\n",
       "    <tr>\n",
       "      <th>446713</th>\n",
       "      <td>3199966</td>\n",
       "      <td>THM Turtle Bars</td>\n",
       "      <td>301.1</td>\n",
       "      <td>https://recipes.sparkpeople.com/recipe-detail....</td>\n",
       "      <td>16.0</td>\n",
       "    </tr>\n",
       "  </tbody>\n",
       "</table>\n",
       "<p>446714 rows × 5 columns</p>\n",
       "</div>"
      ],
      "text/plain": [
       "        recipe_id                                 title  total_calories  \\\n",
       "0              19               Turkey Stuffed Cabbage            155.5   \n",
       "1              25                   Easy Lemon Chicken            318.0   \n",
       "2              29                        Bavarian Beef            256.1   \n",
       "3              37               Garlic Mashed Potatoes            167.6   \n",
       "4              40           Wonderful Stuffed Potatoes            164.4   \n",
       "...           ...                                   ...             ...   \n",
       "446709    3199895    M4G's Loaded Split Pea & Ham Soup            164.4   \n",
       "446710    3199906              Vegetarian Skyline Chili           191.6   \n",
       "446711    3199939  2 FEV 17 Lemon cheese cake fat bomb            122.9   \n",
       "446712    3199943                           Lentil soup           117.8   \n",
       "446713    3199966                       THM Turtle Bars           301.1   \n",
       "\n",
       "                                                      url  servings  \n",
       "0       https://recipes.sparkpeople.com/recipe-detail....      10.0  \n",
       "1       https://recipes.sparkpeople.com/recipe-detail....       4.0  \n",
       "2       https://recipes.sparkpeople.com/recipe-detail....       5.0  \n",
       "3       https://recipes.sparkpeople.com/recipe-detail....       4.0  \n",
       "4       https://recipes.sparkpeople.com/recipe-detail....       8.0  \n",
       "...                                                   ...       ...  \n",
       "446709  https://recipes.sparkpeople.com/recipe-detail....      16.0  \n",
       "446710  https://recipes.sparkpeople.com/recipe-detail....       4.0  \n",
       "446711  https://recipes.sparkpeople.com/recipe-detail....      14.0  \n",
       "446712  https://recipes.sparkpeople.com/recipe-detail....       6.0  \n",
       "446713  https://recipes.sparkpeople.com/recipe-detail....      16.0  \n",
       "\n",
       "[446714 rows x 5 columns]"
      ]
     },
     "execution_count": 7,
     "metadata": {},
     "output_type": "execute_result"
    }
   ],
   "source": [
    "df_recipes = pd.read_csv(\"../../data/sparkrecipes_filtered.csv\")\n",
    "df_recipes"
   ]
  },
  {
   "cell_type": "code",
   "execution_count": 8,
   "metadata": {},
   "outputs": [
    {
     "data": {
      "text/plain": [
       "(1726537, 2)"
      ]
     },
     "execution_count": 8,
     "metadata": {},
     "output_type": "execute_result"
    }
   ],
   "source": [
    "df_images = pd.read_csv(\"../../data/sparkrecipes_images.csv\")\n",
    "df_images.shape"
   ]
  },
  {
   "cell_type": "code",
   "execution_count": 9,
   "metadata": {},
   "outputs": [
    {
     "data": {
      "text/html": [
       "<div>\n",
       "<style scoped>\n",
       "    .dataframe tbody tr th:only-of-type {\n",
       "        vertical-align: middle;\n",
       "    }\n",
       "\n",
       "    .dataframe tbody tr th {\n",
       "        vertical-align: top;\n",
       "    }\n",
       "\n",
       "    .dataframe thead th {\n",
       "        text-align: right;\n",
       "    }\n",
       "</style>\n",
       "<table border=\"1\" class=\"dataframe\">\n",
       "  <thead>\n",
       "    <tr style=\"text-align: right;\">\n",
       "      <th></th>\n",
       "      <th>recipe_id</th>\n",
       "      <th>title</th>\n",
       "      <th>total_calories</th>\n",
       "      <th>url</th>\n",
       "      <th>servings</th>\n",
       "      <th>image_path</th>\n",
       "    </tr>\n",
       "  </thead>\n",
       "  <tbody>\n",
       "    <tr>\n",
       "      <th>811957</th>\n",
       "      <td>265013</td>\n",
       "      <td>Far East Rice</td>\n",
       "      <td>270.1</td>\n",
       "      <td>https://recipes.sparkpeople.com/recipe-detail....</td>\n",
       "      <td>4.0</td>\n",
       "      <td>../../data/images/265013/000002</td>\n",
       "    </tr>\n",
       "    <tr>\n",
       "      <th>171108</th>\n",
       "      <td>63163</td>\n",
       "      <td>Oatmeal Pancakes</td>\n",
       "      <td>110.7</td>\n",
       "      <td>https://recipes.sparkpeople.com/recipe-detail....</td>\n",
       "      <td>6.0</td>\n",
       "      <td>../../data/images/63163/000005</td>\n",
       "    </tr>\n",
       "    <tr>\n",
       "      <th>1114165</th>\n",
       "      <td>364264</td>\n",
       "      <td>Jo's Special</td>\n",
       "      <td>88.5</td>\n",
       "      <td>https://recipes.sparkpeople.com/recipe-detail....</td>\n",
       "      <td>6.0</td>\n",
       "      <td>../../data/images/364264/000008</td>\n",
       "    </tr>\n",
       "    <tr>\n",
       "      <th>148933</th>\n",
       "      <td>56675</td>\n",
       "      <td>Verde Chicken Enchiladas</td>\n",
       "      <td>422.4</td>\n",
       "      <td>https://recipes.sparkpeople.com/recipe-detail....</td>\n",
       "      <td>4.0</td>\n",
       "      <td>../../data/images/56675/000005</td>\n",
       "    </tr>\n",
       "    <tr>\n",
       "      <th>613070</th>\n",
       "      <td>201830</td>\n",
       "      <td>Cock-a-Leekie</td>\n",
       "      <td>135.0</td>\n",
       "      <td>https://recipes.sparkpeople.com/recipe-detail....</td>\n",
       "      <td>7.0</td>\n",
       "      <td>../../data/images/201830/000015</td>\n",
       "    </tr>\n",
       "    <tr>\n",
       "      <th>...</th>\n",
       "      <td>...</td>\n",
       "      <td>...</td>\n",
       "      <td>...</td>\n",
       "      <td>...</td>\n",
       "      <td>...</td>\n",
       "      <td>...</td>\n",
       "    </tr>\n",
       "    <tr>\n",
       "      <th>1132086</th>\n",
       "      <td>370377</td>\n",
       "      <td>Green Beans with Tomatoes and Cheese</td>\n",
       "      <td>116.3</td>\n",
       "      <td>https://recipes.sparkpeople.com/recipe-detail....</td>\n",
       "      <td>4.0</td>\n",
       "      <td>../../data/images/370377/000011</td>\n",
       "    </tr>\n",
       "    <tr>\n",
       "      <th>714130</th>\n",
       "      <td>231659</td>\n",
       "      <td>Beef &amp; Pepper Soup</td>\n",
       "      <td>115.9</td>\n",
       "      <td>https://recipes.sparkpeople.com/recipe-detail....</td>\n",
       "      <td>12.0</td>\n",
       "      <td>../../data/images/231659/000008</td>\n",
       "    </tr>\n",
       "    <tr>\n",
       "      <th>1281872</th>\n",
       "      <td>423643</td>\n",
       "      <td>Chicken salad</td>\n",
       "      <td>159.7</td>\n",
       "      <td>https://recipes.sparkpeople.com/recipe-detail....</td>\n",
       "      <td>6.0</td>\n",
       "      <td>../../data/images/423643/000007</td>\n",
       "    </tr>\n",
       "    <tr>\n",
       "      <th>1182415</th>\n",
       "      <td>387110</td>\n",
       "      <td>Potato soup</td>\n",
       "      <td>126.1</td>\n",
       "      <td>https://recipes.sparkpeople.com/recipe-detail....</td>\n",
       "      <td>14.0</td>\n",
       "      <td>../../data/images/387110/000002</td>\n",
       "    </tr>\n",
       "    <tr>\n",
       "      <th>489885</th>\n",
       "      <td>164270</td>\n",
       "      <td>Southwestern Eggrolls</td>\n",
       "      <td>250.2</td>\n",
       "      <td>https://recipes.sparkpeople.com/recipe-detail....</td>\n",
       "      <td>7.0</td>\n",
       "      <td>../../data/images/164270/000007</td>\n",
       "    </tr>\n",
       "  </tbody>\n",
       "</table>\n",
       "<p>100 rows × 6 columns</p>\n",
       "</div>"
      ],
      "text/plain": [
       "         recipe_id                                 title  total_calories  \\\n",
       "811957      265013                         Far East Rice           270.1   \n",
       "171108       63163                      Oatmeal Pancakes           110.7   \n",
       "1114165     364264                          Jo's Special            88.5   \n",
       "148933       56675              Verde Chicken Enchiladas           422.4   \n",
       "613070      201830                         Cock-a-Leekie           135.0   \n",
       "...            ...                                   ...             ...   \n",
       "1132086     370377  Green Beans with Tomatoes and Cheese           116.3   \n",
       "714130      231659                    Beef & Pepper Soup           115.9   \n",
       "1281872     423643                         Chicken salad           159.7   \n",
       "1182415     387110                           Potato soup           126.1   \n",
       "489885      164270                 Southwestern Eggrolls           250.2   \n",
       "\n",
       "                                                       url  servings  \\\n",
       "811957   https://recipes.sparkpeople.com/recipe-detail....       4.0   \n",
       "171108   https://recipes.sparkpeople.com/recipe-detail....       6.0   \n",
       "1114165  https://recipes.sparkpeople.com/recipe-detail....       6.0   \n",
       "148933   https://recipes.sparkpeople.com/recipe-detail....       4.0   \n",
       "613070   https://recipes.sparkpeople.com/recipe-detail....       7.0   \n",
       "...                                                    ...       ...   \n",
       "1132086  https://recipes.sparkpeople.com/recipe-detail....       4.0   \n",
       "714130   https://recipes.sparkpeople.com/recipe-detail....      12.0   \n",
       "1281872  https://recipes.sparkpeople.com/recipe-detail....       6.0   \n",
       "1182415  https://recipes.sparkpeople.com/recipe-detail....      14.0   \n",
       "489885   https://recipes.sparkpeople.com/recipe-detail....       7.0   \n",
       "\n",
       "                              image_path  \n",
       "811957   ../../data/images/265013/000002  \n",
       "171108    ../../data/images/63163/000005  \n",
       "1114165  ../../data/images/364264/000008  \n",
       "148933    ../../data/images/56675/000005  \n",
       "613070   ../../data/images/201830/000015  \n",
       "...                                  ...  \n",
       "1132086  ../../data/images/370377/000011  \n",
       "714130   ../../data/images/231659/000008  \n",
       "1281872  ../../data/images/423643/000007  \n",
       "1182415  ../../data/images/387110/000002  \n",
       "489885   ../../data/images/164270/000007  \n",
       "\n",
       "[100 rows x 6 columns]"
      ]
     },
     "execution_count": 9,
     "metadata": {},
     "output_type": "execute_result"
    }
   ],
   "source": [
    "df_nn = df_recipes.merge(df_images, how=\"inner\").sample(100)\n",
    "df_nn"
   ]
  },
  {
   "cell_type": "code",
   "execution_count": 10,
   "metadata": {},
   "outputs": [
    {
     "data": {
      "text/html": [
       "<div>\n",
       "<style scoped>\n",
       "    .dataframe tbody tr th:only-of-type {\n",
       "        vertical-align: middle;\n",
       "    }\n",
       "\n",
       "    .dataframe tbody tr th {\n",
       "        vertical-align: top;\n",
       "    }\n",
       "\n",
       "    .dataframe thead th {\n",
       "        text-align: right;\n",
       "    }\n",
       "</style>\n",
       "<table border=\"1\" class=\"dataframe\">\n",
       "  <thead>\n",
       "    <tr style=\"text-align: right;\">\n",
       "      <th></th>\n",
       "      <th>recipe_id</th>\n",
       "      <th>total_calories</th>\n",
       "      <th>servings</th>\n",
       "    </tr>\n",
       "  </thead>\n",
       "  <tbody>\n",
       "    <tr>\n",
       "      <th>count</th>\n",
       "      <td>100.000000</td>\n",
       "      <td>100.000000</td>\n",
       "      <td>100.000000</td>\n",
       "    </tr>\n",
       "    <tr>\n",
       "      <th>mean</th>\n",
       "      <td>214605.920000</td>\n",
       "      <td>208.756000</td>\n",
       "      <td>6.990000</td>\n",
       "    </tr>\n",
       "    <tr>\n",
       "      <th>std</th>\n",
       "      <td>126695.405274</td>\n",
       "      <td>96.977845</td>\n",
       "      <td>3.630663</td>\n",
       "    </tr>\n",
       "    <tr>\n",
       "      <th>min</th>\n",
       "      <td>1342.000000</td>\n",
       "      <td>47.600000</td>\n",
       "      <td>2.000000</td>\n",
       "    </tr>\n",
       "    <tr>\n",
       "      <th>25%</th>\n",
       "      <td>101495.750000</td>\n",
       "      <td>126.400000</td>\n",
       "      <td>4.000000</td>\n",
       "    </tr>\n",
       "    <tr>\n",
       "      <th>50%</th>\n",
       "      <td>217855.500000</td>\n",
       "      <td>198.000000</td>\n",
       "      <td>6.000000</td>\n",
       "    </tr>\n",
       "    <tr>\n",
       "      <th>75%</th>\n",
       "      <td>310234.500000</td>\n",
       "      <td>281.350000</td>\n",
       "      <td>8.250000</td>\n",
       "    </tr>\n",
       "    <tr>\n",
       "      <th>max</th>\n",
       "      <td>432207.000000</td>\n",
       "      <td>434.700000</td>\n",
       "      <td>16.000000</td>\n",
       "    </tr>\n",
       "  </tbody>\n",
       "</table>\n",
       "</div>"
      ],
      "text/plain": [
       "           recipe_id  total_calories    servings\n",
       "count     100.000000      100.000000  100.000000\n",
       "mean   214605.920000      208.756000    6.990000\n",
       "std    126695.405274       96.977845    3.630663\n",
       "min      1342.000000       47.600000    2.000000\n",
       "25%    101495.750000      126.400000    4.000000\n",
       "50%    217855.500000      198.000000    6.000000\n",
       "75%    310234.500000      281.350000    8.250000\n",
       "max    432207.000000      434.700000   16.000000"
      ]
     },
     "execution_count": 10,
     "metadata": {},
     "output_type": "execute_result"
    }
   ],
   "source": [
    "df_nn.describe()"
   ]
  },
  {
   "cell_type": "code",
   "execution_count": 11,
   "metadata": {},
   "outputs": [
    {
     "data": {
      "image/png": "[encoded data removed]",
      "text/plain": [
       "<Figure size 720x504 with 1 Axes>"
      ]
     },
     "metadata": {
      "needs_background": "light"
     },
     "output_type": "display_data"
    }
   ],
   "source": [
    "_ = df_nn.total_calories.hist(bins=150, figsize=(10, 7))"
   ]
  },
  {
   "cell_type": "markdown",
   "metadata": {},
   "source": [
    "# Train Neural Network"
   ]
  },
  {
   "cell_type": "code",
   "execution_count": 12,
   "metadata": {},
   "outputs": [],
   "source": [
    "IMAGE_SIZE = 224\n",
    "\n",
    "\n",
    "class ImageDataset(torch.utils.data.Dataset):\n",
    "    def __init__(self, X, y, transform):\n",
    "        self.images = X[\"image_path\"].reset_index(drop=True)\n",
    "        self.y = y.reset_index(drop=True)\n",
    "        self.transform = transform\n",
    "\n",
    "        assert self.images.shape[0] == self.y.shape[0]\n",
    "\n",
    "    def __len__(self):\n",
    "        return len(self.images)\n",
    "\n",
    "    def __getitem__(self, idx):\n",
    "        img_path = self.images.iloc[idx]\n",
    "        image = Image.open(img_path).convert(\"RGB\")\n",
    "        image = self.transform(image)\n",
    "        y = self.y.iloc[idx]\n",
    "        return image, y\n",
    "\n",
    "\n",
    "data_transforms = {\n",
    "    \"train\": transforms.Compose(\n",
    "        [\n",
    "            transforms.Resize(IMAGE_SIZE),\n",
    "            transforms.CenterCrop(IMAGE_SIZE),\n",
    "            transforms.RandomHorizontalFlip(),\n",
    "            transforms.ToTensor(),\n",
    "            transforms.Normalize([0.485, 0.456, 0.406], [0.229, 0.224, 0.225]),\n",
    "        ]\n",
    "    ),\n",
    "    \"val\": transforms.Compose(\n",
    "        [\n",
    "            transforms.Resize(IMAGE_SIZE),\n",
    "            transforms.CenterCrop(IMAGE_SIZE),\n",
    "            transforms.ToTensor(),\n",
    "            transforms.Normalize([0.485, 0.456, 0.406], [0.229, 0.224, 0.225]),\n",
    "        ]\n",
    "    ),\n",
    "}"
   ]
  },
  {
   "cell_type": "code",
   "execution_count": 13,
   "metadata": {},
   "outputs": [],
   "source": [
    "X_nn_train, X_nn_val, y_nn_train, y_nn_val = train_test_split(\n",
    "    df_nn[[\"image_path\"]], np.log(df_nn.total_calories), test_size=0.33, random_state=42\n",
    ")"
   ]
  },
  {
   "cell_type": "code",
   "execution_count": 14,
   "metadata": {},
   "outputs": [],
   "source": [
    "dataloaders = {\n",
    "    \"train\": torch.utils.data.DataLoader(\n",
    "        ImageDataset(X_nn_train, y_nn_train, data_transforms[\"train\"]),\n",
    "        batch_size=16,\n",
    "        shuffle=True,\n",
    "        num_workers=3,\n",
    "    ),\n",
    "    \"val\": torch.utils.data.DataLoader(\n",
    "        ImageDataset(X_nn_val, y_nn_val, data_transforms[\"val\"]),\n",
    "        batch_size=16,\n",
    "        shuffle=True,\n",
    "        num_workers=3,\n",
    "    ),\n",
    "}\n",
    "\n",
    "dataset_sizes = {\"train\": X_nn_train.shape[0], \"val\": X_nn_val.shape[0]}"
   ]
  },
  {
   "cell_type": "code",
   "execution_count": 15,
   "metadata": {},
   "outputs": [],
   "source": [
    "device = torch.device(\"cuda:0\" if torch.cuda.is_available() else \"cpu\")\n",
    "cpu = torch.device(\"cpu\")\n",
    "mobile_net = models.mobilenet_v2(pretrained=True)"
   ]
  },
  {
   "cell_type": "code",
   "execution_count": 16,
   "metadata": {},
   "outputs": [
    {
     "data": {
      "text/plain": [
       "device(type='cuda', index=0)"
      ]
     },
     "execution_count": 16,
     "metadata": {},
     "output_type": "execute_result"
    }
   ],
   "source": [
    "device"
   ]
  },
  {
   "cell_type": "code",
   "execution_count": 17,
   "metadata": {},
   "outputs": [],
   "source": [
    "net = CalorieNet(mobile_net).to(device)"
   ]
  },
  {
   "cell_type": "code",
   "execution_count": 18,
   "metadata": {},
   "outputs": [],
   "source": [
    "def train_model(model, criterion, optimizer, scheduler, num_epochs=5):\n",
    "    writer = SummaryWriter()\n",
    "    since = time.time()\n",
    "    training_loss = []\n",
    "    validation_loss = []\n",
    "\n",
    "    for epoch in tqdm(range(num_epochs)):\n",
    "        for phase in [\"train\", \"val\"]:\n",
    "            if phase == \"train\":\n",
    "                model.train()\n",
    "            else:\n",
    "                model.eval()\n",
    "\n",
    "            running_loss = 0.0\n",
    "            for inputs, targets in dataloaders[phase]:\n",
    "                inputs = inputs.to(device)\n",
    "                targets = targets.to(device)\n",
    "\n",
    "                optimizer.zero_grad()\n",
    "                with torch.set_grad_enabled(phase == \"train\"):\n",
    "                    outputs = model(inputs)\n",
    "                    loss = criterion(outputs, targets)\n",
    "                    if phase == \"train\":\n",
    "                        loss.backward()\n",
    "                        optimizer.step()\n",
    "                running_loss += loss.item() * inputs.size(0)\n",
    "\n",
    "            if phase == \"train\":\n",
    "                scheduler.step()\n",
    "\n",
    "            epoch_loss = running_loss / dataset_sizes[phase]\n",
    "            if phase == \"train\":\n",
    "                training_loss.append(epoch_loss)\n",
    "                writer.add_scalar(\"Loss/train\", epoch_loss, epoch)\n",
    "            else:\n",
    "                validation_loss.append(epoch_loss)\n",
    "                writer.add_scalar(\"Loss/val\", epoch_loss, epoch)\n",
    "\n",
    "    time_elapsed = time.time() - since\n",
    "\n",
    "    print(f\"Training complete in {time_elapsed/60}m {time_elapsed % 60}s\")\n",
    "    writer.close()\n",
    "    return model, (training_loss, validation_loss)"
   ]
  },
  {
   "cell_type": "code",
   "execution_count": 19,
   "metadata": {},
   "outputs": [],
   "source": [
    "criterion = nn.L1Loss()\n",
    "optimizer = optim.SGD(net.parameters(), lr=0.001, momentum=0.9)\n",
    "exp_lr_scheduler = lr_scheduler.StepLR(optimizer, step_size=7, gamma=0.1)"
   ]
  },
  {
   "cell_type": "code",
   "execution_count": 20,
   "metadata": {},
   "outputs": [
    {
     "data": {
      "application/vnd.jupyter.widget-view+json": {
       "model_id": "2e89fb123f944c5388ddffb175507edc",
       "version_major": 2,
       "version_minor": 0
      },
      "text/plain": [
       "HBox(children=(FloatProgress(value=0.0, max=10.0), HTML(value='')))"
      ]
     },
     "metadata": {},
     "output_type": "display_data"
    },
    {
     "name": "stderr",
     "output_type": "stream",
     "text": [
      "/home/mike/.conda/envs/seefood/lib/python3.7/site-packages/torch/nn/modules/loss.py:88: UserWarning: Using a target size (torch.Size([1])) that is different to the input size (torch.Size([])). This will likely lead to incorrect results due to broadcasting. Please ensure they have the same size.\n",
      "  return F.l1_loss(input, target, reduction=self.reduction)\n"
     ]
    },
    {
     "name": "stdout",
     "output_type": "stream",
     "text": [
      "\n",
      "Training complete in 0.1395759423573812m 8.374556541442871s\n"
     ]
    }
   ],
   "source": [
    "model, metrics = train_model(net, criterion, optimizer, exp_lr_scheduler, num_epochs=10)"
   ]
  },
  {
   "cell_type": "code",
   "execution_count": 21,
   "metadata": {},
   "outputs": [
    {
     "data": {
      "text/plain": [
       "<matplotlib.axes._subplots.AxesSubplot at 0x7f8ad4207208>"
      ]
     },
     "execution_count": 21,
     "metadata": {},
     "output_type": "execute_result"
    },
    {
     "data": {
      "image/png": "[encoded data removed]",
      "text/plain": [
       "<Figure size 1080x720 with 1 Axes>"
      ]
     },
     "metadata": {
      "needs_background": "light"
     },
     "output_type": "display_data"
    }
   ],
   "source": [
    "training_loss, validation_loss = metrics\n",
    "pd.DataFrame({\"training\": training_loss, \"validation\": validation_loss}).plot.line(\n",
    "    figsize=(15, 10)\n",
    ")"
   ]
  },
  {
   "cell_type": "code",
   "execution_count": 22,
   "metadata": {},
   "outputs": [],
   "source": [
    "predict_dataloader = torch.utils.data.DataLoader(\n",
    "    ImageDataset(X_nn_val, y_nn_val, data_transforms[\"val\"]),\n",
    "    batch_size=100,\n",
    "    shuffle=False,\n",
    "    num_workers=3,\n",
    ")"
   ]
  },
  {
   "cell_type": "code",
   "execution_count": 26,
   "metadata": {
    "collapsed": true,
    "jupyter": {
     "outputs_hidden": true
    }
   },
   "outputs": [
    {
     "name": "stdout",
     "output_type": "stream",
     "text": [
      "> <ipython-input-26-3e241ce8b0f3>(5)<module>()\n",
      "-> y_pred_nn.append(model(inputs).to(cpu))\n"
     ]
    },
    {
     "name": "stdin",
     "output_type": "stream",
     "text": [
      "(Pdb)  inputs\n"
     ]
    },
    {
     "name": "stdout",
     "output_type": "stream",
     "text": [
      "tensor([[[[ 0.5536,  0.5536,  0.5193,  ..., -0.6965, -0.7308, -0.7822],\n",
      "          [ 0.5536,  0.5707,  0.5364,  ..., -0.6109, -0.6452, -0.6794],\n",
      "          [ 0.5707,  0.5707,  0.5707,  ..., -0.4911, -0.5424, -0.5424],\n",
      "          ...,\n",
      "          [ 0.8104,  0.7762,  0.7248,  ...,  1.7523,  1.7694,  1.7865],\n",
      "          [ 0.8447,  0.7933,  0.7762,  ...,  1.7865,  1.7865,  1.7865],\n",
      "          [ 0.8789,  0.8276,  0.8104,  ...,  1.8037,  1.8037,  1.8037]],\n",
      "\n",
      "         [[ 0.6254,  0.6254,  0.6254,  ..., -0.7927, -0.8102, -0.7927],\n",
      "          [ 0.6254,  0.6429,  0.6429,  ..., -0.7052, -0.7052, -0.6877],\n",
      "          [ 0.6429,  0.6429,  0.6429,  ..., -0.5826, -0.5651, -0.5651],\n",
      "          ...,\n",
      "          [ 0.3452,  0.3102,  0.2402,  ...,  1.9909,  2.0084,  2.0259],\n",
      "          [ 0.3978,  0.3452,  0.2927,  ...,  2.0609,  2.0609,  2.0784],\n",
      "          [ 0.4503,  0.3803,  0.3277,  ...,  2.0959,  2.0959,  2.0959]],\n",
      "\n",
      "         [[ 0.8622,  0.8622,  0.8971,  ..., -0.7936, -0.7238, -0.7238],\n",
      "          [ 0.8622,  0.8622,  0.8797,  ..., -0.7238, -0.7238, -0.6890],\n",
      "          [ 0.8448,  0.8448,  0.8448,  ..., -0.6367, -0.6541, -0.6193],\n",
      "          ...,\n",
      "          [-0.0790, -0.1138, -0.1661,  ...,  2.4134,  2.4308,  2.4483],\n",
      "          [-0.0441, -0.0790, -0.1312,  ...,  2.4657,  2.4483,  2.4657],\n",
      "          [ 0.0082, -0.0441, -0.0615,  ...,  2.4831,  2.4831,  2.4831]]],\n",
      "\n",
      "\n",
      "        [[[-0.0458, -0.0972, -0.0801,  ...,  1.1015,  0.7933,  0.1254],\n",
      "          [-0.0116, -0.0458, -0.0458,  ...,  1.1015,  0.9303,  0.4508],\n",
      "          [ 0.0056, -0.0458, -0.0287,  ...,  1.0673,  1.0331,  0.7591],\n",
      "          ...,\n",
      "          [ 0.3994,  0.2967,  0.3652,  ..., -1.6042, -1.6555, -1.6727],\n",
      "          [ 0.4508,  0.3309,  0.3652,  ..., -1.6384, -1.6898, -1.6898],\n",
      "          [ 0.5707,  0.3823,  0.3823,  ..., -1.6213, -1.6727, -1.6727]],\n",
      "\n",
      "         [[ 0.2927,  0.2752,  0.2577,  ...,  1.2031,  0.8529,  0.2402],\n",
      "          [ 0.3102,  0.2927,  0.2927,  ...,  1.2206,  1.0280,  0.5553],\n",
      "          [ 0.3102,  0.2927,  0.3102,  ...,  1.2031,  1.1506,  0.8529],\n",
      "          ...,\n",
      "          [ 0.4153,  0.2402,  0.2927,  ..., -1.4755, -1.5280, -1.5455],\n",
      "          [ 0.5203,  0.2752,  0.2927,  ..., -1.5105, -1.5630, -1.5630],\n",
      "          [ 0.6429,  0.2927,  0.3102,  ..., -1.4930, -1.5455, -1.5455]],\n",
      "\n",
      "         [[ 0.5136,  0.4962,  0.4788,  ...,  1.0539,  0.7228,  0.1651],\n",
      "          [ 0.5485,  0.5136,  0.5136,  ...,  1.1062,  0.8971,  0.4614],\n",
      "          [ 0.5311,  0.5136,  0.5311,  ...,  1.1411,  1.0191,  0.7576],\n",
      "          ...,\n",
      "          [-0.6367, -1.0027, -0.8807,  ..., -1.2990, -1.3513, -1.3687],\n",
      "          [-0.5495, -1.0201, -0.9156,  ..., -1.3339, -1.3861, -1.3861],\n",
      "          [-0.3055, -0.8284, -0.8458,  ..., -1.3164, -1.3687, -1.3687]]],\n",
      "\n",
      "\n",
      "        [[[ 2.0263,  1.9749,  1.8208,  ..., -1.3473, -1.6727, -1.9467],\n",
      "          [ 2.0434,  1.9235,  1.8037,  ..., -1.4329, -1.7240, -1.9638],\n",
      "          [ 2.0263,  1.8893,  1.7180,  ..., -1.4672, -1.7240, -1.8782],\n",
      "          ...,\n",
      "          [ 0.7591,  1.1187,  1.0502,  ...,  1.7180,  1.6667,  1.5982],\n",
      "          [ 0.1426,  1.0159,  0.9474,  ...,  1.6667,  1.6153,  1.5468],\n",
      "          [ 0.0741,  0.6563,  0.7419,  ...,  1.5639,  1.4440,  0.8961]],\n",
      "\n",
      "         [[ 1.4657,  1.3431,  1.0630,  ..., -0.2325, -0.5301, -0.7927],\n",
      "          [ 1.5707,  1.3606,  1.0805,  ..., -0.2850, -0.5651, -0.7927],\n",
      "          [ 1.6232,  1.4307,  1.1331,  ..., -0.3550, -0.6352, -0.7927],\n",
      "          ...,\n",
      "          [ 0.2927,  0.6078,  0.4328,  ...,  1.9384,  1.8859,  1.8158],\n",
      "          [-0.1975,  0.3978,  0.2402,  ...,  1.8683,  1.8158,  1.7458],\n",
      "          [-0.1625,  0.0651, -0.0399,  ...,  1.7983,  1.7983,  1.5882]],\n",
      "\n",
      "         [[-0.2532, -0.6715, -1.3687,  ...,  0.3916,  0.0431, -0.3404],\n",
      "          [-0.0441, -0.5670, -1.2816,  ...,  0.3219,  0.0256, -0.3230],\n",
      "          [ 0.0082, -0.4973, -1.1944,  ...,  0.2348, -0.1138, -0.2881],\n",
      "          ...,\n",
      "          [-1.2293, -0.9504, -1.4907,  ...,  2.1346,  2.0648,  1.9951],\n",
      "          [-1.4036, -1.3687, -1.7173,  ...,  2.0300,  1.9777,  1.9080],\n",
      "          [-1.5430, -1.5953, -1.6476,  ...,  1.9254,  1.9951,  1.8905]]],\n",
      "\n",
      "\n",
      "        ...,\n",
      "\n",
      "\n",
      "        [[[ 2.1633,  2.1804,  2.1804,  ...,  1.8893,  1.8550,  1.7694],\n",
      "          [ 2.1462,  2.1633,  2.1804,  ...,  1.8208,  1.7865,  1.6838],\n",
      "          [ 2.1633,  2.1804,  2.1633,  ...,  1.7523,  1.7180,  1.6495],\n",
      "          ...,\n",
      "          [ 1.6667,  1.6838,  1.6838,  ...,  0.5878,  0.5707,  0.5707],\n",
      "          [ 1.6838,  1.6667,  1.6324,  ...,  0.6049,  0.6221,  0.6563],\n",
      "          [ 1.6324,  1.6667,  1.6495,  ...,  0.6392,  0.6563,  0.6734]],\n",
      "\n",
      "         [[ 2.3410,  2.3585,  2.3585,  ...,  2.3410,  2.3410,  2.2885],\n",
      "          [ 2.3235,  2.3410,  2.3585,  ...,  2.3235,  2.3060,  2.2535],\n",
      "          [ 2.3410,  2.3585,  2.3410,  ...,  2.2885,  2.2535,  2.2535],\n",
      "          ...,\n",
      "          [ 1.3957,  1.4132,  1.4307,  ..., -1.5280, -1.5280, -1.5630],\n",
      "          [ 1.4307,  1.4132,  1.3606,  ..., -1.5280, -1.5280, -1.5105],\n",
      "          [ 1.4132,  1.4482,  1.4132,  ..., -1.5105, -1.4930, -1.5105]],\n",
      "\n",
      "         [[ 2.5529,  2.5703,  2.5703,  ...,  1.5245,  1.4722,  1.3502],\n",
      "          [ 2.5354,  2.5529,  2.5703,  ...,  1.4374,  1.3851,  1.2805],\n",
      "          [ 2.5529,  2.5703,  2.5529,  ...,  1.3502,  1.2980,  1.2631],\n",
      "          ...,\n",
      "          [ 0.6356,  0.6356,  0.6356,  ..., -1.4559, -1.4559, -1.4384],\n",
      "          [ 0.6531,  0.6182,  0.5834,  ..., -1.4559, -1.4384, -1.4036],\n",
      "          [ 0.6356,  0.6531,  0.6182,  ..., -1.4210, -1.4036, -1.3861]]],\n",
      "\n",
      "\n",
      "        [[[-0.2856, -0.1486, -0.0629,  ...,  1.6324,  1.5982,  1.5125],\n",
      "          [-0.5253, -0.3369, -0.1999,  ...,  1.5125,  1.5810,  1.5810],\n",
      "          [-0.9020, -0.6281, -0.4226,  ...,  1.5468,  1.5639,  1.5639],\n",
      "          ...,\n",
      "          [-0.3369,  0.1254,  0.2453,  ...,  0.2796,  0.5022,  0.5193],\n",
      "          [-0.2856, -0.0116,  0.2453,  ...,  0.3823,  0.4851,  0.4679],\n",
      "          [-0.2684, -0.2342, -0.0972,  ...,  0.3994,  0.3823,  0.3994]],\n",
      "\n",
      "         [[ 0.4503,  0.6604,  0.7829,  ...,  0.2227,  0.2577,  0.1877],\n",
      "          [ 0.1702,  0.4153,  0.6078,  ...,  0.1877,  0.2402,  0.2752],\n",
      "          [-0.2150,  0.1001,  0.3627,  ...,  0.1001,  0.1877,  0.2577],\n",
      "          ...,\n",
      "          [-0.6702, -0.2325, -0.1275,  ...,  0.9930,  1.2031,  1.1681],\n",
      "          [-0.5826, -0.3200, -0.0749,  ...,  1.0980,  1.1506,  1.1155],\n",
      "          [-0.5301, -0.5126, -0.3725,  ...,  1.0630,  1.0455,  1.0455]],\n",
      "\n",
      "         [[ 0.4091,  0.7402,  1.0017,  ...,  1.1411,  0.8448,  0.8622],\n",
      "          [ 0.0779,  0.4265,  0.7751,  ...,  0.7925,  0.8622,  1.1585],\n",
      "          [-0.4798, -0.0441,  0.3742,  ...,  0.6879,  0.8099,  1.0714],\n",
      "          ...,\n",
      "          [-1.1421, -0.8110, -0.8110,  ...,  0.2173,  0.4962,  0.5485],\n",
      "          [-0.8633, -0.5844, -0.3404,  ...,  0.3045,  0.4091,  0.4091],\n",
      "          [-0.6715, -0.6193, -0.4798,  ...,  0.1999,  0.1999,  0.2348]]],\n",
      "\n",
      "\n",
      "        [[[ 0.1083, -0.1143,  0.0398,  ...,  0.2453,  0.1426,  0.0227],\n",
      "          [ 0.2624,  0.0912,  0.0569,  ...,  0.1939,  0.1426,  0.0398],\n",
      "          [ 0.3481,  0.3138,  0.1939,  ...,  0.2796,  0.2111, -0.0287],\n",
      "          ...,\n",
      "          [ 1.0673,  1.1015,  1.1015,  ...,  0.9303,  0.9474,  0.9646],\n",
      "          [ 1.0844,  1.1015,  1.1015,  ...,  0.9132,  0.9303,  0.9303],\n",
      "          [ 1.1015,  1.1015,  1.1015,  ...,  0.8789,  0.8961,  0.8789]],\n",
      "\n",
      "         [[ 0.0826, -0.1275,  0.0476,  ...,  0.2752,  0.1877,  0.0651],\n",
      "          [ 0.2227,  0.0826,  0.0651,  ...,  0.2402,  0.2052,  0.0476],\n",
      "          [ 0.3102,  0.3102,  0.2052,  ...,  0.3803,  0.2927,  0.0126],\n",
      "          ...,\n",
      "          [ 1.3606,  1.3957,  1.3957,  ...,  1.2206,  1.2381,  1.2381],\n",
      "          [ 1.3782,  1.3957,  1.3957,  ...,  1.1856,  1.2206,  1.2031],\n",
      "          [ 1.3957,  1.3957,  1.3957,  ...,  1.1506,  1.1681,  1.1506]],\n",
      "\n",
      "         [[ 0.4614,  0.2522,  0.4091,  ...,  0.6008,  0.5136,  0.4614],\n",
      "          [ 0.6008,  0.4439,  0.4265,  ...,  0.6008,  0.5485,  0.4439],\n",
      "          [ 0.6879,  0.6705,  0.5659,  ...,  0.7925,  0.7228,  0.3916],\n",
      "          ...,\n",
      "          [ 1.9080,  1.9428,  1.9428,  ...,  1.7685,  1.7860,  1.7860],\n",
      "          [ 1.9254,  1.9428,  1.9428,  ...,  1.7163,  1.7511,  1.7511],\n",
      "          [ 1.9428,  1.9428,  1.9428,  ...,  1.6814,  1.6988,  1.6988]]]],\n",
      "       device='cuda:0')\n"
     ]
    },
    {
     "name": "stdin",
     "output_type": "stream",
     "text": [
      "(Pdb)  model(inputs)\n"
     ]
    },
    {
     "name": "stdout",
     "output_type": "stream",
     "text": [
      "tensor([5.6206, 5.3466, 4.5342, 6.1432, 6.0808, 4.9570, 5.2888, 4.5717, 5.6032,\n",
      "        3.9826, 5.3503, 5.3547, 6.2298, 6.0550, 6.0721, 4.6112, 4.8409, 4.6468,\n",
      "        4.8383, 4.8124, 5.0186, 4.1358, 4.0153, 5.4381, 6.0630, 5.0152, 4.5386,\n",
      "        4.9165, 4.7703, 4.6120, 5.2103, 5.1219, 6.1804], device='cuda:0',\n",
      "       grad_fn=<SqueezeBackward0>)\n"
     ]
    },
    {
     "name": "stdin",
     "output_type": "stream",
     "text": [
      "(Pdb)  q\n"
     ]
    },
    {
     "ename": "BdbQuit",
     "evalue": "",
     "output_type": "error",
     "traceback": [
      "\u001b[0;31m---------------------------------------------------------------------------\u001b[0m",
      "\u001b[0;31mBdbQuit\u001b[0m                                   Traceback (most recent call last)",
      "\u001b[0;32m<ipython-input-26-3e241ce8b0f3>\u001b[0m in \u001b[0;36m<module>\u001b[0;34m\u001b[0m\n\u001b[1;32m      3\u001b[0m     \u001b[0minputs\u001b[0m \u001b[0;34m=\u001b[0m \u001b[0minputs\u001b[0m\u001b[0;34m.\u001b[0m\u001b[0mto\u001b[0m\u001b[0;34m(\u001b[0m\u001b[0mdevice\u001b[0m\u001b[0;34m)\u001b[0m\u001b[0;34m\u001b[0m\u001b[0;34m\u001b[0m\u001b[0m\n\u001b[1;32m      4\u001b[0m     \u001b[0mbreakpoint\u001b[0m\u001b[0;34m(\u001b[0m\u001b[0;34m)\u001b[0m\u001b[0;34m\u001b[0m\u001b[0;34m\u001b[0m\u001b[0m\n\u001b[0;32m----> 5\u001b[0;31m     \u001b[0my_pred_nn\u001b[0m\u001b[0;34m.\u001b[0m\u001b[0mappend\u001b[0m\u001b[0;34m(\u001b[0m\u001b[0mmodel\u001b[0m\u001b[0;34m(\u001b[0m\u001b[0minputs\u001b[0m\u001b[0;34m)\u001b[0m\u001b[0;34m.\u001b[0m\u001b[0mto\u001b[0m\u001b[0;34m(\u001b[0m\u001b[0mcpu\u001b[0m\u001b[0;34m)\u001b[0m\u001b[0;34m)\u001b[0m\u001b[0;34m\u001b[0m\u001b[0;34m\u001b[0m\u001b[0m\n\u001b[0m",
      "\u001b[0;32m<ipython-input-26-3e241ce8b0f3>\u001b[0m in \u001b[0;36m<module>\u001b[0;34m\u001b[0m\n\u001b[1;32m      3\u001b[0m     \u001b[0minputs\u001b[0m \u001b[0;34m=\u001b[0m \u001b[0minputs\u001b[0m\u001b[0;34m.\u001b[0m\u001b[0mto\u001b[0m\u001b[0;34m(\u001b[0m\u001b[0mdevice\u001b[0m\u001b[0;34m)\u001b[0m\u001b[0;34m\u001b[0m\u001b[0;34m\u001b[0m\u001b[0m\n\u001b[1;32m      4\u001b[0m     \u001b[0mbreakpoint\u001b[0m\u001b[0;34m(\u001b[0m\u001b[0;34m)\u001b[0m\u001b[0;34m\u001b[0m\u001b[0;34m\u001b[0m\u001b[0m\n\u001b[0;32m----> 5\u001b[0;31m     \u001b[0my_pred_nn\u001b[0m\u001b[0;34m.\u001b[0m\u001b[0mappend\u001b[0m\u001b[0;34m(\u001b[0m\u001b[0mmodel\u001b[0m\u001b[0;34m(\u001b[0m\u001b[0minputs\u001b[0m\u001b[0;34m)\u001b[0m\u001b[0;34m.\u001b[0m\u001b[0mto\u001b[0m\u001b[0;34m(\u001b[0m\u001b[0mcpu\u001b[0m\u001b[0;34m)\u001b[0m\u001b[0;34m)\u001b[0m\u001b[0;34m\u001b[0m\u001b[0;34m\u001b[0m\u001b[0m\n\u001b[0m",
      "\u001b[0;32m~/.conda/envs/seefood/lib/python3.7/bdb.py\u001b[0m in \u001b[0;36mtrace_dispatch\u001b[0;34m(self, frame, event, arg)\u001b[0m\n\u001b[1;32m     86\u001b[0m             \u001b[0;32mreturn\u001b[0m \u001b[0;31m# None\u001b[0m\u001b[0;34m\u001b[0m\u001b[0;34m\u001b[0m\u001b[0m\n\u001b[1;32m     87\u001b[0m         \u001b[0;32mif\u001b[0m \u001b[0mevent\u001b[0m \u001b[0;34m==\u001b[0m \u001b[0;34m'line'\u001b[0m\u001b[0;34m:\u001b[0m\u001b[0;34m\u001b[0m\u001b[0;34m\u001b[0m\u001b[0m\n\u001b[0;32m---> 88\u001b[0;31m             \u001b[0;32mreturn\u001b[0m \u001b[0mself\u001b[0m\u001b[0;34m.\u001b[0m\u001b[0mdispatch_line\u001b[0m\u001b[0;34m(\u001b[0m\u001b[0mframe\u001b[0m\u001b[0;34m)\u001b[0m\u001b[0;34m\u001b[0m\u001b[0;34m\u001b[0m\u001b[0m\n\u001b[0m\u001b[1;32m     89\u001b[0m         \u001b[0;32mif\u001b[0m \u001b[0mevent\u001b[0m \u001b[0;34m==\u001b[0m \u001b[0;34m'call'\u001b[0m\u001b[0;34m:\u001b[0m\u001b[0;34m\u001b[0m\u001b[0;34m\u001b[0m\u001b[0m\n\u001b[1;32m     90\u001b[0m             \u001b[0;32mreturn\u001b[0m \u001b[0mself\u001b[0m\u001b[0;34m.\u001b[0m\u001b[0mdispatch_call\u001b[0m\u001b[0;34m(\u001b[0m\u001b[0mframe\u001b[0m\u001b[0;34m,\u001b[0m \u001b[0marg\u001b[0m\u001b[0;34m)\u001b[0m\u001b[0;34m\u001b[0m\u001b[0;34m\u001b[0m\u001b[0m\n",
      "\u001b[0;32m~/.conda/envs/seefood/lib/python3.7/bdb.py\u001b[0m in \u001b[0;36mdispatch_line\u001b[0;34m(self, frame)\u001b[0m\n\u001b[1;32m    111\u001b[0m         \u001b[0;32mif\u001b[0m \u001b[0mself\u001b[0m\u001b[0;34m.\u001b[0m\u001b[0mstop_here\u001b[0m\u001b[0;34m(\u001b[0m\u001b[0mframe\u001b[0m\u001b[0;34m)\u001b[0m \u001b[0;32mor\u001b[0m \u001b[0mself\u001b[0m\u001b[0;34m.\u001b[0m\u001b[0mbreak_here\u001b[0m\u001b[0;34m(\u001b[0m\u001b[0mframe\u001b[0m\u001b[0;34m)\u001b[0m\u001b[0;34m:\u001b[0m\u001b[0;34m\u001b[0m\u001b[0;34m\u001b[0m\u001b[0m\n\u001b[1;32m    112\u001b[0m             \u001b[0mself\u001b[0m\u001b[0;34m.\u001b[0m\u001b[0muser_line\u001b[0m\u001b[0;34m(\u001b[0m\u001b[0mframe\u001b[0m\u001b[0;34m)\u001b[0m\u001b[0;34m\u001b[0m\u001b[0;34m\u001b[0m\u001b[0m\n\u001b[0;32m--> 113\u001b[0;31m             \u001b[0;32mif\u001b[0m \u001b[0mself\u001b[0m\u001b[0;34m.\u001b[0m\u001b[0mquitting\u001b[0m\u001b[0;34m:\u001b[0m \u001b[0;32mraise\u001b[0m \u001b[0mBdbQuit\u001b[0m\u001b[0;34m\u001b[0m\u001b[0;34m\u001b[0m\u001b[0m\n\u001b[0m\u001b[1;32m    114\u001b[0m         \u001b[0;32mreturn\u001b[0m \u001b[0mself\u001b[0m\u001b[0;34m.\u001b[0m\u001b[0mtrace_dispatch\u001b[0m\u001b[0;34m\u001b[0m\u001b[0;34m\u001b[0m\u001b[0m\n\u001b[1;32m    115\u001b[0m \u001b[0;34m\u001b[0m\u001b[0m\n",
      "\u001b[0;31mBdbQuit\u001b[0m: "
     ]
    }
   ],
   "source": [
    "y_pred_nn = []\n",
    "for inputs, _ in predict_dataloader:\n",
    "    inputs = inputs.to(device)\n",
    "    y_pred_nn.append(model(inputs).to(cpu))"
   ]
  },
  {
   "cell_type": "code",
   "execution_count": 24,
   "metadata": {},
   "outputs": [],
   "source": [
    "y_pred_nn_np = torch.flatten(torch.cat(y_pred_nn)).detach().numpy()"
   ]
  },
  {
   "cell_type": "code",
   "execution_count": 25,
   "metadata": {},
   "outputs": [
    {
     "data": {
      "text/plain": [
       "[tensor([5.6206, 5.3466, 4.5342, 6.1432, 6.0808, 4.9570, 5.2888, 4.5717, 5.6032,\n",
       "         3.9826, 5.3503, 5.3547, 6.2298, 6.0550, 6.0721, 4.6112, 4.8409, 4.6468,\n",
       "         4.8383, 4.8124, 5.0186, 4.1358, 4.0153, 5.4381, 6.0630, 5.0152, 4.5386,\n",
       "         4.9165, 4.7703, 4.6120, 5.2103, 5.1219, 6.1804],\n",
       "        grad_fn=<CopyBackwards>)]"
      ]
     },
     "execution_count": 25,
     "metadata": {},
     "output_type": "execute_result"
    }
   ],
   "source": [
    "y_pred_nn"
   ]
  },
  {
   "cell_type": "code",
   "execution_count": 25,
   "metadata": {},
   "outputs": [
    {
     "data": {
      "text/html": [
       "<div>\n",
       "<style scoped>\n",
       "    .dataframe tbody tr th:only-of-type {\n",
       "        vertical-align: middle;\n",
       "    }\n",
       "\n",
       "    .dataframe tbody tr th {\n",
       "        vertical-align: top;\n",
       "    }\n",
       "\n",
       "    .dataframe thead th {\n",
       "        text-align: right;\n",
       "    }\n",
       "</style>\n",
       "<table border=\"1\" class=\"dataframe\">\n",
       "  <thead>\n",
       "    <tr style=\"text-align: right;\">\n",
       "      <th></th>\n",
       "      <th>experiment_name</th>\n",
       "      <th>r2_score</th>\n",
       "      <th>explained_variance_score</th>\n",
       "      <th>max_error</th>\n",
       "      <th>mean_absolute_error</th>\n",
       "      <th>mean_squared_error</th>\n",
       "      <th>median_absolute_error</th>\n",
       "    </tr>\n",
       "  </thead>\n",
       "  <tbody>\n",
       "    <tr>\n",
       "      <th>0</th>\n",
       "      <td>nn</td>\n",
       "      <td>-2.00387</td>\n",
       "      <td>-1.795407</td>\n",
       "      <td>1.471894</td>\n",
       "      <td>0.636693</td>\n",
       "      <td>0.557625</td>\n",
       "      <td>0.612364</td>\n",
       "    </tr>\n",
       "  </tbody>\n",
       "</table>\n",
       "</div>"
      ],
      "text/plain": [
       "  experiment_name  r2_score  explained_variance_score  max_error  \\\n",
       "0              nn  -2.00387                 -1.795407   1.471894   \n",
       "\n",
       "   mean_absolute_error  mean_squared_error  median_absolute_error  \n",
       "0             0.636693            0.557625               0.612364  "
      ]
     },
     "execution_count": 25,
     "metadata": {},
     "output_type": "execute_result"
    }
   ],
   "source": [
    "df_nn_results = get_metrics(\"nn\", y_nn_val, y_pred_nn_np)\n",
    "df_nn_results"
   ]
  },
  {
   "cell_type": "markdown",
   "metadata": {},
   "source": [
    "## Create Baseline"
   ]
  },
  {
   "cell_type": "code",
   "execution_count": 26,
   "metadata": {},
   "outputs": [],
   "source": [
    "from sklearn.base import BaseEstimator\n",
    "from sklearn.base import RegressorMixin\n",
    "from sklearn.utils.validation import check_is_fitted\n",
    "\n",
    "\n",
    "class BaselineModel(BaseEstimator, RegressorMixin):\n",
    "    def __init__(self):\n",
    "        pass\n",
    "\n",
    "    def fit(self, _, y):\n",
    "        self.mean_ = y.mean()\n",
    "        return self\n",
    "\n",
    "    def predict(self, X):\n",
    "        check_is_fitted(self, [])\n",
    "\n",
    "        return np.array(X.shape[0] * [self.mean_])"
   ]
  },
  {
   "cell_type": "code",
   "execution_count": 27,
   "metadata": {},
   "outputs": [],
   "source": [
    "baseline_model = BaselineModel()"
   ]
  },
  {
   "cell_type": "code",
   "execution_count": 28,
   "metadata": {},
   "outputs": [
    {
     "data": {
      "text/plain": [
       "BaselineModel()"
      ]
     },
     "execution_count": 28,
     "metadata": {},
     "output_type": "execute_result"
    }
   ],
   "source": [
    "baseline_model.fit(X_nn_train, y_nn_train)"
   ]
  },
  {
   "cell_type": "code",
   "execution_count": 29,
   "metadata": {},
   "outputs": [],
   "source": [
    "y_pred_baseline = baseline_model.predict(X_nn_val)"
   ]
  },
  {
   "cell_type": "code",
   "execution_count": 30,
   "metadata": {},
   "outputs": [
    {
     "data": {
      "text/html": [
       "<div>\n",
       "<style scoped>\n",
       "    .dataframe tbody tr th:only-of-type {\n",
       "        vertical-align: middle;\n",
       "    }\n",
       "\n",
       "    .dataframe tbody tr th {\n",
       "        vertical-align: top;\n",
       "    }\n",
       "\n",
       "    .dataframe thead th {\n",
       "        text-align: right;\n",
       "    }\n",
       "</style>\n",
       "<table border=\"1\" class=\"dataframe\">\n",
       "  <thead>\n",
       "    <tr style=\"text-align: right;\">\n",
       "      <th></th>\n",
       "      <th>experiment_name</th>\n",
       "      <th>r2_score</th>\n",
       "      <th>explained_variance_score</th>\n",
       "      <th>max_error</th>\n",
       "      <th>mean_absolute_error</th>\n",
       "      <th>mean_squared_error</th>\n",
       "      <th>median_absolute_error</th>\n",
       "    </tr>\n",
       "  </thead>\n",
       "  <tbody>\n",
       "    <tr>\n",
       "      <th>0</th>\n",
       "      <td>baseline</td>\n",
       "      <td>-0.195634</td>\n",
       "      <td>0.0</td>\n",
       "      <td>1.009376</td>\n",
       "      <td>0.380424</td>\n",
       "      <td>0.221952</td>\n",
       "      <td>0.331821</td>\n",
       "    </tr>\n",
       "  </tbody>\n",
       "</table>\n",
       "</div>"
      ],
      "text/plain": [
       "  experiment_name  r2_score  explained_variance_score  max_error  \\\n",
       "0        baseline -0.195634                       0.0   1.009376   \n",
       "\n",
       "   mean_absolute_error  mean_squared_error  median_absolute_error  \n",
       "0             0.380424            0.221952               0.331821  "
      ]
     },
     "execution_count": 30,
     "metadata": {},
     "output_type": "execute_result"
    }
   ],
   "source": [
    "df_baseline_results = get_metrics(\"baseline\", y_nn_val, y_pred_baseline)\n",
    "df_baseline_results"
   ]
  },
  {
   "cell_type": "markdown",
   "metadata": {},
   "source": [
    "## Compare NN to Baseline"
   ]
  },
  {
   "cell_type": "code",
   "execution_count": 31,
   "metadata": {},
   "outputs": [],
   "source": [
    "df_results = pd.concat([df_baseline_results, df_nn_results]).reset_index(drop=True).T\n",
    "df_results.columns = df_results.loc[\"experiment_name\"].values\n",
    "df_results = df_results.iloc[1:]"
   ]
  },
  {
   "cell_type": "code",
   "execution_count": 32,
   "metadata": {},
   "outputs": [
    {
     "data": {
      "text/html": [
       "<div>\n",
       "<style scoped>\n",
       "    .dataframe tbody tr th:only-of-type {\n",
       "        vertical-align: middle;\n",
       "    }\n",
       "\n",
       "    .dataframe tbody tr th {\n",
       "        vertical-align: top;\n",
       "    }\n",
       "\n",
       "    .dataframe thead th {\n",
       "        text-align: right;\n",
       "    }\n",
       "</style>\n",
       "<table border=\"1\" class=\"dataframe\">\n",
       "  <thead>\n",
       "    <tr style=\"text-align: right;\">\n",
       "      <th></th>\n",
       "      <th>baseline</th>\n",
       "      <th>nn</th>\n",
       "    </tr>\n",
       "  </thead>\n",
       "  <tbody>\n",
       "    <tr>\n",
       "      <th>r2_score</th>\n",
       "      <td>-0.195634</td>\n",
       "      <td>-2.00387</td>\n",
       "    </tr>\n",
       "    <tr>\n",
       "      <th>explained_variance_score</th>\n",
       "      <td>0</td>\n",
       "      <td>-1.79541</td>\n",
       "    </tr>\n",
       "    <tr>\n",
       "      <th>max_error</th>\n",
       "      <td>1.00938</td>\n",
       "      <td>1.47189</td>\n",
       "    </tr>\n",
       "    <tr>\n",
       "      <th>mean_absolute_error</th>\n",
       "      <td>0.380424</td>\n",
       "      <td>0.636693</td>\n",
       "    </tr>\n",
       "    <tr>\n",
       "      <th>mean_squared_error</th>\n",
       "      <td>0.221952</td>\n",
       "      <td>0.557625</td>\n",
       "    </tr>\n",
       "    <tr>\n",
       "      <th>median_absolute_error</th>\n",
       "      <td>0.331821</td>\n",
       "      <td>0.612364</td>\n",
       "    </tr>\n",
       "  </tbody>\n",
       "</table>\n",
       "</div>"
      ],
      "text/plain": [
       "                          baseline        nn\n",
       "r2_score                 -0.195634  -2.00387\n",
       "explained_variance_score         0  -1.79541\n",
       "max_error                  1.00938   1.47189\n",
       "mean_absolute_error       0.380424  0.636693\n",
       "mean_squared_error        0.221952  0.557625\n",
       "median_absolute_error     0.331821  0.612364"
      ]
     },
     "execution_count": 32,
     "metadata": {},
     "output_type": "execute_result"
    }
   ],
   "source": [
    "df_results"
   ]
  },
  {
   "cell_type": "code",
   "execution_count": 33,
   "metadata": {},
   "outputs": [
    {
     "data": {
      "text/plain": [
       "<matplotlib.axes._subplots.AxesSubplot at 0x7f9614dec9e8>"
      ]
     },
     "execution_count": 33,
     "metadata": {},
     "output_type": "execute_result"
    },
    {
     "data": {
      "image/png": "[encoded data removed]",
      "text/plain": [
       "<Figure size 864x504 with 1 Axes>"
      ]
     },
     "metadata": {
      "needs_background": "light"
     },
     "output_type": "display_data"
    }
   ],
   "source": [
    "df_results.plot.bar(log=True, figsize=(12, 7))"
   ]
  },
  {
   "cell_type": "markdown",
   "metadata": {},
   "source": [
    "## Inspect predictions"
   ]
  },
  {
   "cell_type": "code",
   "execution_count": 34,
   "metadata": {},
   "outputs": [],
   "source": [
    "ylim = (0, 1200)"
   ]
  },
  {
   "cell_type": "code",
   "execution_count": 35,
   "metadata": {},
   "outputs": [
    {
     "data": {
      "text/plain": [
       "<matplotlib.axes._subplots.AxesSubplot at 0x7f960d57c240>"
      ]
     },
     "execution_count": 35,
     "metadata": {},
     "output_type": "execute_result"
    },
    {
     "data": {
      "image/png": "[encoded data removed]",
      "text/plain": [
       "<Figure size 1152x792 with 1 Axes>"
      ]
     },
     "metadata": {
      "needs_background": "light"
     },
     "output_type": "display_data"
    }
   ],
   "source": [
    "df_nn.loc[X_nn_train.index].total_calories.plot.hist(\n",
    "    bins=300, figsize=(16, 11), ylim=ylim\n",
    ")"
   ]
  },
  {
   "cell_type": "code",
   "execution_count": 36,
   "metadata": {},
   "outputs": [],
   "source": [
    "df_predictions = df_nn.loc[X_nn_val.index].assign(\n",
    "    predicted_calories=np.exp(y_pred_nn_np)\n",
    ")"
   ]
  },
  {
   "cell_type": "code",
   "execution_count": 37,
   "metadata": {},
   "outputs": [
    {
     "data": {
      "text/plain": [
       "<matplotlib.axes._subplots.AxesSubplot at 0x7f961d149940>"
      ]
     },
     "execution_count": 37,
     "metadata": {},
     "output_type": "execute_result"
    },
    {
     "data": {
      "image/png": "[encoded data removed]",
      "text/plain": [
       "<Figure size 1152x792 with 1 Axes>"
      ]
     },
     "metadata": {
      "needs_background": "light"
     },
     "output_type": "display_data"
    }
   ],
   "source": [
    "df_predictions[[\"total_calories\", \"predicted_calories\"]].plot.hist(\n",
    "    bins=300, figsize=(16, 11), alpha=0.8, ylim=ylim\n",
    ")"
   ]
  },
  {
   "cell_type": "code",
   "execution_count": 39,
   "metadata": {},
   "outputs": [
    {
     "data": {
      "application/vnd.vegalite.v3+json": {
       "$schema": "https://vega.github.io/schema/vega-lite/v3.4.0.json",
       "config": {
        "mark": {
         "tooltip": null
        },
        "view": {
         "height": 300,
         "width": 400
        }
       },
       "data": {
        "name": "data-b29864e30b0167bb2cbc8caa7997b6ea"
       },
       "datasets": {
        "data-b29864e30b0167bb2cbc8caa7997b6ea": [
         {
          "image_path": "../../data/images/106937/000009",
          "predicted_calories": 270.7809753417969,
          "recipe_id": 106937,
          "servings": 6,
          "title": "Foreman Grilled Chicken",
          "total_calories": 173.9,
          "url": "https://recipes.sparkpeople.com/recipe-detail.asp?recipe=106937"
         },
         {
          "image_path": "../../data/images/210286/000007",
          "predicted_calories": 182.3297882080078,
          "recipe_id": 210286,
          "servings": 22,
          "title": "Pmegranate Mouse Parfait",
          "total_calories": 213.1,
          "url": "https://recipes.sparkpeople.com/recipe-detail.asp?recipe=210286"
         },
         {
          "image_path": "../../data/images/343927/000011",
          "predicted_calories": 132.917236328125,
          "recipe_id": 343927,
          "servings": 8,
          "title": "chocolate pudding pie",
          "total_calories": 179,
          "url": "https://recipes.sparkpeople.com/recipe-detail.asp?recipe=343927"
         },
         {
          "image_path": "../../data/images/379240/000005",
          "predicted_calories": 256.1504211425781,
          "recipe_id": 379240,
          "servings": 16,
          "title": "Mamma's Whole Wheat Biscuits",
          "total_calories": 143.1,
          "url": "https://recipes.sparkpeople.com/recipe-detail.asp?recipe=379240"
         },
         {
          "image_path": "../../data/images/405180/000009",
          "predicted_calories": 169.93418884277344,
          "recipe_id": 405180,
          "servings": 4,
          "title": "Savory Leeks and Lentils",
          "total_calories": 257.4,
          "url": "https://recipes.sparkpeople.com/recipe-detail.asp?recipe=405180"
         },
         {
          "image_path": "../../data/images/87863/000002",
          "predicted_calories": 295.860595703125,
          "recipe_id": 87863,
          "servings": 2,
          "title": "Easy Spaghetti all Pomodoro with tofu",
          "total_calories": 317.5,
          "url": "https://recipes.sparkpeople.com/recipe-detail.asp?recipe=87863"
         },
         {
          "image_path": "../../data/images/408762/000003",
          "predicted_calories": 117.29389953613281,
          "recipe_id": 408762,
          "servings": 4,
          "title": "Quick Pepper Steak",
          "total_calories": 368.1,
          "url": "https://recipes.sparkpeople.com/recipe-detail.asp?recipe=408762"
         },
         {
          "image_path": "../../data/images/186679/000007",
          "predicted_calories": 166.81170654296875,
          "recipe_id": 186679,
          "servings": 4,
          "title": "Spinach Salad",
          "total_calories": 105.3,
          "url": "https://recipes.sparkpeople.com/recipe-detail.asp?recipe=186679"
         },
         {
          "image_path": "../../data/images/150806/000009",
          "predicted_calories": 108.37938690185547,
          "recipe_id": 150806,
          "servings": 2,
          "title": "Vegetarian \"Sausage\" Gravy",
          "total_calories": 159.2,
          "url": "https://recipes.sparkpeople.com/recipe-detail.asp?recipe=150806"
         },
         {
          "image_path": "../../data/images/214613/000005",
          "predicted_calories": 189.51318359375,
          "recipe_id": 214613,
          "servings": 14,
          "title": "Turkey & Andouille Chili",
          "total_calories": 181.6,
          "url": "https://recipes.sparkpeople.com/recipe-detail.asp?recipe=214613"
         },
         {
          "image_path": "../../data/images/341018/000012",
          "predicted_calories": 403.3851318359375,
          "recipe_id": 341018,
          "servings": 12,
          "title": "trail mix",
          "total_calories": 159.9,
          "url": "https://recipes.sparkpeople.com/recipe-detail.asp?recipe=341018"
         },
         {
          "image_path": "../../data/images/174431/000014",
          "predicted_calories": 111.1644287109375,
          "recipe_id": 174431,
          "servings": 4,
          "title": "Oyako bowl",
          "total_calories": 340.3,
          "url": "https://recipes.sparkpeople.com/recipe-detail.asp?recipe=174431"
         },
         {
          "image_path": "../../data/images/356361/000003",
          "predicted_calories": 98.56768798828125,
          "recipe_id": 356361,
          "servings": 12,
          "title": "Chicken Cranberry Salad",
          "total_calories": 140,
          "url": "https://recipes.sparkpeople.com/recipe-detail.asp?recipe=356361"
         },
         {
          "image_path": "../../data/images/424689/000012",
          "predicted_calories": 120.4403305053711,
          "recipe_id": 424689,
          "servings": 8,
          "title": "Hamburger Stew (Buffalo)",
          "total_calories": 124.5,
          "url": "https://recipes.sparkpeople.com/recipe-detail.asp?recipe=424689"
         },
         {
          "image_path": "../../data/images/120701/000010",
          "predicted_calories": 154.8100128173828,
          "recipe_id": 120701,
          "servings": 8,
          "title": "Ambrosia",
          "total_calories": 71.1,
          "url": "https://recipes.sparkpeople.com/recipe-detail.asp?recipe=120701"
         },
         {
          "image_path": "../../data/images/104090/000005",
          "predicted_calories": 415.6168212890625,
          "recipe_id": 104090,
          "servings": 4,
          "title": "Dana's Turkey Burgers",
          "total_calories": 169.3,
          "url": "https://recipes.sparkpeople.com/recipe-detail.asp?recipe=104090"
         },
         {
          "image_path": "../../data/images/337130/000014",
          "predicted_calories": 301.5243835449219,
          "recipe_id": 337130,
          "servings": 16,
          "title": "Buffalo Chicken Dip",
          "total_calories": 80,
          "url": "https://recipes.sparkpeople.com/recipe-detail.asp?recipe=337130"
         },
         {
          "image_path": "../../data/images/202138/000010",
          "predicted_calories": 235.314697265625,
          "recipe_id": 202138,
          "servings": 20,
          "title": "pancakes",
          "total_calories": 74.4,
          "url": "https://recipes.sparkpeople.com/recipe-detail.asp?recipe=202138"
         },
         {
          "image_path": "../../data/images/128481/000007",
          "predicted_calories": 125.98868560791016,
          "recipe_id": 128481,
          "servings": 4,
          "title": "Stir Fried Szechuan Chicken on Rice",
          "total_calories": 283.8,
          "url": "https://recipes.sparkpeople.com/recipe-detail.asp?recipe=128481"
         },
         {
          "image_path": "../../data/images/5995/000011",
          "predicted_calories": 476.6927185058594,
          "recipe_id": 5995,
          "servings": 8,
          "title": "Curried Noodle Salad with Crunchy Vegetables",
          "total_calories": 125.9,
          "url": "https://recipes.sparkpeople.com/recipe-detail.asp?recipe=5995"
         },
         {
          "image_path": "../../data/images/85148/000009",
          "predicted_calories": 103.8444595336914,
          "recipe_id": 85148,
          "servings": 12,
          "title": "Modified Betty Crocker Supermoist Chocolate Cake",
          "total_calories": 194.9,
          "url": "https://recipes.sparkpeople.com/recipe-detail.asp?recipe=85148"
         },
         {
          "image_path": "../../data/images/96478/000003",
          "predicted_calories": 329.0705871582031,
          "recipe_id": 96478,
          "servings": 2,
          "title": "Green Bean Chicken and Rice",
          "total_calories": 174.6,
          "url": "https://recipes.sparkpeople.com/recipe-detail.asp?recipe=96478"
         },
         {
          "image_path": "../../data/images/2674/000006",
          "predicted_calories": 155.70223999023438,
          "recipe_id": 2674,
          "servings": 6,
          "title": "blueberry, peach smoothie",
          "total_calories": 95.3,
          "url": "https://recipes.sparkpeople.com/recipe-detail.asp?recipe=2674"
         },
         {
          "image_path": "../../data/images/430062/000003",
          "predicted_calories": 381.0979919433594,
          "recipe_id": 430062,
          "servings": 4,
          "title": "Easy Healthy Stir Fry",
          "total_calories": 160.5,
          "url": "https://recipes.sparkpeople.com/recipe-detail.asp?recipe=430062"
         },
         {
          "image_path": "../../data/images/329870/000013",
          "predicted_calories": 282.459228515625,
          "recipe_id": 329870,
          "servings": 5,
          "title": "180 Sloppy Joe",
          "total_calories": 180.9,
          "url": "https://recipes.sparkpeople.com/recipe-detail.asp?recipe=329870"
         },
         {
          "image_path": "../../data/images/275412/000013",
          "predicted_calories": 134.8895263671875,
          "recipe_id": 275412,
          "servings": 6,
          "title": "Altered Chicken Divine",
          "total_calories": 192.6,
          "url": "https://recipes.sparkpeople.com/recipe-detail.asp?recipe=275412"
         },
         {
          "image_path": "../../data/images/164435/000003",
          "predicted_calories": 127.27792358398438,
          "recipe_id": 164435,
          "servings": 20,
          "title": "red beans and cabbage soup",
          "total_calories": 118.9,
          "url": "https://recipes.sparkpeople.com/recipe-detail.asp?recipe=164435"
         },
         {
          "image_path": "../../data/images/297772/000012",
          "predicted_calories": 65.91546630859375,
          "recipe_id": 297772,
          "servings": 8,
          "title": "no-fat brownies",
          "total_calories": 121.6,
          "url": "https://recipes.sparkpeople.com/recipe-detail.asp?recipe=297772"
         },
         {
          "image_path": "../../data/images/403015/000006",
          "predicted_calories": 139.60134887695312,
          "recipe_id": 403015,
          "servings": 6,
          "title": "Fantastic Black Bean Chili",
          "total_calories": 336.2,
          "url": "https://recipes.sparkpeople.com/recipe-detail.asp?recipe=403015"
         },
         {
          "image_path": "../../data/images/67917/000011",
          "predicted_calories": 373.4361877441406,
          "recipe_id": 67917,
          "servings": 12,
          "title": "Cornbread - Low Fat",
          "total_calories": 85.7,
          "url": "https://recipes.sparkpeople.com/recipe-detail.asp?recipe=67917"
         },
         {
          "image_path": "../../data/images/151685/000004",
          "predicted_calories": 346.0290832519531,
          "recipe_id": 151685,
          "servings": 6,
          "title": "Cauliflower Amandine",
          "total_calories": 152.8,
          "url": "https://recipes.sparkpeople.com/recipe-detail.asp?recipe=151685"
         },
         {
          "image_path": "../../data/images/104244/000012",
          "predicted_calories": 266.6767578125,
          "recipe_id": 104244,
          "servings": 16,
          "title": "Weight Watcher's Cheesecake ",
          "total_calories": 124.7,
          "url": "https://recipes.sparkpeople.com/recipe-detail.asp?recipe=104244"
         },
         {
          "image_path": "../../data/images/66096/000005",
          "predicted_calories": 299.7812194824219,
          "recipe_id": 66096,
          "servings": 2,
          "title": "Cheesy-Topped Fish",
          "total_calories": 231.2,
          "url": "https://recipes.sparkpeople.com/recipe-detail.asp?recipe=66096"
         }
        ]
       },
       "height": 800,
       "layer": [
        {
         "encoding": {
          "x": {
           "field": "total_calories",
           "type": "quantitative"
          },
          "y": {
           "field": "total_calories",
           "type": "quantitative"
          }
         },
         "mark": "line"
        },
        {
         "encoding": {
          "tooltip": [
           {
            "field": "title",
            "type": "nominal"
           },
           {
            "field": "total_calories",
            "type": "quantitative"
           },
           {
            "field": "predicted_calories",
            "type": "quantitative"
           }
          ],
          "x": {
           "field": "total_calories",
           "type": "quantitative"
          },
          "y": {
           "field": "predicted_calories",
           "type": "quantitative"
          }
         },
         "mark": {
          "color": "red",
          "type": "circle"
         },
         "selection": {
          "selector001": {
           "bind": "scales",
           "encodings": [
            "x",
            "y"
           ],
           "type": "interval"
          }
         }
        }
       ],
       "width": 800
      },
      "image/png": "[encoded data removed]",
      "text/plain": [
       "<VegaLite 3 object>\n",
       "\n",
       "If you see this message, it means the renderer has not been properly enabled\n",
       "for the frontend that you are using. For more information, see\n",
       "https://altair-viz.github.io/user_guide/troubleshooting.html\n"
      ]
     },
     "execution_count": 39,
     "metadata": {},
     "output_type": "execute_result"
    }
   ],
   "source": [
    "df_predictions_sample = df_predictions\n",
    "line = (\n",
    "    alt.Chart(df_predictions_sample)\n",
    "    .mark_line()\n",
    "    .encode(x=\"total_calories\", y=\"total_calories\")\n",
    ")\n",
    "\n",
    "scatter = (\n",
    "    alt.Chart(df_predictions_sample)\n",
    "    .mark_circle(color=\"red\")\n",
    "    .encode(\n",
    "        x=\"total_calories\",\n",
    "        y=\"predicted_calories\",\n",
    "        tooltip=[\"title\", \"total_calories\", \"predicted_calories\"],\n",
    "    )\n",
    ").interactive()\n",
    "\n",
    "(line + scatter).properties(width=800, height=800)"
   ]
  },
  {
   "cell_type": "code",
   "execution_count": 48,
   "metadata": {},
   "outputs": [],
   "source": [
    "NON_FEATURE_COLS = [\"title\", \"total_calories\", \"servings\", \"predicted_calories\"]"
   ]
  },
  {
   "cell_type": "code",
   "execution_count": 57,
   "metadata": {},
   "outputs": [],
   "source": [
    "df_high_cal = df_predictions[df_predictions.predicted_calories > 300]\n",
    "df_low_cal = df_predictions[df_predictions.predicted_calories < 120]"
   ]
  },
  {
   "cell_type": "code",
   "execution_count": 65,
   "metadata": {},
   "outputs": [
    {
     "data": {
      "text/html": [
       "<div>\n",
       "<style scoped>\n",
       "    .dataframe tbody tr th:only-of-type {\n",
       "        vertical-align: middle;\n",
       "    }\n",
       "\n",
       "    .dataframe tbody tr th {\n",
       "        vertical-align: top;\n",
       "    }\n",
       "\n",
       "    .dataframe thead th {\n",
       "        text-align: right;\n",
       "    }\n",
       "</style>\n",
       "<table border=\"1\" class=\"dataframe\">\n",
       "  <thead>\n",
       "    <tr style=\"text-align: right;\">\n",
       "      <th></th>\n",
       "      <th>title</th>\n",
       "      <th>total_calories</th>\n",
       "      <th>servings</th>\n",
       "      <th>predicted_calories</th>\n",
       "    </tr>\n",
       "  </thead>\n",
       "  <tbody>\n",
       "    <tr>\n",
       "      <th>783096</th>\n",
       "      <td>Fast Pork Stir Fry</td>\n",
       "      <td>286.3</td>\n",
       "      <td>6.0</td>\n",
       "      <td>321.372742</td>\n",
       "    </tr>\n",
       "    <tr>\n",
       "      <th>155397</th>\n",
       "      <td>Creamy Ham and Potato Bake</td>\n",
       "      <td>280.8</td>\n",
       "      <td>8.0</td>\n",
       "      <td>336.807617</td>\n",
       "    </tr>\n",
       "    <tr>\n",
       "      <th>345387</th>\n",
       "      <td>beefy rice</td>\n",
       "      <td>150.5</td>\n",
       "      <td>5.0</td>\n",
       "      <td>338.466705</td>\n",
       "    </tr>\n",
       "    <tr>\n",
       "      <th>1261315</th>\n",
       "      <td>JA's pasta</td>\n",
       "      <td>368.1</td>\n",
       "      <td>8.0</td>\n",
       "      <td>335.517090</td>\n",
       "    </tr>\n",
       "    <tr>\n",
       "      <th>504107</th>\n",
       "      <td>Chicken Casserole</td>\n",
       "      <td>273.0</td>\n",
       "      <td>6.0</td>\n",
       "      <td>301.463989</td>\n",
       "    </tr>\n",
       "    <tr>\n",
       "      <th>1283743</th>\n",
       "      <td>Jody's Low Cal Bolognese</td>\n",
       "      <td>317.4</td>\n",
       "      <td>6.0</td>\n",
       "      <td>304.109589</td>\n",
       "    </tr>\n",
       "    <tr>\n",
       "      <th>374282</th>\n",
       "      <td>Onion Pork Chops</td>\n",
       "      <td>212.9</td>\n",
       "      <td>4.0</td>\n",
       "      <td>335.320679</td>\n",
       "    </tr>\n",
       "    <tr>\n",
       "      <th>1176689</th>\n",
       "      <td>Barbecued Scrambled Eggs</td>\n",
       "      <td>104.5</td>\n",
       "      <td>4.0</td>\n",
       "      <td>304.838989</td>\n",
       "    </tr>\n",
       "    <tr>\n",
       "      <th>899865</th>\n",
       "      <td>Cheddar Macaroni Beef Casserole</td>\n",
       "      <td>349.6</td>\n",
       "      <td>4.0</td>\n",
       "      <td>321.651611</td>\n",
       "    </tr>\n",
       "    <tr>\n",
       "      <th>523388</th>\n",
       "      <td>Easy Cheesy Pasta Casserole</td>\n",
       "      <td>208.3</td>\n",
       "      <td>12.0</td>\n",
       "      <td>313.792542</td>\n",
       "    </tr>\n",
       "  </tbody>\n",
       "</table>\n",
       "</div>"
      ],
      "text/plain": [
       "                                   title  total_calories  servings  \\\n",
       "783096                Fast Pork Stir Fry           286.3       6.0   \n",
       "155397        Creamy Ham and Potato Bake           280.8       8.0   \n",
       "345387                        beefy rice           150.5       5.0   \n",
       "1261315                       JA's pasta           368.1       8.0   \n",
       "504107                 Chicken Casserole           273.0       6.0   \n",
       "1283743         Jody's Low Cal Bolognese           317.4       6.0   \n",
       "374282                  Onion Pork Chops           212.9       4.0   \n",
       "1176689         Barbecued Scrambled Eggs           104.5       4.0   \n",
       "899865   Cheddar Macaroni Beef Casserole           349.6       4.0   \n",
       "523388       Easy Cheesy Pasta Casserole           208.3      12.0   \n",
       "\n",
       "         predicted_calories  \n",
       "783096           321.372742  \n",
       "155397           336.807617  \n",
       "345387           338.466705  \n",
       "1261315          335.517090  \n",
       "504107           301.463989  \n",
       "1283743          304.109589  \n",
       "374282           335.320679  \n",
       "1176689          304.838989  \n",
       "899865           321.651611  \n",
       "523388           313.792542  "
      ]
     },
     "execution_count": 65,
     "metadata": {},
     "output_type": "execute_result"
    }
   ],
   "source": [
    "df_high_cal[NON_FEATURE_COLS].sample(10)"
   ]
  },
  {
   "cell_type": "code",
   "execution_count": 67,
   "metadata": {},
   "outputs": [
    {
     "data": {
      "text/html": [
       "<div>\n",
       "<style scoped>\n",
       "    .dataframe tbody tr th:only-of-type {\n",
       "        vertical-align: middle;\n",
       "    }\n",
       "\n",
       "    .dataframe tbody tr th {\n",
       "        vertical-align: top;\n",
       "    }\n",
       "\n",
       "    .dataframe thead th {\n",
       "        text-align: right;\n",
       "    }\n",
       "</style>\n",
       "<table border=\"1\" class=\"dataframe\">\n",
       "  <thead>\n",
       "    <tr style=\"text-align: right;\">\n",
       "      <th></th>\n",
       "      <th>title</th>\n",
       "      <th>total_calories</th>\n",
       "      <th>servings</th>\n",
       "      <th>predicted_calories</th>\n",
       "    </tr>\n",
       "  </thead>\n",
       "  <tbody>\n",
       "    <tr>\n",
       "      <th>503559</th>\n",
       "      <td>Quick Strawberry Ice Cream</td>\n",
       "      <td>449.2</td>\n",
       "      <td>2.0</td>\n",
       "      <td>117.005211</td>\n",
       "    </tr>\n",
       "    <tr>\n",
       "      <th>726041</th>\n",
       "      <td>Avocado Smoothie</td>\n",
       "      <td>204.2</td>\n",
       "      <td>4.0</td>\n",
       "      <td>112.527260</td>\n",
       "    </tr>\n",
       "    <tr>\n",
       "      <th>985263</th>\n",
       "      <td>Whole Wheat Cinnamon English Muffins</td>\n",
       "      <td>139.8</td>\n",
       "      <td>16.0</td>\n",
       "      <td>117.313591</td>\n",
       "    </tr>\n",
       "    <tr>\n",
       "      <th>116409</th>\n",
       "      <td>Creamy Cucumber Salad</td>\n",
       "      <td>48.6</td>\n",
       "      <td>8.0</td>\n",
       "      <td>107.116882</td>\n",
       "    </tr>\n",
       "    <tr>\n",
       "      <th>1280377</th>\n",
       "      <td>Raspberry Cottage Dessert</td>\n",
       "      <td>197.5</td>\n",
       "      <td>4.0</td>\n",
       "      <td>113.475555</td>\n",
       "    </tr>\n",
       "    <tr>\n",
       "      <th>905456</th>\n",
       "      <td>Strawberry Banana Protien Smoothie</td>\n",
       "      <td>144.4</td>\n",
       "      <td>2.0</td>\n",
       "      <td>105.347481</td>\n",
       "    </tr>\n",
       "    <tr>\n",
       "      <th>403080</th>\n",
       "      <td>No Fat Easy Strawberry Ice Cream</td>\n",
       "      <td>226.8</td>\n",
       "      <td>2.0</td>\n",
       "      <td>119.383949</td>\n",
       "    </tr>\n",
       "    <tr>\n",
       "      <th>1265958</th>\n",
       "      <td>Guacamole</td>\n",
       "      <td>188.8</td>\n",
       "      <td>5.0</td>\n",
       "      <td>111.700714</td>\n",
       "    </tr>\n",
       "    <tr>\n",
       "      <th>1102779</th>\n",
       "      <td>Fat-free gravy</td>\n",
       "      <td>83.4</td>\n",
       "      <td>4.0</td>\n",
       "      <td>115.601700</td>\n",
       "    </tr>\n",
       "    <tr>\n",
       "      <th>223811</th>\n",
       "      <td>Japanese Cheesecake</td>\n",
       "      <td>201.5</td>\n",
       "      <td>8.0</td>\n",
       "      <td>116.088516</td>\n",
       "    </tr>\n",
       "  </tbody>\n",
       "</table>\n",
       "</div>"
      ],
      "text/plain": [
       "                                        title  total_calories  servings  \\\n",
       "503559             Quick Strawberry Ice Cream           449.2       2.0   \n",
       "726041                       Avocado Smoothie           204.2       4.0   \n",
       "985263   Whole Wheat Cinnamon English Muffins           139.8      16.0   \n",
       "116409                  Creamy Cucumber Salad            48.6       8.0   \n",
       "1280377             Raspberry Cottage Dessert           197.5       4.0   \n",
       "905456     Strawberry Banana Protien Smoothie           144.4       2.0   \n",
       "403080       No Fat Easy Strawberry Ice Cream           226.8       2.0   \n",
       "1265958                             Guacamole           188.8       5.0   \n",
       "1102779                        Fat-free gravy            83.4       4.0   \n",
       "223811                    Japanese Cheesecake           201.5       8.0   \n",
       "\n",
       "         predicted_calories  \n",
       "503559           117.005211  \n",
       "726041           112.527260  \n",
       "985263           117.313591  \n",
       "116409           107.116882  \n",
       "1280377          113.475555  \n",
       "905456           105.347481  \n",
       "403080           119.383949  \n",
       "1265958          111.700714  \n",
       "1102779          115.601700  \n",
       "223811           116.088516  "
      ]
     },
     "execution_count": 67,
     "metadata": {},
     "output_type": "execute_result"
    }
   ],
   "source": [
    "df_low_cal[NON_FEATURE_COLS].sample(10)"
   ]
  },
  {
   "cell_type": "code",
   "execution_count": 60,
   "metadata": {},
   "outputs": [
    {
     "data": {
      "text/html": [
       "<div>\n",
       "<style scoped>\n",
       "    .dataframe tbody tr th:only-of-type {\n",
       "        vertical-align: middle;\n",
       "    }\n",
       "\n",
       "    .dataframe tbody tr th {\n",
       "        vertical-align: top;\n",
       "    }\n",
       "\n",
       "    .dataframe thead th {\n",
       "        text-align: right;\n",
       "    }\n",
       "</style>\n",
       "<table border=\"1\" class=\"dataframe\">\n",
       "  <thead>\n",
       "    <tr style=\"text-align: right;\">\n",
       "      <th></th>\n",
       "      <th>total_calories</th>\n",
       "      <th>servings</th>\n",
       "      <th>predicted_calories</th>\n",
       "    </tr>\n",
       "  </thead>\n",
       "  <tbody>\n",
       "    <tr>\n",
       "      <th>count</th>\n",
       "      <td>582.000000</td>\n",
       "      <td>582.000000</td>\n",
       "      <td>582.000000</td>\n",
       "    </tr>\n",
       "    <tr>\n",
       "      <th>mean</th>\n",
       "      <td>285.580069</td>\n",
       "      <td>7.216495</td>\n",
       "      <td>321.146790</td>\n",
       "    </tr>\n",
       "    <tr>\n",
       "      <th>std</th>\n",
       "      <td>100.459601</td>\n",
       "      <td>3.571912</td>\n",
       "      <td>19.983000</td>\n",
       "    </tr>\n",
       "    <tr>\n",
       "      <th>min</th>\n",
       "      <td>35.800000</td>\n",
       "      <td>2.000000</td>\n",
       "      <td>300.013062</td>\n",
       "    </tr>\n",
       "    <tr>\n",
       "      <th>25%</th>\n",
       "      <td>216.525000</td>\n",
       "      <td>4.000000</td>\n",
       "      <td>306.192619</td>\n",
       "    </tr>\n",
       "    <tr>\n",
       "      <th>50%</th>\n",
       "      <td>277.000000</td>\n",
       "      <td>6.000000</td>\n",
       "      <td>315.528397</td>\n",
       "    </tr>\n",
       "    <tr>\n",
       "      <th>75%</th>\n",
       "      <td>351.750000</td>\n",
       "      <td>8.000000</td>\n",
       "      <td>329.070641</td>\n",
       "    </tr>\n",
       "    <tr>\n",
       "      <th>max</th>\n",
       "      <td>519.000000</td>\n",
       "      <td>20.000000</td>\n",
       "      <td>424.945099</td>\n",
       "    </tr>\n",
       "  </tbody>\n",
       "</table>\n",
       "</div>"
      ],
      "text/plain": [
       "       total_calories    servings  predicted_calories\n",
       "count      582.000000  582.000000          582.000000\n",
       "mean       285.580069    7.216495          321.146790\n",
       "std        100.459601    3.571912           19.983000\n",
       "min         35.800000    2.000000          300.013062\n",
       "25%        216.525000    4.000000          306.192619\n",
       "50%        277.000000    6.000000          315.528397\n",
       "75%        351.750000    8.000000          329.070641\n",
       "max        519.000000   20.000000          424.945099"
      ]
     },
     "execution_count": 60,
     "metadata": {},
     "output_type": "execute_result"
    }
   ],
   "source": [
    "df_high_cal[NON_FEATURE_COLS].describe()"
   ]
  },
  {
   "cell_type": "code",
   "execution_count": 61,
   "metadata": {},
   "outputs": [
    {
     "data": {
      "text/html": [
       "<div>\n",
       "<style scoped>\n",
       "    .dataframe tbody tr th:only-of-type {\n",
       "        vertical-align: middle;\n",
       "    }\n",
       "\n",
       "    .dataframe tbody tr th {\n",
       "        vertical-align: top;\n",
       "    }\n",
       "\n",
       "    .dataframe thead th {\n",
       "        text-align: right;\n",
       "    }\n",
       "</style>\n",
       "<table border=\"1\" class=\"dataframe\">\n",
       "  <thead>\n",
       "    <tr style=\"text-align: right;\">\n",
       "      <th></th>\n",
       "      <th>total_calories</th>\n",
       "      <th>servings</th>\n",
       "      <th>predicted_calories</th>\n",
       "    </tr>\n",
       "  </thead>\n",
       "  <tbody>\n",
       "    <tr>\n",
       "      <th>count</th>\n",
       "      <td>142.000000</td>\n",
       "      <td>142.000000</td>\n",
       "      <td>142.000000</td>\n",
       "    </tr>\n",
       "    <tr>\n",
       "      <th>mean</th>\n",
       "      <td>140.362676</td>\n",
       "      <td>7.035211</td>\n",
       "      <td>113.294395</td>\n",
       "    </tr>\n",
       "    <tr>\n",
       "      <th>std</th>\n",
       "      <td>81.577341</td>\n",
       "      <td>4.452128</td>\n",
       "      <td>5.152349</td>\n",
       "    </tr>\n",
       "    <tr>\n",
       "      <th>min</th>\n",
       "      <td>27.900000</td>\n",
       "      <td>2.000000</td>\n",
       "      <td>99.643677</td>\n",
       "    </tr>\n",
       "    <tr>\n",
       "      <th>25%</th>\n",
       "      <td>73.450000</td>\n",
       "      <td>4.000000</td>\n",
       "      <td>109.533133</td>\n",
       "    </tr>\n",
       "    <tr>\n",
       "      <th>50%</th>\n",
       "      <td>124.800000</td>\n",
       "      <td>6.000000</td>\n",
       "      <td>114.660564</td>\n",
       "    </tr>\n",
       "    <tr>\n",
       "      <th>75%</th>\n",
       "      <td>189.025000</td>\n",
       "      <td>9.750000</td>\n",
       "      <td>117.593361</td>\n",
       "    </tr>\n",
       "    <tr>\n",
       "      <th>max</th>\n",
       "      <td>449.200000</td>\n",
       "      <td>20.000000</td>\n",
       "      <td>119.989883</td>\n",
       "    </tr>\n",
       "  </tbody>\n",
       "</table>\n",
       "</div>"
      ],
      "text/plain": [
       "       total_calories    servings  predicted_calories\n",
       "count      142.000000  142.000000          142.000000\n",
       "mean       140.362676    7.035211          113.294395\n",
       "std         81.577341    4.452128            5.152349\n",
       "min         27.900000    2.000000           99.643677\n",
       "25%         73.450000    4.000000          109.533133\n",
       "50%        124.800000    6.000000          114.660564\n",
       "75%        189.025000    9.750000          117.593361\n",
       "max        449.200000   20.000000          119.989883"
      ]
     },
     "execution_count": 61,
     "metadata": {},
     "output_type": "execute_result"
    }
   ],
   "source": [
    "df_low_cal[NON_FEATURE_COLS].describe()"
   ]
  },
  {
   "cell_type": "code",
   "execution_count": 62,
   "metadata": {},
   "outputs": [],
   "source": [
    "high_cal_wc = WordCloud().generate(\" \".join(df_high_cal.title.str.lower()))\n",
    "low_cal_wc = WordCloud().generate(\" \".join(df_low_cal.title.str.lower()))"
   ]
  },
  {
   "cell_type": "code",
   "execution_count": 63,
   "metadata": {},
   "outputs": [
    {
     "data": {
      "text/plain": [
       "<matplotlib.image.AxesImage at 0x7f9ca3dad198>"
      ]
     },
     "execution_count": 63,
     "metadata": {},
     "output_type": "execute_result"
    },
    {
     "data": {
      "image/png": "[encoded data removed]",
      "text/plain": [
       "<Figure size 1080x1080 with 1 Axes>"
      ]
     },
     "metadata": {
      "needs_background": "light"
     },
     "output_type": "display_data"
    }
   ],
   "source": [
    "plt.figure(figsize=(15, 15))\n",
    "plt.imshow(high_cal_wc, interpolation=\"nearest\")"
   ]
  },
  {
   "cell_type": "code",
   "execution_count": 64,
   "metadata": {},
   "outputs": [
    {
     "data": {
      "text/plain": [
       "<matplotlib.image.AxesImage at 0x7f9ca3c72cf8>"
      ]
     },
     "execution_count": 64,
     "metadata": {},
     "output_type": "execute_result"
    },
    {
     "data": {
      "image/png": "[encoded data removed]",
      "text/plain": [
       "<Figure size 1080x1080 with 1 Axes>"
      ]
     },
     "metadata": {
      "needs_background": "light"
     },
     "output_type": "display_data"
    }
   ],
   "source": [
    "plt.figure(figsize=(15, 15))\n",
    "plt.imshow(low_cal_wc, interpolation=\"nearest\")"
   ]
  },
  {
   "cell_type": "markdown",
   "metadata": {},
   "source": [
    "# Persist Model"
   ]
  },
  {
   "cell_type": "code",
   "execution_count": 68,
   "metadata": {},
   "outputs": [
    {
     "name": "stdout",
     "output_type": "stream",
     "text": [
      "calorie_regression_mobilenet.pt\n"
     ]
    }
   ],
   "source": [
    "!ls ../../models"
   ]
  },
  {
   "cell_type": "code",
   "execution_count": 69,
   "metadata": {},
   "outputs": [
    {
     "name": "stderr",
     "output_type": "stream",
     "text": [
      "/home/mike/.conda/envs/seefood/lib/python3.7/site-packages/torch/serialization.py:292: UserWarning: Couldn't retrieve source code for container of type CalorieNet. It won't be checked for correctness upon loading.\n",
      "  \"type \" + obj.__name__ + \". It won't be checked \"\n",
      "/home/mike/.conda/envs/seefood/lib/python3.7/site-packages/torch/serialization.py:292: UserWarning: Couldn't retrieve source code for container of type Sequential. It won't be checked for correctness upon loading.\n",
      "  \"type \" + obj.__name__ + \". It won't be checked \"\n",
      "/home/mike/.conda/envs/seefood/lib/python3.7/site-packages/torch/serialization.py:292: UserWarning: Couldn't retrieve source code for container of type ConvBNReLU. It won't be checked for correctness upon loading.\n",
      "  \"type \" + obj.__name__ + \". It won't be checked \"\n",
      "/home/mike/.conda/envs/seefood/lib/python3.7/site-packages/torch/serialization.py:292: UserWarning: Couldn't retrieve source code for container of type Conv2d. It won't be checked for correctness upon loading.\n",
      "  \"type \" + obj.__name__ + \". It won't be checked \"\n",
      "/home/mike/.conda/envs/seefood/lib/python3.7/site-packages/torch/serialization.py:292: UserWarning: Couldn't retrieve source code for container of type BatchNorm2d. It won't be checked for correctness upon loading.\n",
      "  \"type \" + obj.__name__ + \". It won't be checked \"\n",
      "/home/mike/.conda/envs/seefood/lib/python3.7/site-packages/torch/serialization.py:292: UserWarning: Couldn't retrieve source code for container of type ReLU6. It won't be checked for correctness upon loading.\n",
      "  \"type \" + obj.__name__ + \". It won't be checked \"\n",
      "/home/mike/.conda/envs/seefood/lib/python3.7/site-packages/torch/serialization.py:292: UserWarning: Couldn't retrieve source code for container of type InvertedResidual. It won't be checked for correctness upon loading.\n",
      "  \"type \" + obj.__name__ + \". It won't be checked \"\n",
      "/home/mike/.conda/envs/seefood/lib/python3.7/site-packages/torch/serialization.py:292: UserWarning: Couldn't retrieve source code for container of type Dropout. It won't be checked for correctness upon loading.\n",
      "  \"type \" + obj.__name__ + \". It won't be checked \"\n",
      "/home/mike/.conda/envs/seefood/lib/python3.7/site-packages/torch/serialization.py:292: UserWarning: Couldn't retrieve source code for container of type Linear. It won't be checked for correctness upon loading.\n",
      "  \"type \" + obj.__name__ + \". It won't be checked \"\n"
     ]
    }
   ],
   "source": [
    "torch.save(model_ft, \"../../models/calorie_regression_mobilenet_.pt\")"
   ]
  },
  {
   "cell_type": "code",
   "execution_count": null,
   "metadata": {},
   "outputs": [],
   "source": []
  }
 ],
 "metadata": {
  "kernelspec": {
   "display_name": "Python 3",
   "language": "python",
   "name": "python3"
  },
  "language_info": {
   "codemirror_mode": {
    "name": "ipython",
    "version": 3
   },
   "file_extension": ".py",
   "mimetype": "text/x-python",
   "name": "python",
   "nbconvert_exporter": "python",
   "pygments_lexer": "ipython3",
   "version": "3.7.3"
  }
 },
 "nbformat": 4,
 "nbformat_minor": 4
}
