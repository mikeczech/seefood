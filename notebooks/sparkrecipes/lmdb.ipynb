{
 "cells": [
  {
   "cell_type": "code",
   "execution_count": 1,
   "metadata": {},
   "outputs": [],
   "source": [
    "IMAGE_SIZE = 224\n",
    "NUM_CHANNELS = 3\n",
    "LMDB_DIR_PATH = \"/mnt/lab_lmdb\""
   ]
  },
  {
   "cell_type": "markdown",
   "metadata": {},
   "source": [
    "# Store Train-Test Data to LMDB"
   ]
  },
  {
   "cell_type": "code",
   "execution_count": 2,
   "metadata": {},
   "outputs": [],
   "source": [
    "%load_ext google.cloud.bigquery\n",
    "%load_ext lab_black\n",
    "%load_ext line_profiler"
   ]
  },
  {
   "cell_type": "code",
   "execution_count": 3,
   "metadata": {},
   "outputs": [],
   "source": [
    "import lmdb\n",
    "import pickle\n",
    "from PIL import Image, ImageFile\n",
    "import numpy as np\n",
    "from pympler import asizeof\n",
    "import torch\n",
    "from tqdm.notebook import tqdm\n",
    "from torchvision import datasets, models, transforms\n",
    "from sklearn.model_selection import train_test_split\n",
    "from sklearn.utils import shuffle\n",
    "\n",
    "import torch.nn as nn"
   ]
  },
  {
   "cell_type": "code",
   "execution_count": 4,
   "metadata": {},
   "outputs": [],
   "source": [
    "TRAIN_DATA_FILE = f\"{LMDB_DIR_PATH}/seefood_train_data\"\n",
    "TEST_DATA_FILE = f\"{LMDB_DIR_PATH}/seefood_test_data\""
   ]
  },
  {
   "cell_type": "code",
   "execution_count": 5,
   "metadata": {},
   "outputs": [],
   "source": [
    "device = torch.device(\"cuda:0\" if torch.cuda.is_available() else \"cpu\")\n",
    "cpu = torch.device(\"cpu\")"
   ]
  },
  {
   "cell_type": "code",
   "execution_count": 6,
   "metadata": {},
   "outputs": [],
   "source": [
    "def set_parameter_requires_grad(model, feature_extracting):\n",
    "    if feature_extracting:\n",
    "        for param in model.parameters():\n",
    "            param.requires_grad = False\n",
    "\n",
    "\n",
    "model = models.mobilenet_v2(pretrained=True)\n",
    "set_parameter_requires_grad(model, True)"
   ]
  },
  {
   "cell_type": "markdown",
   "metadata": {},
   "source": [
    "## Load Data"
   ]
  },
  {
   "cell_type": "code",
   "execution_count": 8,
   "metadata": {},
   "outputs": [],
   "source": [
    "%%bigquery df --project zenscr-seefood-dev\n",
    "\n",
    "SELECT recipe_id, title, image_path, total_calories\n",
    "FROM `zenscr-seefood-dev.sparkrecipes.base_filtered`\n",
    "INNER JOIN `zenscr-seefood-dev.sparkrecipes.image_path`\n",
    "USING (recipe_id)"
   ]
  },
  {
   "cell_type": "code",
   "execution_count": 9,
   "metadata": {},
   "outputs": [
    {
     "data": {
      "text/html": [
       "<div>\n",
       "<style scoped>\n",
       "    .dataframe tbody tr th:only-of-type {\n",
       "        vertical-align: middle;\n",
       "    }\n",
       "\n",
       "    .dataframe tbody tr th {\n",
       "        vertical-align: top;\n",
       "    }\n",
       "\n",
       "    .dataframe thead th {\n",
       "        text-align: right;\n",
       "    }\n",
       "</style>\n",
       "<table border=\"1\" class=\"dataframe\">\n",
       "  <thead>\n",
       "    <tr style=\"text-align: right;\">\n",
       "      <th></th>\n",
       "      <th>recipe_id</th>\n",
       "      <th>title</th>\n",
       "      <th>image_path</th>\n",
       "      <th>total_calories</th>\n",
       "    </tr>\n",
       "  </thead>\n",
       "  <tbody>\n",
       "    <tr>\n",
       "      <th>0</th>\n",
       "      <td>70865</td>\n",
       "      <td>Fruit Cocktail Dessert/Salad</td>\n",
       "      <td>../../data/images/70865/000001</td>\n",
       "      <td>30.0</td>\n",
       "    </tr>\n",
       "    <tr>\n",
       "      <th>1</th>\n",
       "      <td>70865</td>\n",
       "      <td>Fruit Cocktail Dessert/Salad</td>\n",
       "      <td>../../data/images/70865/000010</td>\n",
       "      <td>30.0</td>\n",
       "    </tr>\n",
       "    <tr>\n",
       "      <th>2</th>\n",
       "      <td>70865</td>\n",
       "      <td>Fruit Cocktail Dessert/Salad</td>\n",
       "      <td>../../data/images/70865/000011</td>\n",
       "      <td>30.0</td>\n",
       "    </tr>\n",
       "    <tr>\n",
       "      <th>3</th>\n",
       "      <td>70865</td>\n",
       "      <td>Fruit Cocktail Dessert/Salad</td>\n",
       "      <td>../../data/images/70865/000012</td>\n",
       "      <td>30.0</td>\n",
       "    </tr>\n",
       "    <tr>\n",
       "      <th>4</th>\n",
       "      <td>70865</td>\n",
       "      <td>Fruit Cocktail Dessert/Salad</td>\n",
       "      <td>../../data/images/70865/000013</td>\n",
       "      <td>30.0</td>\n",
       "    </tr>\n",
       "    <tr>\n",
       "      <th>...</th>\n",
       "      <td>...</td>\n",
       "      <td>...</td>\n",
       "      <td>...</td>\n",
       "      <td>...</td>\n",
       "    </tr>\n",
       "    <tr>\n",
       "      <th>1311732</th>\n",
       "      <td>418865</td>\n",
       "      <td>Banana Bread Muffins</td>\n",
       "      <td>../../data/images/418865/000005</td>\n",
       "      <td>134.9</td>\n",
       "    </tr>\n",
       "    <tr>\n",
       "      <th>1311733</th>\n",
       "      <td>418865</td>\n",
       "      <td>Banana Bread Muffins</td>\n",
       "      <td>../../data/images/418865/000006</td>\n",
       "      <td>134.9</td>\n",
       "    </tr>\n",
       "    <tr>\n",
       "      <th>1311734</th>\n",
       "      <td>418865</td>\n",
       "      <td>Banana Bread Muffins</td>\n",
       "      <td>../../data/images/418865/000007</td>\n",
       "      <td>134.9</td>\n",
       "    </tr>\n",
       "    <tr>\n",
       "      <th>1311735</th>\n",
       "      <td>418865</td>\n",
       "      <td>Banana Bread Muffins</td>\n",
       "      <td>../../data/images/418865/000008</td>\n",
       "      <td>134.9</td>\n",
       "    </tr>\n",
       "    <tr>\n",
       "      <th>1311736</th>\n",
       "      <td>418865</td>\n",
       "      <td>Banana Bread Muffins</td>\n",
       "      <td>../../data/images/418865/000009</td>\n",
       "      <td>134.9</td>\n",
       "    </tr>\n",
       "  </tbody>\n",
       "</table>\n",
       "<p>1311737 rows × 4 columns</p>\n",
       "</div>"
      ],
      "text/plain": [
       "         recipe_id                         title  \\\n",
       "0            70865  Fruit Cocktail Dessert/Salad   \n",
       "1            70865  Fruit Cocktail Dessert/Salad   \n",
       "2            70865  Fruit Cocktail Dessert/Salad   \n",
       "3            70865  Fruit Cocktail Dessert/Salad   \n",
       "4            70865  Fruit Cocktail Dessert/Salad   \n",
       "...            ...                           ...   \n",
       "1311732     418865          Banana Bread Muffins   \n",
       "1311733     418865          Banana Bread Muffins   \n",
       "1311734     418865          Banana Bread Muffins   \n",
       "1311735     418865          Banana Bread Muffins   \n",
       "1311736     418865          Banana Bread Muffins   \n",
       "\n",
       "                              image_path  total_calories  \n",
       "0         ../../data/images/70865/000001            30.0  \n",
       "1         ../../data/images/70865/000010            30.0  \n",
       "2         ../../data/images/70865/000011            30.0  \n",
       "3         ../../data/images/70865/000012            30.0  \n",
       "4         ../../data/images/70865/000013            30.0  \n",
       "...                                  ...             ...  \n",
       "1311732  ../../data/images/418865/000005           134.9  \n",
       "1311733  ../../data/images/418865/000006           134.9  \n",
       "1311734  ../../data/images/418865/000007           134.9  \n",
       "1311735  ../../data/images/418865/000008           134.9  \n",
       "1311736  ../../data/images/418865/000009           134.9  \n",
       "\n",
       "[1311737 rows x 4 columns]"
      ]
     },
     "execution_count": 9,
     "metadata": {},
     "output_type": "execute_result"
    }
   ],
   "source": [
    "df"
   ]
  },
  {
   "cell_type": "code",
   "execution_count": 10,
   "metadata": {},
   "outputs": [],
   "source": [
    "df_shuffled = shuffle(df)"
   ]
  },
  {
   "cell_type": "code",
   "execution_count": 11,
   "metadata": {},
   "outputs": [
    {
     "data": {
      "text/html": [
       "<div>\n",
       "<style scoped>\n",
       "    .dataframe tbody tr th:only-of-type {\n",
       "        vertical-align: middle;\n",
       "    }\n",
       "\n",
       "    .dataframe tbody tr th {\n",
       "        vertical-align: top;\n",
       "    }\n",
       "\n",
       "    .dataframe thead th {\n",
       "        text-align: right;\n",
       "    }\n",
       "</style>\n",
       "<table border=\"1\" class=\"dataframe\">\n",
       "  <thead>\n",
       "    <tr style=\"text-align: right;\">\n",
       "      <th></th>\n",
       "      <th>recipe_id</th>\n",
       "      <th>title</th>\n",
       "      <th>image_path</th>\n",
       "      <th>total_calories</th>\n",
       "    </tr>\n",
       "  </thead>\n",
       "  <tbody>\n",
       "    <tr>\n",
       "      <th>580214</th>\n",
       "      <td>60247</td>\n",
       "      <td>Tofu Noodle Stir Fry Soup</td>\n",
       "      <td>../../data/images/60247/000008</td>\n",
       "      <td>317.2</td>\n",
       "    </tr>\n",
       "    <tr>\n",
       "      <th>743496</th>\n",
       "      <td>395614</td>\n",
       "      <td>Lemony Light Cooler</td>\n",
       "      <td>../../data/images/395614/000013</td>\n",
       "      <td>127.7</td>\n",
       "    </tr>\n",
       "    <tr>\n",
       "      <th>754228</th>\n",
       "      <td>152304</td>\n",
       "      <td>roast beef/potato/carrot</td>\n",
       "      <td>../../data/images/152304/000007</td>\n",
       "      <td>371.0</td>\n",
       "    </tr>\n",
       "    <tr>\n",
       "      <th>438073</th>\n",
       "      <td>67088</td>\n",
       "      <td>Coconut Rice</td>\n",
       "      <td>../../data/images/67088/000015</td>\n",
       "      <td>334.8</td>\n",
       "    </tr>\n",
       "    <tr>\n",
       "      <th>23707</th>\n",
       "      <td>90673</td>\n",
       "      <td>Tru's Smashed Cauliflower</td>\n",
       "      <td>../../data/images/90673/000013</td>\n",
       "      <td>129.1</td>\n",
       "    </tr>\n",
       "    <tr>\n",
       "      <th>...</th>\n",
       "      <td>...</td>\n",
       "      <td>...</td>\n",
       "      <td>...</td>\n",
       "      <td>...</td>\n",
       "    </tr>\n",
       "    <tr>\n",
       "      <th>755052</th>\n",
       "      <td>354257</td>\n",
       "      <td>Hollandaise</td>\n",
       "      <td>../../data/images/354257/000006</td>\n",
       "      <td>38.5</td>\n",
       "    </tr>\n",
       "    <tr>\n",
       "      <th>124110</th>\n",
       "      <td>16814</td>\n",
       "      <td>cheesy fried green tomatoes</td>\n",
       "      <td>../../data/images/16814/000007</td>\n",
       "      <td>106.1</td>\n",
       "    </tr>\n",
       "    <tr>\n",
       "      <th>762806</th>\n",
       "      <td>363896</td>\n",
       "      <td>Vegan Carrot Parsnip Soup</td>\n",
       "      <td>../../data/images/363896/000003</td>\n",
       "      <td>211.0</td>\n",
       "    </tr>\n",
       "    <tr>\n",
       "      <th>1108972</th>\n",
       "      <td>344642</td>\n",
       "      <td>cucumber salad</td>\n",
       "      <td>../../data/images/344642/000015</td>\n",
       "      <td>53.4</td>\n",
       "    </tr>\n",
       "    <tr>\n",
       "      <th>79684</th>\n",
       "      <td>394949</td>\n",
       "      <td>Mariela's Chicken &amp; Veggie Stir Fry</td>\n",
       "      <td>../../data/images/394949/000008</td>\n",
       "      <td>231.3</td>\n",
       "    </tr>\n",
       "  </tbody>\n",
       "</table>\n",
       "<p>1311737 rows × 4 columns</p>\n",
       "</div>"
      ],
      "text/plain": [
       "         recipe_id                                title  \\\n",
       "580214       60247            Tofu Noodle Stir Fry Soup   \n",
       "743496      395614                  Lemony Light Cooler   \n",
       "754228      152304             roast beef/potato/carrot   \n",
       "438073       67088                         Coconut Rice   \n",
       "23707        90673            Tru's Smashed Cauliflower   \n",
       "...            ...                                  ...   \n",
       "755052      354257                          Hollandaise   \n",
       "124110       16814          cheesy fried green tomatoes   \n",
       "762806      363896            Vegan Carrot Parsnip Soup   \n",
       "1108972     344642                       cucumber salad   \n",
       "79684       394949  Mariela's Chicken & Veggie Stir Fry   \n",
       "\n",
       "                              image_path  total_calories  \n",
       "580214    ../../data/images/60247/000008           317.2  \n",
       "743496   ../../data/images/395614/000013           127.7  \n",
       "754228   ../../data/images/152304/000007           371.0  \n",
       "438073    ../../data/images/67088/000015           334.8  \n",
       "23707     ../../data/images/90673/000013           129.1  \n",
       "...                                  ...             ...  \n",
       "755052   ../../data/images/354257/000006            38.5  \n",
       "124110    ../../data/images/16814/000007           106.1  \n",
       "762806   ../../data/images/363896/000003           211.0  \n",
       "1108972  ../../data/images/344642/000015            53.4  \n",
       "79684    ../../data/images/394949/000008           231.3  \n",
       "\n",
       "[1311737 rows x 4 columns]"
      ]
     },
     "execution_count": 11,
     "metadata": {},
     "output_type": "execute_result"
    }
   ],
   "source": [
    "df_shuffled"
   ]
  },
  {
   "cell_type": "markdown",
   "metadata": {},
   "source": [
    "## Train-Test Split"
   ]
  },
  {
   "cell_type": "code",
   "execution_count": 12,
   "metadata": {},
   "outputs": [],
   "source": [
    "X_train, X_test, y_train, y_test = train_test_split(\n",
    "    df_shuffled[[\"image_path\"]],\n",
    "    df_shuffled.total_calories,\n",
    "    test_size=0.33,\n",
    "    random_state=42,\n",
    ")"
   ]
  },
  {
   "cell_type": "code",
   "execution_count": 13,
   "metadata": {},
   "outputs": [],
   "source": [
    "df_train = X_train.assign(target=y_train).reset_index(drop=True)\n",
    "df_test = X_test.assign(target=y_test).reset_index(drop=True)"
   ]
  },
  {
   "cell_type": "code",
   "execution_count": 14,
   "metadata": {},
   "outputs": [
    {
     "data": {
      "text/html": [
       "<div>\n",
       "<style scoped>\n",
       "    .dataframe tbody tr th:only-of-type {\n",
       "        vertical-align: middle;\n",
       "    }\n",
       "\n",
       "    .dataframe tbody tr th {\n",
       "        vertical-align: top;\n",
       "    }\n",
       "\n",
       "    .dataframe thead th {\n",
       "        text-align: right;\n",
       "    }\n",
       "</style>\n",
       "<table border=\"1\" class=\"dataframe\">\n",
       "  <thead>\n",
       "    <tr style=\"text-align: right;\">\n",
       "      <th></th>\n",
       "      <th>image_path</th>\n",
       "      <th>target</th>\n",
       "    </tr>\n",
       "  </thead>\n",
       "  <tbody>\n",
       "    <tr>\n",
       "      <th>0</th>\n",
       "      <td>../../data/images/234936/000014</td>\n",
       "      <td>238.7</td>\n",
       "    </tr>\n",
       "    <tr>\n",
       "      <th>1</th>\n",
       "      <td>../../data/images/275146/000009</td>\n",
       "      <td>131.9</td>\n",
       "    </tr>\n",
       "    <tr>\n",
       "      <th>2</th>\n",
       "      <td>../../data/images/269798/000006</td>\n",
       "      <td>350.4</td>\n",
       "    </tr>\n",
       "    <tr>\n",
       "      <th>3</th>\n",
       "      <td>../../data/images/414439/000002</td>\n",
       "      <td>300.6</td>\n",
       "    </tr>\n",
       "    <tr>\n",
       "      <th>4</th>\n",
       "      <td>../../data/images/298095/000001</td>\n",
       "      <td>195.2</td>\n",
       "    </tr>\n",
       "    <tr>\n",
       "      <th>...</th>\n",
       "      <td>...</td>\n",
       "      <td>...</td>\n",
       "    </tr>\n",
       "    <tr>\n",
       "      <th>878858</th>\n",
       "      <td>../../data/images/305994/000006</td>\n",
       "      <td>135.3</td>\n",
       "    </tr>\n",
       "    <tr>\n",
       "      <th>878859</th>\n",
       "      <td>../../data/images/302902/000013</td>\n",
       "      <td>128.1</td>\n",
       "    </tr>\n",
       "    <tr>\n",
       "      <th>878860</th>\n",
       "      <td>../../data/images/25604/000005</td>\n",
       "      <td>236.0</td>\n",
       "    </tr>\n",
       "    <tr>\n",
       "      <th>878861</th>\n",
       "      <td>../../data/images/364713/000014</td>\n",
       "      <td>57.3</td>\n",
       "    </tr>\n",
       "    <tr>\n",
       "      <th>878862</th>\n",
       "      <td>../../data/images/221916/000004</td>\n",
       "      <td>299.5</td>\n",
       "    </tr>\n",
       "  </tbody>\n",
       "</table>\n",
       "<p>878863 rows × 2 columns</p>\n",
       "</div>"
      ],
      "text/plain": [
       "                             image_path  target\n",
       "0       ../../data/images/234936/000014   238.7\n",
       "1       ../../data/images/275146/000009   131.9\n",
       "2       ../../data/images/269798/000006   350.4\n",
       "3       ../../data/images/414439/000002   300.6\n",
       "4       ../../data/images/298095/000001   195.2\n",
       "...                                 ...     ...\n",
       "878858  ../../data/images/305994/000006   135.3\n",
       "878859  ../../data/images/302902/000013   128.1\n",
       "878860   ../../data/images/25604/000005   236.0\n",
       "878861  ../../data/images/364713/000014    57.3\n",
       "878862  ../../data/images/221916/000004   299.5\n",
       "\n",
       "[878863 rows x 2 columns]"
      ]
     },
     "execution_count": 14,
     "metadata": {},
     "output_type": "execute_result"
    }
   ],
   "source": [
    "df_train"
   ]
  },
  {
   "cell_type": "code",
   "execution_count": 30,
   "metadata": {},
   "outputs": [
    {
     "name": "stderr",
     "output_type": "stream",
     "text": [
      "1it [00:24, 24.22s/it]\n"
     ]
    }
   ],
   "source": [
    "df_train[[\"image_path\"]].reset_index().to_gbq(\n",
    "    \"sparkrecipes.train_image_mapping\",\n",
    "    if_exists=\"replace\",\n",
    "    project_id=\"zenscr-seefood-dev\",\n",
    ")"
   ]
  },
  {
   "cell_type": "code",
   "execution_count": 31,
   "metadata": {},
   "outputs": [
    {
     "name": "stderr",
     "output_type": "stream",
     "text": [
      "1it [00:08,  8.73s/it]\n"
     ]
    }
   ],
   "source": [
    "df_test[[\"image_path\"]].reset_index().to_gbq(\n",
    "    \"sparkrecipes.test_image_mapping\",\n",
    "    if_exists=\"replace\",\n",
    "    project_id=\"zenscr-seefood-dev\",\n",
    ")"
   ]
  },
  {
   "cell_type": "markdown",
   "metadata": {},
   "source": [
    "## Write Embeddings to LMDB"
   ]
  },
  {
   "cell_type": "code",
   "execution_count": 22,
   "metadata": {},
   "outputs": [],
   "source": [
    "class FeatureExtractor(nn.Module):\n",
    "    def __init__(self, model):\n",
    "        super(FeatureExtractor, self).__init__()\n",
    "        self.features = model.features\n",
    "        for p in self.features.parameters():\n",
    "            p.requires_grad = False\n",
    "\n",
    "    def forward(self, x):\n",
    "        return self.features(x)\n",
    "\n",
    "\n",
    "class Features:\n",
    "    def __init__(self, features, target):\n",
    "        self.shape = features.shape\n",
    "        self.features = features.numpy().tobytes()\n",
    "        self.target = target.round().item()\n",
    "\n",
    "    def get_features(self):\n",
    "        features = np.frombuffer(self.features, dtype=np.float32)\n",
    "        return torch.from_numpy(features.reshape(self.shape))\n",
    "\n",
    "\n",
    "class ImageDataset(torch.utils.data.Dataset):\n",
    "    def __init__(self, df, transform):\n",
    "        self.images = df[\"image_path\"].reset_index(drop=True)\n",
    "        self.targets = df[\"target\"].reset_index(drop=True)\n",
    "        self.transform = transform\n",
    "\n",
    "    def __len__(self):\n",
    "        return len(self.images)\n",
    "\n",
    "    def __getitem__(self, idx):\n",
    "        img_path = self.images.iloc[idx]\n",
    "        with Image.open(img_path) as f:\n",
    "            image = f.convert(\"RGB\")\n",
    "        image = self.transform(image)\n",
    "        return image, self.targets.iloc[idx]\n",
    "\n",
    "\n",
    "transform = transforms.Compose(\n",
    "    [\n",
    "        transforms.Resize(IMAGE_SIZE),\n",
    "        transforms.CenterCrop(IMAGE_SIZE),\n",
    "        transforms.ToTensor(),\n",
    "        transforms.Normalize([0.485, 0.456, 0.406], [0.229, 0.224, 0.225]),\n",
    "    ]\n",
    ")\n",
    "\n",
    "dataloader_train = torch.utils.data.DataLoader(\n",
    "    ImageDataset(df_train, transform), batch_size=256, shuffle=False, num_workers=4\n",
    ")\n",
    "\n",
    "dataloader_test = torch.utils.data.DataLoader(\n",
    "    ImageDataset(df_test, transform), batch_size=256, shuffle=False, num_workers=4\n",
    ")"
   ]
  },
  {
   "cell_type": "code",
   "execution_count": 16,
   "metadata": {},
   "outputs": [],
   "source": [
    "feature_extractor = FeatureExtractor(model).to(device)"
   ]
  },
  {
   "cell_type": "code",
   "execution_count": 17,
   "metadata": {},
   "outputs": [],
   "source": [
    "torch.cuda.empty_cache()"
   ]
  },
  {
   "cell_type": "code",
   "execution_count": 18,
   "metadata": {},
   "outputs": [],
   "source": [
    "def store_to_lmdb(lmdb_filename, dataloader, image_size=IMAGE_SIZE):\n",
    "    num_images = len(dataloader.dataset)\n",
    "\n",
    "    map_size = num_images * (\n",
    "        300000 + asizeof.asizeof(f\"{0:08}\") + 2048\n",
    "    )  # approximate map size\n",
    "\n",
    "    index = 0\n",
    "    with lmdb.open(lmdb_filename, map_size=map_size) as env:\n",
    "        for images, targets in tqdm(dataloader):\n",
    "            with env.begin(write=True) as txn:\n",
    "                images = images.to(device)\n",
    "                features = feature_extractor(images).to(cpu)\n",
    "                for f, t in zip(features, targets):\n",
    "                    key = f\"{index:08}\".encode(\"ascii\")\n",
    "                    value = Features(f, t)\n",
    "                    txn.put(key, pickle.dumps(value))\n",
    "                    index += 1"
   ]
  },
  {
   "cell_type": "code",
   "execution_count": 19,
   "metadata": {},
   "outputs": [
    {
     "data": {
      "application/vnd.jupyter.widget-view+json": {
       "model_id": "6be452ae9b1748a6bf4ac5e5a665dace",
       "version_major": 2,
       "version_minor": 0
      },
      "text/plain": [
       "HBox(children=(FloatProgress(value=0.0, max=3434.0), HTML(value='')))"
      ]
     },
     "metadata": {},
     "output_type": "display_data"
    },
    {
     "name": "stdout",
     "output_type": "stream",
     "text": [
      "\n"
     ]
    }
   ],
   "source": [
    "store_to_lmdb(TRAIN_DATA_FILE, dataloader_train)"
   ]
  },
  {
   "cell_type": "code",
   "execution_count": 24,
   "metadata": {},
   "outputs": [
    {
     "data": {
      "application/vnd.jupyter.widget-view+json": {
       "model_id": "dba7a8c6b3e649c18de498c13a16a44f",
       "version_major": 2,
       "version_minor": 0
      },
      "text/plain": [
       "HBox(children=(FloatProgress(value=0.0, max=1691.0), HTML(value='')))"
      ]
     },
     "metadata": {},
     "output_type": "display_data"
    },
    {
     "name": "stdout",
     "output_type": "stream",
     "text": [
      "\n"
     ]
    }
   ],
   "source": [
    "store_to_lmdb(\"/mnt/lmdb_storage/seefood_test_data\", dataloader_test)"
   ]
  },
  {
   "cell_type": "markdown",
   "metadata": {},
   "source": [
    "## Read Embeddings from LMDB"
   ]
  },
  {
   "cell_type": "code",
   "execution_count": null,
   "metadata": {},
   "outputs": [],
   "source": [
    "def read_from_lmdb_multiple_txns(lmdb_filename, df):\n",
    "    features = []\n",
    "    targets = []\n",
    "\n",
    "    with lmdb.open(lmdb_filename, readonly=True) as env:\n",
    "        for i, _ in df.image_path.iteritems():\n",
    "            with env.begin() as txn:\n",
    "                data = txn.get(f\"{i:08}\".encode(\"ascii\"))\n",
    "                data = pickle.loads(data)\n",
    "                features.append(data.get_features())\n",
    "                targets.append(data.target)\n",
    "    return features, targets"
   ]
  },
  {
   "cell_type": "code",
   "execution_count": null,
   "metadata": {},
   "outputs": [],
   "source": [
    "%time features, targets = read_from_lmdb_multiple_txns(TRAIN_DATA_FILE, df_train)"
   ]
  },
  {
   "cell_type": "code",
   "execution_count": null,
   "metadata": {},
   "outputs": [],
   "source": [
    "len(features)"
   ]
  },
  {
   "cell_type": "code",
   "execution_count": null,
   "metadata": {},
   "outputs": [],
   "source": [
    "features[:5]"
   ]
  },
  {
   "cell_type": "code",
   "execution_count": null,
   "metadata": {},
   "outputs": [],
   "source": []
  }
 ],
 "metadata": {
  "kernelspec": {
   "display_name": "Python 3",
   "language": "python",
   "name": "python3"
  },
  "language_info": {
   "codemirror_mode": {
    "name": "ipython",
    "version": 3
   },
   "file_extension": ".py",
   "mimetype": "text/x-python",
   "name": "python",
   "nbconvert_exporter": "python",
   "pygments_lexer": "ipython3",
   "version": "3.7.6"
  }
 },
 "nbformat": 4,
 "nbformat_minor": 4
}
