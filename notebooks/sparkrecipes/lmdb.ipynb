{
 "cells": [
  {
   "cell_type": "code",
   "execution_count": 1,
   "metadata": {},
   "outputs": [],
   "source": [
    "IMAGE_SIZE = 224\n",
    "NUM_CHANNELS = 3\n",
    "LMDB_DIR_PATH = \"/mnt/data_ssd/lmdb\"\n",
    "MODEL_NAME = \"efficientnet_b0\""
   ]
  },
  {
   "cell_type": "markdown",
   "metadata": {},
   "source": [
    "# Compute Embeddings and Persist them in LMDB"
   ]
  },
  {
   "cell_type": "code",
   "execution_count": 2,
   "metadata": {},
   "outputs": [],
   "source": [
    "%load_ext google.cloud.bigquery\n",
    "%load_ext lab_black\n",
    "%load_ext line_profiler"
   ]
  },
  {
   "cell_type": "code",
   "execution_count": 3,
   "metadata": {},
   "outputs": [],
   "source": [
    "import lmdb\n",
    "import pickle\n",
    "from PIL import Image, ImageFile\n",
    "import numpy as np\n",
    "from pympler import asizeof\n",
    "import torch\n",
    "from tqdm.notebook import tqdm\n",
    "from torchvision import datasets, models, transforms\n",
    "from sklearn.model_selection import train_test_split\n",
    "from sklearn.utils import shuffle\n",
    "\n",
    "import torch.nn as nn\n",
    "\n",
    "ImageFile.LOAD_TRUNCATED_IMAGES = True"
   ]
  },
  {
   "cell_type": "code",
   "execution_count": 4,
   "metadata": {},
   "outputs": [],
   "source": [
    "TRAIN_DATA_FILE = f\"{LMDB_DIR_PATH}/seefood_train_data_{MODEL_NAME}\"\n",
    "TEST_DATA_FILE = f\"{LMDB_DIR_PATH}/seefood_test_data_{MODEL_NAME}\""
   ]
  },
  {
   "cell_type": "code",
   "execution_count": 5,
   "metadata": {},
   "outputs": [],
   "source": [
    "device = torch.device(\"cuda:0\" if torch.cuda.is_available() else \"cpu\")\n",
    "cpu = torch.device(\"cpu\")"
   ]
  },
  {
   "cell_type": "code",
   "execution_count": 6,
   "metadata": {
    "collapsed": true,
    "jupyter": {
     "outputs_hidden": true
    }
   },
   "outputs": [
    {
     "name": "stderr",
     "output_type": "stream",
     "text": [
      "Using cache found in /home/mike/.cache/torch/hub/rwightman_gen-efficientnet-pytorch_master\n"
     ]
    },
    {
     "data": {
      "text/plain": [
       "['efficientnet_b0',\n",
       " 'efficientnet_b1',\n",
       " 'efficientnet_b2',\n",
       " 'efficientnet_b3',\n",
       " 'efficientnet_es',\n",
       " 'fbnetc_100',\n",
       " 'mixnet_l',\n",
       " 'mixnet_m',\n",
       " 'mixnet_s',\n",
       " 'mixnet_xl',\n",
       " 'mnasnet_a1',\n",
       " 'mnasnet_b1',\n",
       " 'mobilenetv2_100',\n",
       " 'mobilenetv2_110d',\n",
       " 'mobilenetv2_120d',\n",
       " 'mobilenetv2_140',\n",
       " 'mobilenetv3_large_100',\n",
       " 'mobilenetv3_rw',\n",
       " 'spnasnet_100',\n",
       " 'tf_efficientnet_b0',\n",
       " 'tf_efficientnet_b0_ap',\n",
       " 'tf_efficientnet_b0_ns',\n",
       " 'tf_efficientnet_b1',\n",
       " 'tf_efficientnet_b1_ap',\n",
       " 'tf_efficientnet_b1_ns',\n",
       " 'tf_efficientnet_b2',\n",
       " 'tf_efficientnet_b2_ap',\n",
       " 'tf_efficientnet_b2_ns',\n",
       " 'tf_efficientnet_b3',\n",
       " 'tf_efficientnet_b3_ap',\n",
       " 'tf_efficientnet_b3_ns',\n",
       " 'tf_efficientnet_b4',\n",
       " 'tf_efficientnet_b4_ap',\n",
       " 'tf_efficientnet_b4_ns',\n",
       " 'tf_efficientnet_b5',\n",
       " 'tf_efficientnet_b5_ap',\n",
       " 'tf_efficientnet_b5_ns',\n",
       " 'tf_efficientnet_b6',\n",
       " 'tf_efficientnet_b6_ap',\n",
       " 'tf_efficientnet_b6_ns',\n",
       " 'tf_efficientnet_b7',\n",
       " 'tf_efficientnet_b7_ap',\n",
       " 'tf_efficientnet_b7_ns',\n",
       " 'tf_efficientnet_b8',\n",
       " 'tf_efficientnet_b8_ap',\n",
       " 'tf_efficientnet_cc_b0_4e',\n",
       " 'tf_efficientnet_cc_b0_8e',\n",
       " 'tf_efficientnet_cc_b1_8e',\n",
       " 'tf_efficientnet_el',\n",
       " 'tf_efficientnet_em',\n",
       " 'tf_efficientnet_es',\n",
       " 'tf_efficientnet_l2_ns',\n",
       " 'tf_efficientnet_l2_ns_475',\n",
       " 'tf_efficientnet_lite0',\n",
       " 'tf_efficientnet_lite1',\n",
       " 'tf_efficientnet_lite2',\n",
       " 'tf_efficientnet_lite3',\n",
       " 'tf_efficientnet_lite4',\n",
       " 'tf_mixnet_l',\n",
       " 'tf_mixnet_m',\n",
       " 'tf_mixnet_s',\n",
       " 'tf_mobilenetv3_large_075',\n",
       " 'tf_mobilenetv3_large_100',\n",
       " 'tf_mobilenetv3_large_minimal_100',\n",
       " 'tf_mobilenetv3_small_075',\n",
       " 'tf_mobilenetv3_small_100',\n",
       " 'tf_mobilenetv3_small_minimal_100']"
      ]
     },
     "execution_count": 6,
     "metadata": {},
     "output_type": "execute_result"
    }
   ],
   "source": [
    "torch.hub.list(\"rwightman/gen-efficientnet-pytorch\")"
   ]
  },
  {
   "cell_type": "code",
   "execution_count": 7,
   "metadata": {},
   "outputs": [
    {
     "name": "stderr",
     "output_type": "stream",
     "text": [
      "Using cache found in /home/mike/.cache/torch/hub/rwightman_gen-efficientnet-pytorch_master\n"
     ]
    }
   ],
   "source": [
    "def set_parameter_requires_grad(model, feature_extracting):\n",
    "    if feature_extracting:\n",
    "        for param in model.parameters():\n",
    "            param.requires_grad = False\n",
    "\n",
    "\n",
    "model = torch.hub.load(\n",
    "    \"rwightman/gen-efficientnet-pytorch\", MODEL_NAME, pretrained=True\n",
    ")\n",
    "# model = models.mobilenet_v2(pretrained=True)\n",
    "set_parameter_requires_grad(model, True)"
   ]
  },
  {
   "cell_type": "markdown",
   "metadata": {},
   "source": [
    "## Load Data"
   ]
  },
  {
   "cell_type": "code",
   "execution_count": 8,
   "metadata": {},
   "outputs": [],
   "source": [
    "%%bigquery df --project zenscr-seefood-dev\n",
    "\n",
    "SELECT recipe_id, title, image_path, total_calories\n",
    "FROM `zenscr-seefood-dev.sparkrecipes.base_filtered`\n",
    "INNER JOIN `zenscr-seefood-dev.sparkrecipes.image_path`\n",
    "USING (recipe_id)"
   ]
  },
  {
   "cell_type": "code",
   "execution_count": 9,
   "metadata": {},
   "outputs": [
    {
     "data": {
      "text/html": [
       "<div>\n",
       "<style scoped>\n",
       "    .dataframe tbody tr th:only-of-type {\n",
       "        vertical-align: middle;\n",
       "    }\n",
       "\n",
       "    .dataframe tbody tr th {\n",
       "        vertical-align: top;\n",
       "    }\n",
       "\n",
       "    .dataframe thead th {\n",
       "        text-align: right;\n",
       "    }\n",
       "</style>\n",
       "<table border=\"1\" class=\"dataframe\">\n",
       "  <thead>\n",
       "    <tr style=\"text-align: right;\">\n",
       "      <th></th>\n",
       "      <th>recipe_id</th>\n",
       "      <th>title</th>\n",
       "      <th>image_path</th>\n",
       "      <th>total_calories</th>\n",
       "    </tr>\n",
       "  </thead>\n",
       "  <tbody>\n",
       "    <tr>\n",
       "      <th>0</th>\n",
       "      <td>70865</td>\n",
       "      <td>Fruit Cocktail Dessert/Salad</td>\n",
       "      <td>../../data/images/70865/000001</td>\n",
       "      <td>30.0</td>\n",
       "    </tr>\n",
       "    <tr>\n",
       "      <th>1</th>\n",
       "      <td>70865</td>\n",
       "      <td>Fruit Cocktail Dessert/Salad</td>\n",
       "      <td>../../data/images/70865/000010</td>\n",
       "      <td>30.0</td>\n",
       "    </tr>\n",
       "    <tr>\n",
       "      <th>2</th>\n",
       "      <td>70865</td>\n",
       "      <td>Fruit Cocktail Dessert/Salad</td>\n",
       "      <td>../../data/images/70865/000011</td>\n",
       "      <td>30.0</td>\n",
       "    </tr>\n",
       "    <tr>\n",
       "      <th>3</th>\n",
       "      <td>70865</td>\n",
       "      <td>Fruit Cocktail Dessert/Salad</td>\n",
       "      <td>../../data/images/70865/000012</td>\n",
       "      <td>30.0</td>\n",
       "    </tr>\n",
       "    <tr>\n",
       "      <th>4</th>\n",
       "      <td>70865</td>\n",
       "      <td>Fruit Cocktail Dessert/Salad</td>\n",
       "      <td>../../data/images/70865/000013</td>\n",
       "      <td>30.0</td>\n",
       "    </tr>\n",
       "    <tr>\n",
       "      <th>...</th>\n",
       "      <td>...</td>\n",
       "      <td>...</td>\n",
       "      <td>...</td>\n",
       "      <td>...</td>\n",
       "    </tr>\n",
       "    <tr>\n",
       "      <th>1311732</th>\n",
       "      <td>418865</td>\n",
       "      <td>Banana Bread Muffins</td>\n",
       "      <td>../../data/images/418865/000005</td>\n",
       "      <td>134.9</td>\n",
       "    </tr>\n",
       "    <tr>\n",
       "      <th>1311733</th>\n",
       "      <td>418865</td>\n",
       "      <td>Banana Bread Muffins</td>\n",
       "      <td>../../data/images/418865/000006</td>\n",
       "      <td>134.9</td>\n",
       "    </tr>\n",
       "    <tr>\n",
       "      <th>1311734</th>\n",
       "      <td>418865</td>\n",
       "      <td>Banana Bread Muffins</td>\n",
       "      <td>../../data/images/418865/000007</td>\n",
       "      <td>134.9</td>\n",
       "    </tr>\n",
       "    <tr>\n",
       "      <th>1311735</th>\n",
       "      <td>418865</td>\n",
       "      <td>Banana Bread Muffins</td>\n",
       "      <td>../../data/images/418865/000008</td>\n",
       "      <td>134.9</td>\n",
       "    </tr>\n",
       "    <tr>\n",
       "      <th>1311736</th>\n",
       "      <td>418865</td>\n",
       "      <td>Banana Bread Muffins</td>\n",
       "      <td>../../data/images/418865/000009</td>\n",
       "      <td>134.9</td>\n",
       "    </tr>\n",
       "  </tbody>\n",
       "</table>\n",
       "<p>1311737 rows × 4 columns</p>\n",
       "</div>"
      ],
      "text/plain": [
       "         recipe_id                         title  \\\n",
       "0            70865  Fruit Cocktail Dessert/Salad   \n",
       "1            70865  Fruit Cocktail Dessert/Salad   \n",
       "2            70865  Fruit Cocktail Dessert/Salad   \n",
       "3            70865  Fruit Cocktail Dessert/Salad   \n",
       "4            70865  Fruit Cocktail Dessert/Salad   \n",
       "...            ...                           ...   \n",
       "1311732     418865          Banana Bread Muffins   \n",
       "1311733     418865          Banana Bread Muffins   \n",
       "1311734     418865          Banana Bread Muffins   \n",
       "1311735     418865          Banana Bread Muffins   \n",
       "1311736     418865          Banana Bread Muffins   \n",
       "\n",
       "                              image_path  total_calories  \n",
       "0         ../../data/images/70865/000001            30.0  \n",
       "1         ../../data/images/70865/000010            30.0  \n",
       "2         ../../data/images/70865/000011            30.0  \n",
       "3         ../../data/images/70865/000012            30.0  \n",
       "4         ../../data/images/70865/000013            30.0  \n",
       "...                                  ...             ...  \n",
       "1311732  ../../data/images/418865/000005           134.9  \n",
       "1311733  ../../data/images/418865/000006           134.9  \n",
       "1311734  ../../data/images/418865/000007           134.9  \n",
       "1311735  ../../data/images/418865/000008           134.9  \n",
       "1311736  ../../data/images/418865/000009           134.9  \n",
       "\n",
       "[1311737 rows x 4 columns]"
      ]
     },
     "execution_count": 9,
     "metadata": {},
     "output_type": "execute_result"
    }
   ],
   "source": [
    "df"
   ]
  },
  {
   "cell_type": "code",
   "execution_count": 10,
   "metadata": {},
   "outputs": [],
   "source": [
    "df_shuffled = shuffle(df)"
   ]
  },
  {
   "cell_type": "code",
   "execution_count": 11,
   "metadata": {},
   "outputs": [
    {
     "data": {
      "text/html": [
       "<div>\n",
       "<style scoped>\n",
       "    .dataframe tbody tr th:only-of-type {\n",
       "        vertical-align: middle;\n",
       "    }\n",
       "\n",
       "    .dataframe tbody tr th {\n",
       "        vertical-align: top;\n",
       "    }\n",
       "\n",
       "    .dataframe thead th {\n",
       "        text-align: right;\n",
       "    }\n",
       "</style>\n",
       "<table border=\"1\" class=\"dataframe\">\n",
       "  <thead>\n",
       "    <tr style=\"text-align: right;\">\n",
       "      <th></th>\n",
       "      <th>recipe_id</th>\n",
       "      <th>title</th>\n",
       "      <th>image_path</th>\n",
       "      <th>total_calories</th>\n",
       "    </tr>\n",
       "  </thead>\n",
       "  <tbody>\n",
       "    <tr>\n",
       "      <th>459020</th>\n",
       "      <td>15188</td>\n",
       "      <td>cold crab dip</td>\n",
       "      <td>../../data/images/15188/000007</td>\n",
       "      <td>51.4</td>\n",
       "    </tr>\n",
       "    <tr>\n",
       "      <th>875505</th>\n",
       "      <td>361934</td>\n",
       "      <td>Turkey burger cabbage casserole</td>\n",
       "      <td>../../data/images/361934/000009</td>\n",
       "      <td>224.3</td>\n",
       "    </tr>\n",
       "    <tr>\n",
       "      <th>932270</th>\n",
       "      <td>70786</td>\n",
       "      <td>Baked Meatloaf and Sides</td>\n",
       "      <td>../../data/images/70786/000005</td>\n",
       "      <td>484.8</td>\n",
       "    </tr>\n",
       "    <tr>\n",
       "      <th>31050</th>\n",
       "      <td>22928</td>\n",
       "      <td>Garlic Chicken</td>\n",
       "      <td>../../data/images/22928/000015</td>\n",
       "      <td>311.7</td>\n",
       "    </tr>\n",
       "    <tr>\n",
       "      <th>1168791</th>\n",
       "      <td>249005</td>\n",
       "      <td>Cinnamon Vanilla Bran Muffins</td>\n",
       "      <td>../../data/images/249005/000005</td>\n",
       "      <td>115.9</td>\n",
       "    </tr>\n",
       "    <tr>\n",
       "      <th>...</th>\n",
       "      <td>...</td>\n",
       "      <td>...</td>\n",
       "      <td>...</td>\n",
       "      <td>...</td>\n",
       "    </tr>\n",
       "    <tr>\n",
       "      <th>1231897</th>\n",
       "      <td>367025</td>\n",
       "      <td>cabbage soup</td>\n",
       "      <td>../../data/images/367025/000011</td>\n",
       "      <td>53.5</td>\n",
       "    </tr>\n",
       "    <tr>\n",
       "      <th>366248</th>\n",
       "      <td>93809</td>\n",
       "      <td>Berry Stuffed French Toast</td>\n",
       "      <td>../../data/images/93809/000006</td>\n",
       "      <td>347.6</td>\n",
       "    </tr>\n",
       "    <tr>\n",
       "      <th>1106199</th>\n",
       "      <td>418506</td>\n",
       "      <td>Multigrain Pancakes</td>\n",
       "      <td>../../data/images/418506/000014</td>\n",
       "      <td>118.3</td>\n",
       "    </tr>\n",
       "    <tr>\n",
       "      <th>49026</th>\n",
       "      <td>383436</td>\n",
       "      <td>Easy Italian Chicken Lentil Soup for Two</td>\n",
       "      <td>../../data/images/383436/000003</td>\n",
       "      <td>309.9</td>\n",
       "    </tr>\n",
       "    <tr>\n",
       "      <th>1066893</th>\n",
       "      <td>360392</td>\n",
       "      <td>chicken spaghetti</td>\n",
       "      <td>../../data/images/360392/000008</td>\n",
       "      <td>248.0</td>\n",
       "    </tr>\n",
       "  </tbody>\n",
       "</table>\n",
       "<p>1311737 rows × 4 columns</p>\n",
       "</div>"
      ],
      "text/plain": [
       "         recipe_id                                     title  \\\n",
       "459020       15188                             cold crab dip   \n",
       "875505      361934          Turkey burger cabbage casserole    \n",
       "932270       70786                  Baked Meatloaf and Sides   \n",
       "31050        22928                            Garlic Chicken   \n",
       "1168791     249005             Cinnamon Vanilla Bran Muffins   \n",
       "...            ...                                       ...   \n",
       "1231897     367025                             cabbage soup    \n",
       "366248       93809                Berry Stuffed French Toast   \n",
       "1106199     418506                       Multigrain Pancakes   \n",
       "49026       383436  Easy Italian Chicken Lentil Soup for Two   \n",
       "1066893     360392                         chicken spaghetti   \n",
       "\n",
       "                              image_path  total_calories  \n",
       "459020    ../../data/images/15188/000007            51.4  \n",
       "875505   ../../data/images/361934/000009           224.3  \n",
       "932270    ../../data/images/70786/000005           484.8  \n",
       "31050     ../../data/images/22928/000015           311.7  \n",
       "1168791  ../../data/images/249005/000005           115.9  \n",
       "...                                  ...             ...  \n",
       "1231897  ../../data/images/367025/000011            53.5  \n",
       "366248    ../../data/images/93809/000006           347.6  \n",
       "1106199  ../../data/images/418506/000014           118.3  \n",
       "49026    ../../data/images/383436/000003           309.9  \n",
       "1066893  ../../data/images/360392/000008           248.0  \n",
       "\n",
       "[1311737 rows x 4 columns]"
      ]
     },
     "execution_count": 11,
     "metadata": {},
     "output_type": "execute_result"
    }
   ],
   "source": [
    "df_shuffled"
   ]
  },
  {
   "cell_type": "markdown",
   "metadata": {},
   "source": [
    "## Train-Test Split"
   ]
  },
  {
   "cell_type": "code",
   "execution_count": 12,
   "metadata": {},
   "outputs": [],
   "source": [
    "X_train, X_test, y_train, y_test = train_test_split(\n",
    "    df_shuffled[[\"image_path\"]],\n",
    "    df_shuffled.total_calories,\n",
    "    test_size=0.33,\n",
    "    random_state=42,\n",
    ")"
   ]
  },
  {
   "cell_type": "code",
   "execution_count": 13,
   "metadata": {},
   "outputs": [],
   "source": [
    "df_train = X_train.assign(target=y_train).reset_index(drop=True)\n",
    "df_test = X_test.assign(target=y_test).reset_index(drop=True)"
   ]
  },
  {
   "cell_type": "markdown",
   "metadata": {},
   "source": [
    "## Write Embeddings to LMDB"
   ]
  },
  {
   "cell_type": "code",
   "execution_count": 14,
   "metadata": {},
   "outputs": [],
   "source": [
    "class FeatureExtractor(nn.Module):\n",
    "    def __init__(self, model):\n",
    "        super(FeatureExtractor, self).__init__()\n",
    "        self.model = model\n",
    "        for p in self.model.parameters():\n",
    "            p.requires_grad = False\n",
    "\n",
    "    def forward(self, x):\n",
    "        x = self.model.features(x)\n",
    "        x = x.mean([2, 3])\n",
    "        return x\n",
    "\n",
    "\n",
    "class Features:\n",
    "    def __init__(self, image_path, features, target):\n",
    "        self.shape = features.shape\n",
    "        self.features = features.numpy().tobytes()\n",
    "        self.image_path = image_path\n",
    "        self.target = target.round().item()\n",
    "\n",
    "    def get_features(self):\n",
    "        features = np.frombuffer(self.features, dtype=np.float32)\n",
    "        return torch.from_numpy(features.reshape(self.shape))\n",
    "\n",
    "\n",
    "class ImageDataset(torch.utils.data.Dataset):\n",
    "    def __init__(self, df, transform):\n",
    "        self.images = df[\"image_path\"].reset_index(drop=True)\n",
    "        self.targets = df[\"target\"].reset_index(drop=True)\n",
    "        self.transform = transform\n",
    "\n",
    "    def __len__(self):\n",
    "        return len(self.images)\n",
    "\n",
    "    def __getitem__(self, idx):\n",
    "        img_path = self.images.iloc[idx]\n",
    "        with Image.open(img_path) as f:\n",
    "            image = f.convert(\"RGB\")\n",
    "        image = self.transform(image)\n",
    "        return img_path, image, self.targets.iloc[idx]\n",
    "\n",
    "\n",
    "transform = transforms.Compose(\n",
    "    [\n",
    "        transforms.Resize(IMAGE_SIZE),\n",
    "        transforms.CenterCrop(IMAGE_SIZE),\n",
    "        transforms.ToTensor(),\n",
    "        transforms.Normalize([0.485, 0.456, 0.406], [0.229, 0.224, 0.225]),\n",
    "    ]\n",
    ")\n",
    "\n",
    "dataloader_train = torch.utils.data.DataLoader(\n",
    "    ImageDataset(df_train, transform), batch_size=64, shuffle=False, num_workers=4\n",
    ")\n",
    "\n",
    "dataloader_test = torch.utils.data.DataLoader(\n",
    "    ImageDataset(df_test, transform), batch_size=64, shuffle=False, num_workers=4\n",
    ")"
   ]
  },
  {
   "cell_type": "code",
   "execution_count": 15,
   "metadata": {},
   "outputs": [],
   "source": [
    "feature_extractor = FeatureExtractor(model).to(device)"
   ]
  },
  {
   "cell_type": "code",
   "execution_count": 16,
   "metadata": {},
   "outputs": [],
   "source": [
    "torch.cuda.empty_cache()"
   ]
  },
  {
   "cell_type": "code",
   "execution_count": 17,
   "metadata": {},
   "outputs": [
    {
     "data": {
      "text/plain": [
       "device(type='cuda', index=0)"
      ]
     },
     "execution_count": 17,
     "metadata": {},
     "output_type": "execute_result"
    }
   ],
   "source": [
    "device"
   ]
  },
  {
   "cell_type": "code",
   "execution_count": 18,
   "metadata": {},
   "outputs": [],
   "source": [
    "def store_to_lmdb(lmdb_filename, dataloader, image_size=IMAGE_SIZE):\n",
    "    num_images = len(dataloader.dataset)\n",
    "\n",
    "    map_size = num_images * (\n",
    "        300000 + asizeof.asizeof(f\"{0:08}\") + 2048\n",
    "    )  # approximate map size\n",
    "\n",
    "    index = 0\n",
    "    with lmdb.open(lmdb_filename, map_size=map_size) as env:\n",
    "        for image_paths, images, targets in tqdm(dataloader):\n",
    "            with env.begin(write=True) as txn:\n",
    "                images = images.to(device)\n",
    "                features = feature_extractor(images).to(cpu)\n",
    "                for p, f, t in zip(image_paths, features, targets):\n",
    "                    key = f\"{index:08}\".encode(\"ascii\")\n",
    "                    value = Features(p, f, t)\n",
    "                    txn.put(key, pickle.dumps(value))\n",
    "                    index += 1"
   ]
  },
  {
   "cell_type": "code",
   "execution_count": 19,
   "metadata": {},
   "outputs": [
    {
     "data": {
      "application/vnd.jupyter.widget-view+json": {
       "model_id": "5bd63c078e81456abf7294e519d9ddb4",
       "version_major": 2,
       "version_minor": 0
      },
      "text/plain": [
       "HBox(children=(FloatProgress(value=0.0, max=13733.0), HTML(value='')))"
      ]
     },
     "metadata": {},
     "output_type": "display_data"
    },
    {
     "name": "stderr",
     "output_type": "stream",
     "text": [
      "/home/mike/.cache/pypoetry/virtualenvs/seefood-nC6BBDGh-py3.8/lib/python3.8/site-packages/PIL/TiffImagePlugin.py:788: UserWarning: Corrupt EXIF data.  Expecting to read 4 bytes but only got 0. \n",
      "  warnings.warn(str(msg))\n",
      "/home/mike/.cache/pypoetry/virtualenvs/seefood-nC6BBDGh-py3.8/lib/python3.8/site-packages/PIL/TiffImagePlugin.py:788: UserWarning: Corrupt EXIF data.  Expecting to read 4 bytes but only got 0. \n",
      "  warnings.warn(str(msg))\n",
      "/home/mike/.cache/pypoetry/virtualenvs/seefood-nC6BBDGh-py3.8/lib/python3.8/site-packages/PIL/Image.py:931: UserWarning: Palette images with Transparency expressed in bytes should be converted to RGBA images\n",
      "  warnings.warn(\n",
      "/home/mike/.cache/pypoetry/virtualenvs/seefood-nC6BBDGh-py3.8/lib/python3.8/site-packages/PIL/TiffImagePlugin.py:788: UserWarning: Corrupt EXIF data.  Expecting to read 4 bytes but only got 0. \n",
      "  warnings.warn(str(msg))\n",
      "/home/mike/.cache/pypoetry/virtualenvs/seefood-nC6BBDGh-py3.8/lib/python3.8/site-packages/PIL/TiffImagePlugin.py:788: UserWarning: Corrupt EXIF data.  Expecting to read 4 bytes but only got 0. \n",
      "  warnings.warn(str(msg))\n",
      "/home/mike/.cache/pypoetry/virtualenvs/seefood-nC6BBDGh-py3.8/lib/python3.8/site-packages/PIL/Image.py:931: UserWarning: Palette images with Transparency expressed in bytes should be converted to RGBA images\n",
      "  warnings.warn(\n",
      "/home/mike/.cache/pypoetry/virtualenvs/seefood-nC6BBDGh-py3.8/lib/python3.8/site-packages/PIL/Image.py:931: UserWarning: Palette images with Transparency expressed in bytes should be converted to RGBA images\n",
      "  warnings.warn(\n",
      "/home/mike/.cache/pypoetry/virtualenvs/seefood-nC6BBDGh-py3.8/lib/python3.8/site-packages/PIL/Image.py:931: UserWarning: Palette images with Transparency expressed in bytes should be converted to RGBA images\n",
      "  warnings.warn(\n",
      "/home/mike/.cache/pypoetry/virtualenvs/seefood-nC6BBDGh-py3.8/lib/python3.8/site-packages/PIL/TiffImagePlugin.py:767: UserWarning: Possibly corrupt EXIF data.  Expecting to read 11 bytes but only got 10. Skipping tag 42037\n",
      "  warnings.warn(\n",
      "/home/mike/.cache/pypoetry/virtualenvs/seefood-nC6BBDGh-py3.8/lib/python3.8/site-packages/PIL/TiffImagePlugin.py:788: UserWarning: Corrupt EXIF data.  Expecting to read 12 bytes but only got 10. \n",
      "  warnings.warn(str(msg))\n",
      "/home/mike/.cache/pypoetry/virtualenvs/seefood-nC6BBDGh-py3.8/lib/python3.8/site-packages/PIL/TiffImagePlugin.py:788: UserWarning: Corrupt EXIF data.  Expecting to read 12 bytes but only got 10. \n",
      "  warnings.warn(str(msg))\n",
      "/home/mike/.cache/pypoetry/virtualenvs/seefood-nC6BBDGh-py3.8/lib/python3.8/site-packages/PIL/TiffImagePlugin.py:767: UserWarning: Possibly corrupt EXIF data.  Expecting to read 11 bytes but only got 10. Skipping tag 42037\n",
      "  warnings.warn(\n",
      "/home/mike/.cache/pypoetry/virtualenvs/seefood-nC6BBDGh-py3.8/lib/python3.8/site-packages/PIL/TiffImagePlugin.py:767: UserWarning: Possibly corrupt EXIF data.  Expecting to read 11 bytes but only got 10. Skipping tag 42037\n",
      "  warnings.warn(\n",
      "/home/mike/.cache/pypoetry/virtualenvs/seefood-nC6BBDGh-py3.8/lib/python3.8/site-packages/PIL/TiffImagePlugin.py:767: UserWarning: Possibly corrupt EXIF data.  Expecting to read 12 bytes but only got 10. Skipping tag 42037\n",
      "  warnings.warn(\n",
      "/home/mike/.cache/pypoetry/virtualenvs/seefood-nC6BBDGh-py3.8/lib/python3.8/site-packages/PIL/TiffImagePlugin.py:767: UserWarning: Possibly corrupt EXIF data.  Expecting to read 11 bytes but only got 10. Skipping tag 42037\n",
      "  warnings.warn(\n",
      "/home/mike/.cache/pypoetry/virtualenvs/seefood-nC6BBDGh-py3.8/lib/python3.8/site-packages/PIL/TiffImagePlugin.py:767: UserWarning: Possibly corrupt EXIF data.  Expecting to read 33 bytes but only got 32. Skipping tag 33432\n",
      "  warnings.warn(\n",
      "/home/mike/.cache/pypoetry/virtualenvs/seefood-nC6BBDGh-py3.8/lib/python3.8/site-packages/PIL/TiffImagePlugin.py:767: UserWarning: Possibly corrupt EXIF data.  Expecting to read 14 bytes but only got 13. Skipping tag 42036\n",
      "  warnings.warn(\n",
      "/home/mike/.cache/pypoetry/virtualenvs/seefood-nC6BBDGh-py3.8/lib/python3.8/site-packages/PIL/TiffImagePlugin.py:788: UserWarning: Corrupt EXIF data.  Expecting to read 2 bytes but only got 0. \n",
      "  warnings.warn(str(msg))\n",
      "/home/mike/.cache/pypoetry/virtualenvs/seefood-nC6BBDGh-py3.8/lib/python3.8/site-packages/PIL/TiffImagePlugin.py:788: UserWarning: Corrupt EXIF data.  Expecting to read 12 bytes but only got 8. \n",
      "  warnings.warn(str(msg))\n",
      "/home/mike/.cache/pypoetry/virtualenvs/seefood-nC6BBDGh-py3.8/lib/python3.8/site-packages/PIL/TiffImagePlugin.py:767: UserWarning: Possibly corrupt EXIF data.  Expecting to read 10 bytes but only got 9. Skipping tag 33432\n",
      "  warnings.warn(\n",
      "/home/mike/.cache/pypoetry/virtualenvs/seefood-nC6BBDGh-py3.8/lib/python3.8/site-packages/PIL/TiffImagePlugin.py:767: UserWarning: Possibly corrupt EXIF data.  Expecting to read 12 bytes but only got 10. Skipping tag 42037\n",
      "  warnings.warn(\n",
      "/home/mike/.cache/pypoetry/virtualenvs/seefood-nC6BBDGh-py3.8/lib/python3.8/site-packages/PIL/TiffImagePlugin.py:767: UserWarning: Possibly corrupt EXIF data.  Expecting to read 12 bytes but only got 10. Skipping tag 42037\n",
      "  warnings.warn(\n",
      "/home/mike/.cache/pypoetry/virtualenvs/seefood-nC6BBDGh-py3.8/lib/python3.8/site-packages/PIL/TiffImagePlugin.py:788: UserWarning: Corrupt EXIF data.  Expecting to read 12 bytes but only got 10. \n",
      "  warnings.warn(str(msg))\n",
      "/home/mike/.cache/pypoetry/virtualenvs/seefood-nC6BBDGh-py3.8/lib/python3.8/site-packages/PIL/TiffImagePlugin.py:767: UserWarning: Possibly corrupt EXIF data.  Expecting to read 12 bytes but only got 10. Skipping tag 42037\n",
      "  warnings.warn(\n",
      "/home/mike/.cache/pypoetry/virtualenvs/seefood-nC6BBDGh-py3.8/lib/python3.8/site-packages/PIL/TiffImagePlugin.py:767: UserWarning: Possibly corrupt EXIF data.  Expecting to read 14 bytes but only got 13. Skipping tag 33432\n",
      "  warnings.warn(\n",
      "/home/mike/.cache/pypoetry/virtualenvs/seefood-nC6BBDGh-py3.8/lib/python3.8/site-packages/PIL/TiffImagePlugin.py:788: UserWarning: Corrupt EXIF data.  Expecting to read 12 bytes but only got 8. \n",
      "  warnings.warn(str(msg))\n",
      "/home/mike/.cache/pypoetry/virtualenvs/seefood-nC6BBDGh-py3.8/lib/python3.8/site-packages/PIL/TiffImagePlugin.py:788: UserWarning: Corrupt EXIF data.  Expecting to read 12 bytes but only got 8. \n",
      "  warnings.warn(str(msg))\n",
      "/home/mike/.cache/pypoetry/virtualenvs/seefood-nC6BBDGh-py3.8/lib/python3.8/site-packages/PIL/TiffImagePlugin.py:767: UserWarning: Possibly corrupt EXIF data.  Expecting to read 33 bytes but only got 32. Skipping tag 33432\n",
      "  warnings.warn(\n",
      "/home/mike/.cache/pypoetry/virtualenvs/seefood-nC6BBDGh-py3.8/lib/python3.8/site-packages/PIL/TiffImagePlugin.py:788: UserWarning: Corrupt EXIF data.  Expecting to read 12 bytes but only got 10. \n",
      "  warnings.warn(str(msg))\n",
      "/home/mike/.cache/pypoetry/virtualenvs/seefood-nC6BBDGh-py3.8/lib/python3.8/site-packages/PIL/TiffImagePlugin.py:767: UserWarning: Possibly corrupt EXIF data.  Expecting to read 33 bytes but only got 32. Skipping tag 33432\n",
      "  warnings.warn(\n",
      "/home/mike/.cache/pypoetry/virtualenvs/seefood-nC6BBDGh-py3.8/lib/python3.8/site-packages/PIL/TiffImagePlugin.py:767: UserWarning: Possibly corrupt EXIF data.  Expecting to read 8 bytes but only got 0. Skipping tag 282\n",
      "  warnings.warn(\n",
      "/home/mike/.cache/pypoetry/virtualenvs/seefood-nC6BBDGh-py3.8/lib/python3.8/site-packages/PIL/TiffImagePlugin.py:767: UserWarning: Possibly corrupt EXIF data.  Expecting to read 8 bytes but only got 0. Skipping tag 283\n",
      "  warnings.warn(\n",
      "/home/mike/.cache/pypoetry/virtualenvs/seefood-nC6BBDGh-py3.8/lib/python3.8/site-packages/PIL/TiffImagePlugin.py:767: UserWarning: Possibly corrupt EXIF data.  Expecting to read 24 bytes but only got 23. Skipping tag 42036\n",
      "  warnings.warn(\n",
      "/home/mike/.cache/pypoetry/virtualenvs/seefood-nC6BBDGh-py3.8/lib/python3.8/site-packages/PIL/TiffImagePlugin.py:767: UserWarning: Possibly corrupt EXIF data.  Expecting to read 33 bytes but only got 32. Skipping tag 42016\n",
      "  warnings.warn(\n",
      "/home/mike/.cache/pypoetry/virtualenvs/seefood-nC6BBDGh-py3.8/lib/python3.8/site-packages/PIL/TiffImagePlugin.py:767: UserWarning: Possibly corrupt EXIF data.  Expecting to read 45 bytes but only got 44. Skipping tag 42036\n",
      "  warnings.warn(\n",
      "/home/mike/.cache/pypoetry/virtualenvs/seefood-nC6BBDGh-py3.8/lib/python3.8/site-packages/PIL/TiffImagePlugin.py:767: UserWarning: Possibly corrupt EXIF data.  Expecting to read 24 bytes but only got 23. Skipping tag 42036\n",
      "  warnings.warn(\n",
      "/home/mike/.cache/pypoetry/virtualenvs/seefood-nC6BBDGh-py3.8/lib/python3.8/site-packages/PIL/TiffImagePlugin.py:767: UserWarning: Possibly corrupt EXIF data.  Expecting to read 45 bytes but only got 44. Skipping tag 42036\n",
      "  warnings.warn(\n",
      "/home/mike/.cache/pypoetry/virtualenvs/seefood-nC6BBDGh-py3.8/lib/python3.8/site-packages/PIL/TiffImagePlugin.py:767: UserWarning: Possibly corrupt EXIF data.  Expecting to read 33 bytes but only got 32. Skipping tag 42016\n",
      "  warnings.warn(\n",
      "/home/mike/.cache/pypoetry/virtualenvs/seefood-nC6BBDGh-py3.8/lib/python3.8/site-packages/PIL/TiffImagePlugin.py:767: UserWarning: Possibly corrupt EXIF data.  Expecting to read 14 bytes but only got 13. Skipping tag 42036\n",
      "  warnings.warn(\n",
      "/home/mike/.cache/pypoetry/virtualenvs/seefood-nC6BBDGh-py3.8/lib/python3.8/site-packages/PIL/TiffImagePlugin.py:767: UserWarning: Possibly corrupt EXIF data.  Expecting to read 20 bytes but only got 19. Skipping tag 36867\n",
      "  warnings.warn(\n",
      "/home/mike/.cache/pypoetry/virtualenvs/seefood-nC6BBDGh-py3.8/lib/python3.8/site-packages/PIL/TiffImagePlugin.py:767: UserWarning: Possibly corrupt EXIF data.  Expecting to read 9 bytes but only got 8. Skipping tag 33432\n",
      "  warnings.warn(\n",
      "/home/mike/.cache/pypoetry/virtualenvs/seefood-nC6BBDGh-py3.8/lib/python3.8/site-packages/PIL/TiffImagePlugin.py:767: UserWarning: Possibly corrupt EXIF data.  Expecting to read 14 bytes but only got 13. Skipping tag 42036\n",
      "  warnings.warn(\n",
      "/home/mike/.cache/pypoetry/virtualenvs/seefood-nC6BBDGh-py3.8/lib/python3.8/site-packages/PIL/TiffImagePlugin.py:767: UserWarning: Possibly corrupt EXIF data.  Expecting to read 33 bytes but only got 32. Skipping tag 33432\n",
      "  warnings.warn(\n",
      "/home/mike/.cache/pypoetry/virtualenvs/seefood-nC6BBDGh-py3.8/lib/python3.8/site-packages/PIL/TiffImagePlugin.py:767: UserWarning: Possibly corrupt EXIF data.  Expecting to read 14 bytes but only got 13. Skipping tag 42036\n",
      "  warnings.warn(\n",
      "/home/mike/.cache/pypoetry/virtualenvs/seefood-nC6BBDGh-py3.8/lib/python3.8/site-packages/PIL/TiffImagePlugin.py:767: UserWarning: Possibly corrupt EXIF data.  Expecting to read 24 bytes but only got 23. Skipping tag 42036\n",
      "  warnings.warn(\n",
      "/home/mike/.cache/pypoetry/virtualenvs/seefood-nC6BBDGh-py3.8/lib/python3.8/site-packages/PIL/TiffImagePlugin.py:767: UserWarning: Possibly corrupt EXIF data.  Expecting to read 45 bytes but only got 44. Skipping tag 42036\n",
      "  warnings.warn(\n",
      "/home/mike/.cache/pypoetry/virtualenvs/seefood-nC6BBDGh-py3.8/lib/python3.8/site-packages/PIL/TiffImagePlugin.py:767: UserWarning: Possibly corrupt EXIF data.  Expecting to read 28 bytes but only got 27. Skipping tag 42036\n",
      "  warnings.warn(\n",
      "/home/mike/.cache/pypoetry/virtualenvs/seefood-nC6BBDGh-py3.8/lib/python3.8/site-packages/PIL/TiffImagePlugin.py:767: UserWarning: Possibly corrupt EXIF data.  Expecting to read 28 bytes but only got 27. Skipping tag 42036\n",
      "  warnings.warn(\n",
      "/home/mike/.cache/pypoetry/virtualenvs/seefood-nC6BBDGh-py3.8/lib/python3.8/site-packages/PIL/TiffImagePlugin.py:767: UserWarning: Possibly corrupt EXIF data.  Expecting to read 45 bytes but only got 44. Skipping tag 42036\n",
      "  warnings.warn(\n",
      "/home/mike/.cache/pypoetry/virtualenvs/seefood-nC6BBDGh-py3.8/lib/python3.8/site-packages/PIL/TiffImagePlugin.py:767: UserWarning: Possibly corrupt EXIF data.  Expecting to read 24 bytes but only got 23. Skipping tag 42036\n",
      "  warnings.warn(\n",
      "/home/mike/.cache/pypoetry/virtualenvs/seefood-nC6BBDGh-py3.8/lib/python3.8/site-packages/PIL/TiffImagePlugin.py:767: UserWarning: Possibly corrupt EXIF data.  Expecting to read 14 bytes but only got 13. Skipping tag 33432\n",
      "  warnings.warn(\n",
      "/home/mike/.cache/pypoetry/virtualenvs/seefood-nC6BBDGh-py3.8/lib/python3.8/site-packages/PIL/TiffImagePlugin.py:767: UserWarning: Possibly corrupt EXIF data.  Expecting to read 19 bytes but only got 18. Skipping tag 42036\n",
      "  warnings.warn(\n",
      "/home/mike/.cache/pypoetry/virtualenvs/seefood-nC6BBDGh-py3.8/lib/python3.8/site-packages/PIL/TiffImagePlugin.py:767: UserWarning: Possibly corrupt EXIF data.  Expecting to read 55 bytes but only got 0. Skipping tag 33432\n",
      "  warnings.warn(\n",
      "/home/mike/.cache/pypoetry/virtualenvs/seefood-nC6BBDGh-py3.8/lib/python3.8/site-packages/PIL/TiffImagePlugin.py:767: UserWarning: Possibly corrupt EXIF data.  Expecting to read 6 bytes but only got 5. Skipping tag 33432\n",
      "  warnings.warn(\n",
      "/home/mike/.cache/pypoetry/virtualenvs/seefood-nC6BBDGh-py3.8/lib/python3.8/site-packages/PIL/TiffImagePlugin.py:767: UserWarning: Possibly corrupt EXIF data.  Expecting to read 20 bytes but only got 19. Skipping tag 306\n",
      "  warnings.warn(\n",
      "/home/mike/.cache/pypoetry/virtualenvs/seefood-nC6BBDGh-py3.8/lib/python3.8/site-packages/PIL/TiffImagePlugin.py:767: UserWarning: Possibly corrupt EXIF data.  Expecting to read 20 bytes but only got 19. Skipping tag 306\n",
      "  warnings.warn(\n",
      "/home/mike/.cache/pypoetry/virtualenvs/seefood-nC6BBDGh-py3.8/lib/python3.8/site-packages/PIL/TiffImagePlugin.py:767: UserWarning: Possibly corrupt EXIF data.  Expecting to read 310 bytes but only got 0. Skipping tag 37500\n",
      "  warnings.warn(\n",
      "/home/mike/.cache/pypoetry/virtualenvs/seefood-nC6BBDGh-py3.8/lib/python3.8/site-packages/PIL/TiffImagePlugin.py:767: UserWarning: Possibly corrupt EXIF data.  Expecting to read 125 bytes but only got 112. Skipping tag 37510\n",
      "  warnings.warn(\n",
      "/home/mike/.cache/pypoetry/virtualenvs/seefood-nC6BBDGh-py3.8/lib/python3.8/site-packages/PIL/TiffImagePlugin.py:767: UserWarning: Possibly corrupt EXIF data.  Expecting to read 9 bytes but only got 8. Skipping tag 33432\n",
      "  warnings.warn(\n",
      "/home/mike/.cache/pypoetry/virtualenvs/seefood-nC6BBDGh-py3.8/lib/python3.8/site-packages/PIL/TiffImagePlugin.py:767: UserWarning: Possibly corrupt EXIF data.  Expecting to read 9 bytes but only got 8. Skipping tag 33432\n",
      "  warnings.warn(\n",
      "/home/mike/.cache/pypoetry/virtualenvs/seefood-nC6BBDGh-py3.8/lib/python3.8/site-packages/PIL/TiffImagePlugin.py:788: UserWarning: Corrupt EXIF data.  Expecting to read 12 bytes but only got 8. \n",
      "  warnings.warn(str(msg))\n",
      "/home/mike/.cache/pypoetry/virtualenvs/seefood-nC6BBDGh-py3.8/lib/python3.8/site-packages/PIL/TiffImagePlugin.py:767: UserWarning: Possibly corrupt EXIF data.  Expecting to read 20 bytes but only got 19. Skipping tag 36868\n",
      "  warnings.warn(\n",
      "/home/mike/.cache/pypoetry/virtualenvs/seefood-nC6BBDGh-py3.8/lib/python3.8/site-packages/PIL/TiffImagePlugin.py:767: UserWarning: Possibly corrupt EXIF data.  Expecting to read 14 bytes but only got 13. Skipping tag 33432\n",
      "  warnings.warn(\n",
      "/home/mike/.cache/pypoetry/virtualenvs/seefood-nC6BBDGh-py3.8/lib/python3.8/site-packages/PIL/TiffImagePlugin.py:767: UserWarning: Possibly corrupt EXIF data.  Expecting to read 19 bytes but only got 18. Skipping tag 42036\n",
      "  warnings.warn(\n"
     ]
    },
    {
     "name": "stdout",
     "output_type": "stream",
     "text": [
      "\n"
     ]
    }
   ],
   "source": [
    "store_to_lmdb(TRAIN_DATA_FILE, dataloader_train)"
   ]
  },
  {
   "cell_type": "code",
   "execution_count": 20,
   "metadata": {},
   "outputs": [
    {
     "data": {
      "application/vnd.jupyter.widget-view+json": {
       "model_id": "a854c616d208454e9f9255910485a62c",
       "version_major": 2,
       "version_minor": 0
      },
      "text/plain": [
       "HBox(children=(FloatProgress(value=0.0, max=6764.0), HTML(value='')))"
      ]
     },
     "metadata": {},
     "output_type": "display_data"
    },
    {
     "name": "stderr",
     "output_type": "stream",
     "text": [
      "/home/mike/.cache/pypoetry/virtualenvs/seefood-nC6BBDGh-py3.8/lib/python3.8/site-packages/PIL/TiffImagePlugin.py:788: UserWarning: Corrupt EXIF data.  Expecting to read 4 bytes but only got 0. \n",
      "  warnings.warn(str(msg))\n",
      "/home/mike/.cache/pypoetry/virtualenvs/seefood-nC6BBDGh-py3.8/lib/python3.8/site-packages/PIL/Image.py:931: UserWarning: Palette images with Transparency expressed in bytes should be converted to RGBA images\n",
      "  warnings.warn(\n",
      "/home/mike/.cache/pypoetry/virtualenvs/seefood-nC6BBDGh-py3.8/lib/python3.8/site-packages/PIL/Image.py:931: UserWarning: Palette images with Transparency expressed in bytes should be converted to RGBA images\n",
      "  warnings.warn(\n",
      "/home/mike/.cache/pypoetry/virtualenvs/seefood-nC6BBDGh-py3.8/lib/python3.8/site-packages/PIL/Image.py:931: UserWarning: Palette images with Transparency expressed in bytes should be converted to RGBA images\n",
      "  warnings.warn(\n",
      "/home/mike/.cache/pypoetry/virtualenvs/seefood-nC6BBDGh-py3.8/lib/python3.8/site-packages/PIL/TiffImagePlugin.py:788: UserWarning: Corrupt EXIF data.  Expecting to read 4 bytes but only got 0. \n",
      "  warnings.warn(str(msg))\n",
      "/home/mike/.cache/pypoetry/virtualenvs/seefood-nC6BBDGh-py3.8/lib/python3.8/site-packages/PIL/Image.py:931: UserWarning: Palette images with Transparency expressed in bytes should be converted to RGBA images\n",
      "  warnings.warn(\n",
      "/home/mike/.cache/pypoetry/virtualenvs/seefood-nC6BBDGh-py3.8/lib/python3.8/site-packages/PIL/TiffImagePlugin.py:767: UserWarning: Possibly corrupt EXIF data.  Expecting to read 12 bytes but only got 10. Skipping tag 42037\n",
      "  warnings.warn(\n"
     ]
    },
    {
     "ename": "KeyboardInterrupt",
     "evalue": "",
     "output_type": "error",
     "traceback": [
      "\u001b[0;31m---------------------------------------------------------------------------\u001b[0m",
      "\u001b[0;31mKeyboardInterrupt\u001b[0m                         Traceback (most recent call last)",
      "\u001b[0;32m<ipython-input-20-615725e9061b>\u001b[0m in \u001b[0;36m<module>\u001b[0;34m\u001b[0m\n\u001b[0;32m----> 1\u001b[0;31m \u001b[0mstore_to_lmdb\u001b[0m\u001b[0;34m(\u001b[0m\u001b[0mTEST_DATA_FILE\u001b[0m\u001b[0;34m,\u001b[0m \u001b[0mdataloader_test\u001b[0m\u001b[0;34m)\u001b[0m\u001b[0;34m\u001b[0m\u001b[0;34m\u001b[0m\u001b[0m\n\u001b[0m",
      "\u001b[0;32m<ipython-input-18-114df36d014b>\u001b[0m in \u001b[0;36mstore_to_lmdb\u001b[0;34m(lmdb_filename, dataloader, image_size)\u001b[0m\n\u001b[1;32m      8\u001b[0m     \u001b[0mindex\u001b[0m \u001b[0;34m=\u001b[0m \u001b[0;36m0\u001b[0m\u001b[0;34m\u001b[0m\u001b[0;34m\u001b[0m\u001b[0m\n\u001b[1;32m      9\u001b[0m     \u001b[0;32mwith\u001b[0m \u001b[0mlmdb\u001b[0m\u001b[0;34m.\u001b[0m\u001b[0mopen\u001b[0m\u001b[0;34m(\u001b[0m\u001b[0mlmdb_filename\u001b[0m\u001b[0;34m,\u001b[0m \u001b[0mmap_size\u001b[0m\u001b[0;34m=\u001b[0m\u001b[0mmap_size\u001b[0m\u001b[0;34m)\u001b[0m \u001b[0;32mas\u001b[0m \u001b[0menv\u001b[0m\u001b[0;34m:\u001b[0m\u001b[0;34m\u001b[0m\u001b[0;34m\u001b[0m\u001b[0m\n\u001b[0;32m---> 10\u001b[0;31m         \u001b[0;32mfor\u001b[0m \u001b[0mimage_paths\u001b[0m\u001b[0;34m,\u001b[0m \u001b[0mimages\u001b[0m\u001b[0;34m,\u001b[0m \u001b[0mtargets\u001b[0m \u001b[0;32min\u001b[0m \u001b[0mtqdm\u001b[0m\u001b[0;34m(\u001b[0m\u001b[0mdataloader\u001b[0m\u001b[0;34m)\u001b[0m\u001b[0;34m:\u001b[0m\u001b[0;34m\u001b[0m\u001b[0;34m\u001b[0m\u001b[0m\n\u001b[0m\u001b[1;32m     11\u001b[0m             \u001b[0;32mwith\u001b[0m \u001b[0menv\u001b[0m\u001b[0;34m.\u001b[0m\u001b[0mbegin\u001b[0m\u001b[0;34m(\u001b[0m\u001b[0mwrite\u001b[0m\u001b[0;34m=\u001b[0m\u001b[0;32mTrue\u001b[0m\u001b[0;34m)\u001b[0m \u001b[0;32mas\u001b[0m \u001b[0mtxn\u001b[0m\u001b[0;34m:\u001b[0m\u001b[0;34m\u001b[0m\u001b[0;34m\u001b[0m\u001b[0m\n\u001b[1;32m     12\u001b[0m                 \u001b[0mimages\u001b[0m \u001b[0;34m=\u001b[0m \u001b[0mimages\u001b[0m\u001b[0;34m.\u001b[0m\u001b[0mto\u001b[0m\u001b[0;34m(\u001b[0m\u001b[0mdevice\u001b[0m\u001b[0;34m)\u001b[0m\u001b[0;34m\u001b[0m\u001b[0;34m\u001b[0m\u001b[0m\n",
      "\u001b[0;32m~/.cache/pypoetry/virtualenvs/seefood-nC6BBDGh-py3.8/lib/python3.8/site-packages/tqdm/notebook.py\u001b[0m in \u001b[0;36m__iter__\u001b[0;34m(self, *args, **kwargs)\u001b[0m\n\u001b[1;32m    216\u001b[0m     \u001b[0;32mdef\u001b[0m \u001b[0m__iter__\u001b[0m\u001b[0;34m(\u001b[0m\u001b[0mself\u001b[0m\u001b[0;34m,\u001b[0m \u001b[0;34m*\u001b[0m\u001b[0margs\u001b[0m\u001b[0;34m,\u001b[0m \u001b[0;34m**\u001b[0m\u001b[0mkwargs\u001b[0m\u001b[0;34m)\u001b[0m\u001b[0;34m:\u001b[0m\u001b[0;34m\u001b[0m\u001b[0;34m\u001b[0m\u001b[0m\n\u001b[1;32m    217\u001b[0m         \u001b[0;32mtry\u001b[0m\u001b[0;34m:\u001b[0m\u001b[0;34m\u001b[0m\u001b[0;34m\u001b[0m\u001b[0m\n\u001b[0;32m--> 218\u001b[0;31m             \u001b[0;32mfor\u001b[0m \u001b[0mobj\u001b[0m \u001b[0;32min\u001b[0m \u001b[0msuper\u001b[0m\u001b[0;34m(\u001b[0m\u001b[0mtqdm_notebook\u001b[0m\u001b[0;34m,\u001b[0m \u001b[0mself\u001b[0m\u001b[0;34m)\u001b[0m\u001b[0;34m.\u001b[0m\u001b[0m__iter__\u001b[0m\u001b[0;34m(\u001b[0m\u001b[0;34m*\u001b[0m\u001b[0margs\u001b[0m\u001b[0;34m,\u001b[0m \u001b[0;34m**\u001b[0m\u001b[0mkwargs\u001b[0m\u001b[0;34m)\u001b[0m\u001b[0;34m:\u001b[0m\u001b[0;34m\u001b[0m\u001b[0;34m\u001b[0m\u001b[0m\n\u001b[0m\u001b[1;32m    219\u001b[0m                 \u001b[0;31m# return super(tqdm...) will not catch exception\u001b[0m\u001b[0;34m\u001b[0m\u001b[0;34m\u001b[0m\u001b[0;34m\u001b[0m\u001b[0m\n\u001b[1;32m    220\u001b[0m                 \u001b[0;32myield\u001b[0m \u001b[0mobj\u001b[0m\u001b[0;34m\u001b[0m\u001b[0;34m\u001b[0m\u001b[0m\n",
      "\u001b[0;32m~/.cache/pypoetry/virtualenvs/seefood-nC6BBDGh-py3.8/lib/python3.8/site-packages/tqdm/std.py\u001b[0m in \u001b[0;36m__iter__\u001b[0;34m(self)\u001b[0m\n\u001b[1;32m   1106\u001b[0m                 fp_write=getattr(self.fp, 'write', sys.stderr.write))\n\u001b[1;32m   1107\u001b[0m \u001b[0;34m\u001b[0m\u001b[0m\n\u001b[0;32m-> 1108\u001b[0;31m         \u001b[0;32mfor\u001b[0m \u001b[0mobj\u001b[0m \u001b[0;32min\u001b[0m \u001b[0miterable\u001b[0m\u001b[0;34m:\u001b[0m\u001b[0;34m\u001b[0m\u001b[0;34m\u001b[0m\u001b[0m\n\u001b[0m\u001b[1;32m   1109\u001b[0m             \u001b[0;32myield\u001b[0m \u001b[0mobj\u001b[0m\u001b[0;34m\u001b[0m\u001b[0;34m\u001b[0m\u001b[0m\n\u001b[1;32m   1110\u001b[0m             \u001b[0;31m# Update and possibly print the progressbar.\u001b[0m\u001b[0;34m\u001b[0m\u001b[0;34m\u001b[0m\u001b[0;34m\u001b[0m\u001b[0m\n",
      "\u001b[0;32m~/.cache/pypoetry/virtualenvs/seefood-nC6BBDGh-py3.8/lib/python3.8/site-packages/torch/utils/data/dataloader.py\u001b[0m in \u001b[0;36m__next__\u001b[0;34m(self)\u001b[0m\n\u001b[1;32m    343\u001b[0m \u001b[0;34m\u001b[0m\u001b[0m\n\u001b[1;32m    344\u001b[0m     \u001b[0;32mdef\u001b[0m \u001b[0m__next__\u001b[0m\u001b[0;34m(\u001b[0m\u001b[0mself\u001b[0m\u001b[0;34m)\u001b[0m\u001b[0;34m:\u001b[0m\u001b[0;34m\u001b[0m\u001b[0;34m\u001b[0m\u001b[0m\n\u001b[0;32m--> 345\u001b[0;31m         \u001b[0mdata\u001b[0m \u001b[0;34m=\u001b[0m \u001b[0mself\u001b[0m\u001b[0;34m.\u001b[0m\u001b[0m_next_data\u001b[0m\u001b[0;34m(\u001b[0m\u001b[0;34m)\u001b[0m\u001b[0;34m\u001b[0m\u001b[0;34m\u001b[0m\u001b[0m\n\u001b[0m\u001b[1;32m    346\u001b[0m         \u001b[0mself\u001b[0m\u001b[0;34m.\u001b[0m\u001b[0m_num_yielded\u001b[0m \u001b[0;34m+=\u001b[0m \u001b[0;36m1\u001b[0m\u001b[0;34m\u001b[0m\u001b[0;34m\u001b[0m\u001b[0m\n\u001b[1;32m    347\u001b[0m         \u001b[0;32mif\u001b[0m \u001b[0mself\u001b[0m\u001b[0;34m.\u001b[0m\u001b[0m_dataset_kind\u001b[0m \u001b[0;34m==\u001b[0m \u001b[0m_DatasetKind\u001b[0m\u001b[0;34m.\u001b[0m\u001b[0mIterable\u001b[0m \u001b[0;32mand\u001b[0m\u001b[0;31m \u001b[0m\u001b[0;31m\\\u001b[0m\u001b[0;34m\u001b[0m\u001b[0;34m\u001b[0m\u001b[0m\n",
      "\u001b[0;32m~/.cache/pypoetry/virtualenvs/seefood-nC6BBDGh-py3.8/lib/python3.8/site-packages/torch/utils/data/dataloader.py\u001b[0m in \u001b[0;36m_next_data\u001b[0;34m(self)\u001b[0m\n\u001b[1;32m    839\u001b[0m \u001b[0;34m\u001b[0m\u001b[0m\n\u001b[1;32m    840\u001b[0m             \u001b[0;32massert\u001b[0m \u001b[0;32mnot\u001b[0m \u001b[0mself\u001b[0m\u001b[0;34m.\u001b[0m\u001b[0m_shutdown\u001b[0m \u001b[0;32mand\u001b[0m \u001b[0mself\u001b[0m\u001b[0;34m.\u001b[0m\u001b[0m_tasks_outstanding\u001b[0m \u001b[0;34m>\u001b[0m \u001b[0;36m0\u001b[0m\u001b[0;34m\u001b[0m\u001b[0;34m\u001b[0m\u001b[0m\n\u001b[0;32m--> 841\u001b[0;31m             \u001b[0midx\u001b[0m\u001b[0;34m,\u001b[0m \u001b[0mdata\u001b[0m \u001b[0;34m=\u001b[0m \u001b[0mself\u001b[0m\u001b[0;34m.\u001b[0m\u001b[0m_get_data\u001b[0m\u001b[0;34m(\u001b[0m\u001b[0;34m)\u001b[0m\u001b[0;34m\u001b[0m\u001b[0;34m\u001b[0m\u001b[0m\n\u001b[0m\u001b[1;32m    842\u001b[0m             \u001b[0mself\u001b[0m\u001b[0;34m.\u001b[0m\u001b[0m_tasks_outstanding\u001b[0m \u001b[0;34m-=\u001b[0m \u001b[0;36m1\u001b[0m\u001b[0;34m\u001b[0m\u001b[0;34m\u001b[0m\u001b[0m\n\u001b[1;32m    843\u001b[0m \u001b[0;34m\u001b[0m\u001b[0m\n",
      "\u001b[0;32m~/.cache/pypoetry/virtualenvs/seefood-nC6BBDGh-py3.8/lib/python3.8/site-packages/torch/utils/data/dataloader.py\u001b[0m in \u001b[0;36m_get_data\u001b[0;34m(self)\u001b[0m\n\u001b[1;32m    806\u001b[0m         \u001b[0;32melse\u001b[0m\u001b[0;34m:\u001b[0m\u001b[0;34m\u001b[0m\u001b[0;34m\u001b[0m\u001b[0m\n\u001b[1;32m    807\u001b[0m             \u001b[0;32mwhile\u001b[0m \u001b[0;32mTrue\u001b[0m\u001b[0;34m:\u001b[0m\u001b[0;34m\u001b[0m\u001b[0;34m\u001b[0m\u001b[0m\n\u001b[0;32m--> 808\u001b[0;31m                 \u001b[0msuccess\u001b[0m\u001b[0;34m,\u001b[0m \u001b[0mdata\u001b[0m \u001b[0;34m=\u001b[0m \u001b[0mself\u001b[0m\u001b[0;34m.\u001b[0m\u001b[0m_try_get_data\u001b[0m\u001b[0;34m(\u001b[0m\u001b[0;34m)\u001b[0m\u001b[0;34m\u001b[0m\u001b[0;34m\u001b[0m\u001b[0m\n\u001b[0m\u001b[1;32m    809\u001b[0m                 \u001b[0;32mif\u001b[0m \u001b[0msuccess\u001b[0m\u001b[0;34m:\u001b[0m\u001b[0;34m\u001b[0m\u001b[0;34m\u001b[0m\u001b[0m\n\u001b[1;32m    810\u001b[0m                     \u001b[0;32mreturn\u001b[0m \u001b[0mdata\u001b[0m\u001b[0;34m\u001b[0m\u001b[0;34m\u001b[0m\u001b[0m\n",
      "\u001b[0;32m~/.cache/pypoetry/virtualenvs/seefood-nC6BBDGh-py3.8/lib/python3.8/site-packages/torch/utils/data/dataloader.py\u001b[0m in \u001b[0;36m_try_get_data\u001b[0;34m(self, timeout)\u001b[0m\n\u001b[1;32m    759\u001b[0m         \u001b[0;31m#   (bool: whether successfully get data, any: data if successful else None)\u001b[0m\u001b[0;34m\u001b[0m\u001b[0;34m\u001b[0m\u001b[0;34m\u001b[0m\u001b[0m\n\u001b[1;32m    760\u001b[0m         \u001b[0;32mtry\u001b[0m\u001b[0;34m:\u001b[0m\u001b[0;34m\u001b[0m\u001b[0;34m\u001b[0m\u001b[0m\n\u001b[0;32m--> 761\u001b[0;31m             \u001b[0mdata\u001b[0m \u001b[0;34m=\u001b[0m \u001b[0mself\u001b[0m\u001b[0;34m.\u001b[0m\u001b[0m_data_queue\u001b[0m\u001b[0;34m.\u001b[0m\u001b[0mget\u001b[0m\u001b[0;34m(\u001b[0m\u001b[0mtimeout\u001b[0m\u001b[0;34m=\u001b[0m\u001b[0mtimeout\u001b[0m\u001b[0;34m)\u001b[0m\u001b[0;34m\u001b[0m\u001b[0;34m\u001b[0m\u001b[0m\n\u001b[0m\u001b[1;32m    762\u001b[0m             \u001b[0;32mreturn\u001b[0m \u001b[0;34m(\u001b[0m\u001b[0;32mTrue\u001b[0m\u001b[0;34m,\u001b[0m \u001b[0mdata\u001b[0m\u001b[0;34m)\u001b[0m\u001b[0;34m\u001b[0m\u001b[0;34m\u001b[0m\u001b[0m\n\u001b[1;32m    763\u001b[0m         \u001b[0;32mexcept\u001b[0m \u001b[0mException\u001b[0m \u001b[0;32mas\u001b[0m \u001b[0me\u001b[0m\u001b[0;34m:\u001b[0m\u001b[0;34m\u001b[0m\u001b[0;34m\u001b[0m\u001b[0m\n",
      "\u001b[0;32m/usr/lib/python3.8/multiprocessing/queues.py\u001b[0m in \u001b[0;36mget\u001b[0;34m(self, block, timeout)\u001b[0m\n\u001b[1;32m    105\u001b[0m                 \u001b[0;32mif\u001b[0m \u001b[0mblock\u001b[0m\u001b[0;34m:\u001b[0m\u001b[0;34m\u001b[0m\u001b[0;34m\u001b[0m\u001b[0m\n\u001b[1;32m    106\u001b[0m                     \u001b[0mtimeout\u001b[0m \u001b[0;34m=\u001b[0m \u001b[0mdeadline\u001b[0m \u001b[0;34m-\u001b[0m \u001b[0mtime\u001b[0m\u001b[0;34m.\u001b[0m\u001b[0mmonotonic\u001b[0m\u001b[0;34m(\u001b[0m\u001b[0;34m)\u001b[0m\u001b[0;34m\u001b[0m\u001b[0;34m\u001b[0m\u001b[0m\n\u001b[0;32m--> 107\u001b[0;31m                     \u001b[0;32mif\u001b[0m \u001b[0;32mnot\u001b[0m \u001b[0mself\u001b[0m\u001b[0;34m.\u001b[0m\u001b[0m_poll\u001b[0m\u001b[0;34m(\u001b[0m\u001b[0mtimeout\u001b[0m\u001b[0;34m)\u001b[0m\u001b[0;34m:\u001b[0m\u001b[0;34m\u001b[0m\u001b[0;34m\u001b[0m\u001b[0m\n\u001b[0m\u001b[1;32m    108\u001b[0m                         \u001b[0;32mraise\u001b[0m \u001b[0mEmpty\u001b[0m\u001b[0;34m\u001b[0m\u001b[0;34m\u001b[0m\u001b[0m\n\u001b[1;32m    109\u001b[0m                 \u001b[0;32melif\u001b[0m \u001b[0;32mnot\u001b[0m \u001b[0mself\u001b[0m\u001b[0;34m.\u001b[0m\u001b[0m_poll\u001b[0m\u001b[0;34m(\u001b[0m\u001b[0;34m)\u001b[0m\u001b[0;34m:\u001b[0m\u001b[0;34m\u001b[0m\u001b[0;34m\u001b[0m\u001b[0m\n",
      "\u001b[0;32m/usr/lib/python3.8/multiprocessing/connection.py\u001b[0m in \u001b[0;36mpoll\u001b[0;34m(self, timeout)\u001b[0m\n\u001b[1;32m    255\u001b[0m         \u001b[0mself\u001b[0m\u001b[0;34m.\u001b[0m\u001b[0m_check_closed\u001b[0m\u001b[0;34m(\u001b[0m\u001b[0;34m)\u001b[0m\u001b[0;34m\u001b[0m\u001b[0;34m\u001b[0m\u001b[0m\n\u001b[1;32m    256\u001b[0m         \u001b[0mself\u001b[0m\u001b[0;34m.\u001b[0m\u001b[0m_check_readable\u001b[0m\u001b[0;34m(\u001b[0m\u001b[0;34m)\u001b[0m\u001b[0;34m\u001b[0m\u001b[0;34m\u001b[0m\u001b[0m\n\u001b[0;32m--> 257\u001b[0;31m         \u001b[0;32mreturn\u001b[0m \u001b[0mself\u001b[0m\u001b[0;34m.\u001b[0m\u001b[0m_poll\u001b[0m\u001b[0;34m(\u001b[0m\u001b[0mtimeout\u001b[0m\u001b[0;34m)\u001b[0m\u001b[0;34m\u001b[0m\u001b[0;34m\u001b[0m\u001b[0m\n\u001b[0m\u001b[1;32m    258\u001b[0m \u001b[0;34m\u001b[0m\u001b[0m\n\u001b[1;32m    259\u001b[0m     \u001b[0;32mdef\u001b[0m \u001b[0m__enter__\u001b[0m\u001b[0;34m(\u001b[0m\u001b[0mself\u001b[0m\u001b[0;34m)\u001b[0m\u001b[0;34m:\u001b[0m\u001b[0;34m\u001b[0m\u001b[0;34m\u001b[0m\u001b[0m\n",
      "\u001b[0;32m/usr/lib/python3.8/multiprocessing/connection.py\u001b[0m in \u001b[0;36m_poll\u001b[0;34m(self, timeout)\u001b[0m\n\u001b[1;32m    422\u001b[0m \u001b[0;34m\u001b[0m\u001b[0m\n\u001b[1;32m    423\u001b[0m     \u001b[0;32mdef\u001b[0m \u001b[0m_poll\u001b[0m\u001b[0;34m(\u001b[0m\u001b[0mself\u001b[0m\u001b[0;34m,\u001b[0m \u001b[0mtimeout\u001b[0m\u001b[0;34m)\u001b[0m\u001b[0;34m:\u001b[0m\u001b[0;34m\u001b[0m\u001b[0;34m\u001b[0m\u001b[0m\n\u001b[0;32m--> 424\u001b[0;31m         \u001b[0mr\u001b[0m \u001b[0;34m=\u001b[0m \u001b[0mwait\u001b[0m\u001b[0;34m(\u001b[0m\u001b[0;34m[\u001b[0m\u001b[0mself\u001b[0m\u001b[0;34m]\u001b[0m\u001b[0;34m,\u001b[0m \u001b[0mtimeout\u001b[0m\u001b[0;34m)\u001b[0m\u001b[0;34m\u001b[0m\u001b[0;34m\u001b[0m\u001b[0m\n\u001b[0m\u001b[1;32m    425\u001b[0m         \u001b[0;32mreturn\u001b[0m \u001b[0mbool\u001b[0m\u001b[0;34m(\u001b[0m\u001b[0mr\u001b[0m\u001b[0;34m)\u001b[0m\u001b[0;34m\u001b[0m\u001b[0;34m\u001b[0m\u001b[0m\n\u001b[1;32m    426\u001b[0m \u001b[0;34m\u001b[0m\u001b[0m\n",
      "\u001b[0;32m/usr/lib/python3.8/multiprocessing/connection.py\u001b[0m in \u001b[0;36mwait\u001b[0;34m(object_list, timeout)\u001b[0m\n\u001b[1;32m    928\u001b[0m \u001b[0;34m\u001b[0m\u001b[0m\n\u001b[1;32m    929\u001b[0m             \u001b[0;32mwhile\u001b[0m \u001b[0;32mTrue\u001b[0m\u001b[0;34m:\u001b[0m\u001b[0;34m\u001b[0m\u001b[0;34m\u001b[0m\u001b[0m\n\u001b[0;32m--> 930\u001b[0;31m                 \u001b[0mready\u001b[0m \u001b[0;34m=\u001b[0m \u001b[0mselector\u001b[0m\u001b[0;34m.\u001b[0m\u001b[0mselect\u001b[0m\u001b[0;34m(\u001b[0m\u001b[0mtimeout\u001b[0m\u001b[0;34m)\u001b[0m\u001b[0;34m\u001b[0m\u001b[0;34m\u001b[0m\u001b[0m\n\u001b[0m\u001b[1;32m    931\u001b[0m                 \u001b[0;32mif\u001b[0m \u001b[0mready\u001b[0m\u001b[0;34m:\u001b[0m\u001b[0;34m\u001b[0m\u001b[0;34m\u001b[0m\u001b[0m\n\u001b[1;32m    932\u001b[0m                     \u001b[0;32mreturn\u001b[0m \u001b[0;34m[\u001b[0m\u001b[0mkey\u001b[0m\u001b[0;34m.\u001b[0m\u001b[0mfileobj\u001b[0m \u001b[0;32mfor\u001b[0m \u001b[0;34m(\u001b[0m\u001b[0mkey\u001b[0m\u001b[0;34m,\u001b[0m \u001b[0mevents\u001b[0m\u001b[0;34m)\u001b[0m \u001b[0;32min\u001b[0m \u001b[0mready\u001b[0m\u001b[0;34m]\u001b[0m\u001b[0;34m\u001b[0m\u001b[0;34m\u001b[0m\u001b[0m\n",
      "\u001b[0;32m/usr/lib/python3.8/selectors.py\u001b[0m in \u001b[0;36mselect\u001b[0;34m(self, timeout)\u001b[0m\n\u001b[1;32m    413\u001b[0m         \u001b[0mready\u001b[0m \u001b[0;34m=\u001b[0m \u001b[0;34m[\u001b[0m\u001b[0;34m]\u001b[0m\u001b[0;34m\u001b[0m\u001b[0;34m\u001b[0m\u001b[0m\n\u001b[1;32m    414\u001b[0m         \u001b[0;32mtry\u001b[0m\u001b[0;34m:\u001b[0m\u001b[0;34m\u001b[0m\u001b[0;34m\u001b[0m\u001b[0m\n\u001b[0;32m--> 415\u001b[0;31m             \u001b[0mfd_event_list\u001b[0m \u001b[0;34m=\u001b[0m \u001b[0mself\u001b[0m\u001b[0;34m.\u001b[0m\u001b[0m_selector\u001b[0m\u001b[0;34m.\u001b[0m\u001b[0mpoll\u001b[0m\u001b[0;34m(\u001b[0m\u001b[0mtimeout\u001b[0m\u001b[0;34m)\u001b[0m\u001b[0;34m\u001b[0m\u001b[0;34m\u001b[0m\u001b[0m\n\u001b[0m\u001b[1;32m    416\u001b[0m         \u001b[0;32mexcept\u001b[0m \u001b[0mInterruptedError\u001b[0m\u001b[0;34m:\u001b[0m\u001b[0;34m\u001b[0m\u001b[0;34m\u001b[0m\u001b[0m\n\u001b[1;32m    417\u001b[0m             \u001b[0;32mreturn\u001b[0m \u001b[0mready\u001b[0m\u001b[0;34m\u001b[0m\u001b[0;34m\u001b[0m\u001b[0m\n",
      "\u001b[0;31mKeyboardInterrupt\u001b[0m: "
     ]
    }
   ],
   "source": [
    "store_to_lmdb(TEST_DATA_FILE, dataloader_test)"
   ]
  }
 ],
 "metadata": {
  "kernelspec": {
   "display_name": "Python 3",
   "language": "python",
   "name": "python3"
  },
  "language_info": {
   "codemirror_mode": {
    "name": "ipython",
    "version": 3
   },
   "file_extension": ".py",
   "mimetype": "text/x-python",
   "name": "python",
   "nbconvert_exporter": "python",
   "pygments_lexer": "ipython3",
   "version": "3.8.1"
  }
 },
 "nbformat": 4,
 "nbformat_minor": 4
}
