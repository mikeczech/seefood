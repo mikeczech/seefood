{
 "cells": [
  {
   "cell_type": "markdown",
   "metadata": {},
   "source": [
    "# Resize Images"
   ]
  },
  {
   "cell_type": "code",
   "execution_count": 1,
   "metadata": {},
   "outputs": [],
   "source": [
    "%load_ext lab_black"
   ]
  },
  {
   "cell_type": "code",
   "execution_count": 2,
   "metadata": {},
   "outputs": [],
   "source": [
    "%load_ext google.cloud.bigquery"
   ]
  },
  {
   "cell_type": "code",
   "execution_count": 3,
   "metadata": {},
   "outputs": [],
   "source": [
    "%load_ext line_profiler"
   ]
  },
  {
   "cell_type": "code",
   "execution_count": 54,
   "metadata": {},
   "outputs": [],
   "source": [
    "import os\n",
    "from tqdm.notebook import tqdm\n",
    "from PIL import Image, ImageFile"
   ]
  },
  {
   "cell_type": "code",
   "execution_count": 55,
   "metadata": {},
   "outputs": [],
   "source": [
    "ImageFile.LOAD_TRUNCATED_IMAGES = True"
   ]
  },
  {
   "cell_type": "markdown",
   "metadata": {},
   "source": [
    "## Load Data"
   ]
  },
  {
   "cell_type": "code",
   "execution_count": 28,
   "metadata": {},
   "outputs": [],
   "source": [
    "%%bigquery df --project zenscr-seefood-dev\n",
    "\n",
    "SELECT image_path\n",
    "FROM `zenscr-seefood-dev.sparkrecipes.base_filtered`\n",
    "INNER JOIN `zenscr-seefood-dev.sparkrecipes.image_path`\n",
    "USING (recipe_id)\n",
    "WHERE RAND() < 0.0001"
   ]
  },
  {
   "cell_type": "code",
   "execution_count": 29,
   "metadata": {},
   "outputs": [
    {
     "data": {
      "text/html": [
       "<div>\n",
       "<style scoped>\n",
       "    .dataframe tbody tr th:only-of-type {\n",
       "        vertical-align: middle;\n",
       "    }\n",
       "\n",
       "    .dataframe tbody tr th {\n",
       "        vertical-align: top;\n",
       "    }\n",
       "\n",
       "    .dataframe thead th {\n",
       "        text-align: right;\n",
       "    }\n",
       "</style>\n",
       "<table border=\"1\" class=\"dataframe\">\n",
       "  <thead>\n",
       "    <tr style=\"text-align: right;\">\n",
       "      <th></th>\n",
       "      <th>title</th>\n",
       "      <th>image_path</th>\n",
       "      <th>total_calories</th>\n",
       "    </tr>\n",
       "  </thead>\n",
       "  <tbody>\n",
       "    <tr>\n",
       "      <th>0</th>\n",
       "      <td>Fruit Dazzle</td>\n",
       "      <td>../../data/images/347283/000012</td>\n",
       "      <td>194.5</td>\n",
       "    </tr>\n",
       "    <tr>\n",
       "      <th>1</th>\n",
       "      <td>grilled salmon</td>\n",
       "      <td>../../data/images/94743/000002</td>\n",
       "      <td>240.6</td>\n",
       "    </tr>\n",
       "    <tr>\n",
       "      <th>2</th>\n",
       "      <td>Aj's Taco Salad</td>\n",
       "      <td>../../data/images/37574/000013</td>\n",
       "      <td>192.7</td>\n",
       "    </tr>\n",
       "    <tr>\n",
       "      <th>3</th>\n",
       "      <td>Overnight Oatmeal</td>\n",
       "      <td>../../data/images/348596/000013</td>\n",
       "      <td>202.2</td>\n",
       "    </tr>\n",
       "    <tr>\n",
       "      <th>4</th>\n",
       "      <td>No noodle Tuna Casserole</td>\n",
       "      <td>../../data/images/344032/000010</td>\n",
       "      <td>260.4</td>\n",
       "    </tr>\n",
       "    <tr>\n",
       "      <th>...</th>\n",
       "      <td>...</td>\n",
       "      <td>...</td>\n",
       "      <td>...</td>\n",
       "    </tr>\n",
       "    <tr>\n",
       "      <th>120</th>\n",
       "      <td>Broccoli Pasta</td>\n",
       "      <td>../../data/images/4646/000007</td>\n",
       "      <td>126.2</td>\n",
       "    </tr>\n",
       "    <tr>\n",
       "      <th>121</th>\n",
       "      <td>Honey whole grain lunch buns</td>\n",
       "      <td>../../data/images/89043/000001</td>\n",
       "      <td>206.5</td>\n",
       "    </tr>\n",
       "    <tr>\n",
       "      <th>122</th>\n",
       "      <td>Carissa's Low Fat Veggie Soup</td>\n",
       "      <td>../../data/images/413047/000004</td>\n",
       "      <td>141.7</td>\n",
       "    </tr>\n",
       "    <tr>\n",
       "      <th>123</th>\n",
       "      <td>Herb Rolls</td>\n",
       "      <td>../../data/images/334314/000008</td>\n",
       "      <td>147.3</td>\n",
       "    </tr>\n",
       "    <tr>\n",
       "      <th>124</th>\n",
       "      <td>Sweet potato muffins</td>\n",
       "      <td>../../data/images/431785/000014</td>\n",
       "      <td>83.9</td>\n",
       "    </tr>\n",
       "  </tbody>\n",
       "</table>\n",
       "<p>125 rows × 3 columns</p>\n",
       "</div>"
      ],
      "text/plain": [
       "                             title                       image_path  \\\n",
       "0                     Fruit Dazzle  ../../data/images/347283/000012   \n",
       "1                   grilled salmon   ../../data/images/94743/000002   \n",
       "2                  Aj's Taco Salad   ../../data/images/37574/000013   \n",
       "3                Overnight Oatmeal  ../../data/images/348596/000013   \n",
       "4         No noodle Tuna Casserole  ../../data/images/344032/000010   \n",
       "..                             ...                              ...   \n",
       "120                 Broccoli Pasta    ../../data/images/4646/000007   \n",
       "121   Honey whole grain lunch buns   ../../data/images/89043/000001   \n",
       "122  Carissa's Low Fat Veggie Soup  ../../data/images/413047/000004   \n",
       "123                     Herb Rolls  ../../data/images/334314/000008   \n",
       "124           Sweet potato muffins  ../../data/images/431785/000014   \n",
       "\n",
       "     total_calories  \n",
       "0             194.5  \n",
       "1             240.6  \n",
       "2             192.7  \n",
       "3             202.2  \n",
       "4             260.4  \n",
       "..              ...  \n",
       "120           126.2  \n",
       "121           206.5  \n",
       "122           141.7  \n",
       "123           147.3  \n",
       "124            83.9  \n",
       "\n",
       "[125 rows x 3 columns]"
      ]
     },
     "execution_count": 29,
     "metadata": {},
     "output_type": "execute_result"
    }
   ],
   "source": [
    "df"
   ]
  },
  {
   "cell_type": "markdown",
   "metadata": {},
   "source": [
    "## Analyze Loading of Images"
   ]
  },
  {
   "cell_type": "code",
   "execution_count": 30,
   "metadata": {},
   "outputs": [],
   "source": [
    "def load_image(path):\n",
    "    with Image.open(path) as f:\n",
    "        image = f.convert(\"RGB\")\n",
    "    return image"
   ]
  },
  {
   "cell_type": "code",
   "execution_count": 31,
   "metadata": {},
   "outputs": [],
   "source": [
    "def load_all_images(df, col):\n",
    "    for path in df[col]:\n",
    "        image = load_image(path)\n",
    "        del image"
   ]
  },
  {
   "cell_type": "code",
   "execution_count": 32,
   "metadata": {},
   "outputs": [],
   "source": [
    "def get_resolution(image_path):\n",
    "    image = load_image(image_path)\n",
    "    ret = f\"{image.width}x{image.height}\"\n",
    "    del image\n",
    "    return ret"
   ]
  },
  {
   "cell_type": "code",
   "execution_count": 33,
   "metadata": {},
   "outputs": [
    {
     "data": {
      "text/plain": [
       "Timer unit: 1e-06 s\n",
       "\n",
       "Total time: 1.88546 s\n",
       "File: <ipython-input-30-dc32862bcd6f>\n",
       "Function: load_image at line 1\n",
       "\n",
       "Line #      Hits         Time  Per Hit   % Time  Line Contents\n",
       "==============================================================\n",
       "     1                                           def load_image(path):\n",
       "     2       125     582512.0   4660.1     30.9      with Image.open(path) as f:\n",
       "     3       125    1302548.0  10420.4     69.1          image = f.convert(\"RGB\")\n",
       "     4       125        401.0      3.2      0.0      return image"
      ]
     },
     "metadata": {},
     "output_type": "display_data"
    }
   ],
   "source": [
    "%lprun  -f load_image load_all_images(df, col=\"image_path\")"
   ]
  },
  {
   "cell_type": "code",
   "execution_count": 34,
   "metadata": {},
   "outputs": [],
   "source": [
    "df[\"resolution\"] = df.image_path.map(get_resolution)"
   ]
  },
  {
   "cell_type": "code",
   "execution_count": 35,
   "metadata": {},
   "outputs": [],
   "source": [
    "df[\"filesize\"] = df.image_path.map(lambda path: os.stat(path).st_size)"
   ]
  },
  {
   "cell_type": "code",
   "execution_count": 36,
   "metadata": {},
   "outputs": [
    {
     "data": {
      "text/html": [
       "<div>\n",
       "<style scoped>\n",
       "    .dataframe tbody tr th:only-of-type {\n",
       "        vertical-align: middle;\n",
       "    }\n",
       "\n",
       "    .dataframe tbody tr th {\n",
       "        vertical-align: top;\n",
       "    }\n",
       "\n",
       "    .dataframe thead th {\n",
       "        text-align: right;\n",
       "    }\n",
       "</style>\n",
       "<table border=\"1\" class=\"dataframe\">\n",
       "  <thead>\n",
       "    <tr style=\"text-align: right;\">\n",
       "      <th></th>\n",
       "      <th>title</th>\n",
       "      <th>image_path</th>\n",
       "      <th>total_calories</th>\n",
       "      <th>resolution</th>\n",
       "      <th>filesize</th>\n",
       "    </tr>\n",
       "  </thead>\n",
       "  <tbody>\n",
       "    <tr>\n",
       "      <th>33</th>\n",
       "      <td>Sukhothai Pad Thai</td>\n",
       "      <td>../../data/images/412667/000005</td>\n",
       "      <td>474.1</td>\n",
       "      <td>800x800</td>\n",
       "      <td>112341</td>\n",
       "    </tr>\n",
       "    <tr>\n",
       "      <th>80</th>\n",
       "      <td>Chick Pea Salad</td>\n",
       "      <td>../../data/images/204015/000004</td>\n",
       "      <td>131.4</td>\n",
       "      <td>680x1020</td>\n",
       "      <td>142080</td>\n",
       "    </tr>\n",
       "    <tr>\n",
       "      <th>47</th>\n",
       "      <td>Peanut Noodles with Shrimp</td>\n",
       "      <td>../../data/images/18936/000005</td>\n",
       "      <td>235.7</td>\n",
       "      <td>680x1020</td>\n",
       "      <td>255657</td>\n",
       "    </tr>\n",
       "    <tr>\n",
       "      <th>81</th>\n",
       "      <td>Stramboli</td>\n",
       "      <td>../../data/images/256472/000010</td>\n",
       "      <td>331.8</td>\n",
       "      <td>800x450</td>\n",
       "      <td>67276</td>\n",
       "    </tr>\n",
       "    <tr>\n",
       "      <th>55</th>\n",
       "      <td>Chicken, Corn, and Black Bean Stoup</td>\n",
       "      <td>../../data/images/402579/000013</td>\n",
       "      <td>403.1</td>\n",
       "      <td>656x438</td>\n",
       "      <td>125174</td>\n",
       "    </tr>\n",
       "    <tr>\n",
       "      <th>57</th>\n",
       "      <td>Faux Puff Pastry</td>\n",
       "      <td>../../data/images/419701/000004</td>\n",
       "      <td>66.4</td>\n",
       "      <td>600x495</td>\n",
       "      <td>404620</td>\n",
       "    </tr>\n",
       "    <tr>\n",
       "      <th>59</th>\n",
       "      <td>Chicken Taco Meat</td>\n",
       "      <td>../../data/images/178986/000005</td>\n",
       "      <td>67.9</td>\n",
       "      <td>640x424</td>\n",
       "      <td>232237</td>\n",
       "    </tr>\n",
       "    <tr>\n",
       "      <th>50</th>\n",
       "      <td>Buttermilk Pancakes</td>\n",
       "      <td>../../data/images/274660/000003</td>\n",
       "      <td>221.7</td>\n",
       "      <td>440x293</td>\n",
       "      <td>28356</td>\n",
       "    </tr>\n",
       "    <tr>\n",
       "      <th>68</th>\n",
       "      <td>L. R. lemon chicken</td>\n",
       "      <td>../../data/images/285431/000011</td>\n",
       "      <td>112.3</td>\n",
       "      <td>600x900</td>\n",
       "      <td>107536</td>\n",
       "    </tr>\n",
       "    <tr>\n",
       "      <th>77</th>\n",
       "      <td>Basic Chili over rice (no meat)</td>\n",
       "      <td>../../data/images/48379/000001</td>\n",
       "      <td>207.7</td>\n",
       "      <td>720x1080</td>\n",
       "      <td>85092</td>\n",
       "    </tr>\n",
       "  </tbody>\n",
       "</table>\n",
       "</div>"
      ],
      "text/plain": [
       "                                  title                       image_path  \\\n",
       "33                   Sukhothai Pad Thai  ../../data/images/412667/000005   \n",
       "80                      Chick Pea Salad  ../../data/images/204015/000004   \n",
       "47           Peanut Noodles with Shrimp   ../../data/images/18936/000005   \n",
       "81                            Stramboli  ../../data/images/256472/000010   \n",
       "55  Chicken, Corn, and Black Bean Stoup  ../../data/images/402579/000013   \n",
       "57                     Faux Puff Pastry  ../../data/images/419701/000004   \n",
       "59                    Chicken Taco Meat  ../../data/images/178986/000005   \n",
       "50                  Buttermilk Pancakes  ../../data/images/274660/000003   \n",
       "68                  L. R. lemon chicken  ../../data/images/285431/000011   \n",
       "77      Basic Chili over rice (no meat)   ../../data/images/48379/000001   \n",
       "\n",
       "    total_calories resolution  filesize  \n",
       "33           474.1    800x800    112341  \n",
       "80           131.4   680x1020    142080  \n",
       "47           235.7   680x1020    255657  \n",
       "81           331.8    800x450     67276  \n",
       "55           403.1    656x438    125174  \n",
       "57            66.4    600x495    404620  \n",
       "59            67.9    640x424    232237  \n",
       "50           221.7    440x293     28356  \n",
       "68           112.3    600x900    107536  \n",
       "77           207.7   720x1080     85092  "
      ]
     },
     "execution_count": 36,
     "metadata": {},
     "output_type": "execute_result"
    }
   ],
   "source": [
    "df.sample(10)"
   ]
  },
  {
   "cell_type": "markdown",
   "metadata": {},
   "source": [
    "## Resize Images and Store as BMP"
   ]
  },
  {
   "cell_type": "code",
   "execution_count": 37,
   "metadata": {},
   "outputs": [],
   "source": [
    "df[\"resized_image_path\"] = df.image_path.map(lambda path: f\"{path}_resized\")"
   ]
  },
  {
   "cell_type": "code",
   "execution_count": 56,
   "metadata": {},
   "outputs": [],
   "source": [
    "def resize_images(\n",
    "    df, size=(224, 224), source_col=\"image_path\", target_col=\"resized_image_path\"\n",
    "):\n",
    "    for _, row in tqdm(df.iterrows(), total=df.shape[0]):\n",
    "        with Image.open(row[source_col]) as im:\n",
    "            im = im.convert(\"RGB\")\n",
    "            im.thumbnail(size, Image.ANTIALIAS)\n",
    "            im.save(row[target_col], \"BMP\")"
   ]
  },
  {
   "cell_type": "code",
   "execution_count": 49,
   "metadata": {},
   "outputs": [
    {
     "data": {
      "application/vnd.jupyter.widget-view+json": {
       "model_id": "a8e16eeaaad74a22a700ba582d45a007",
       "version_major": 2,
       "version_minor": 0
      },
      "text/plain": [
       "HBox(children=(FloatProgress(value=1.0, bar_style='info', max=1.0), HTML(value='')))"
      ]
     },
     "metadata": {},
     "output_type": "display_data"
    },
    {
     "name": "stdout",
     "output_type": "stream",
     "text": [
      "\n"
     ]
    }
   ],
   "source": [
    "resize_images(df)"
   ]
  },
  {
   "cell_type": "code",
   "execution_count": 18,
   "metadata": {},
   "outputs": [
    {
     "data": {
      "text/plain": [
       "Timer unit: 1e-06 s\n",
       "\n",
       "Total time: 24.4156 s\n",
       "File: <ipython-input-8-dc32862bcd6f>\n",
       "Function: load_image at line 1\n",
       "\n",
       "Line #      Hits         Time  Per Hit   % Time  Line Contents\n",
       "==============================================================\n",
       "     1                                           def load_image(path):\n",
       "     2     13092    9260519.0    707.3     37.9      with Image.open(path) as f:\n",
       "     3     13092   15137841.0   1156.3     62.0          image = f.convert(\"RGB\")\n",
       "     4     13092      17270.0      1.3      0.1      return image"
      ]
     },
     "metadata": {},
     "output_type": "display_data"
    }
   ],
   "source": [
    "%lprun  -f load_image load_all_images(df, col=\"resized_image_path\")"
   ]
  },
  {
   "cell_type": "code",
   "execution_count": 41,
   "metadata": {},
   "outputs": [],
   "source": [
    "df[\"resized_resolution\"] = df.resized_image_path.map(get_resolution)"
   ]
  },
  {
   "cell_type": "code",
   "execution_count": 42,
   "metadata": {},
   "outputs": [],
   "source": [
    "df[\"resized_filesize\"] = df.resized_image_path.map(lambda path: os.stat(path).st_size)"
   ]
  },
  {
   "cell_type": "code",
   "execution_count": 43,
   "metadata": {},
   "outputs": [],
   "source": [
    "df[\"filesize_diff\"] = df[\"filesize\"] - df[\"resized_filesize\"]"
   ]
  },
  {
   "cell_type": "code",
   "execution_count": 44,
   "metadata": {},
   "outputs": [
    {
     "data": {
      "text/html": [
       "<div>\n",
       "<style scoped>\n",
       "    .dataframe tbody tr th:only-of-type {\n",
       "        vertical-align: middle;\n",
       "    }\n",
       "\n",
       "    .dataframe tbody tr th {\n",
       "        vertical-align: top;\n",
       "    }\n",
       "\n",
       "    .dataframe thead th {\n",
       "        text-align: right;\n",
       "    }\n",
       "</style>\n",
       "<table border=\"1\" class=\"dataframe\">\n",
       "  <thead>\n",
       "    <tr style=\"text-align: right;\">\n",
       "      <th></th>\n",
       "      <th>title</th>\n",
       "      <th>image_path</th>\n",
       "      <th>total_calories</th>\n",
       "      <th>resolution</th>\n",
       "      <th>filesize</th>\n",
       "      <th>resized_image_path</th>\n",
       "      <th>resized_resolution</th>\n",
       "      <th>resized_filesize</th>\n",
       "      <th>filesize_diff</th>\n",
       "    </tr>\n",
       "  </thead>\n",
       "  <tbody>\n",
       "    <tr>\n",
       "      <th>0</th>\n",
       "      <td>Fruit Dazzle</td>\n",
       "      <td>../../data/images/347283/000012</td>\n",
       "      <td>194.5</td>\n",
       "      <td>360x360</td>\n",
       "      <td>46228</td>\n",
       "      <td>../../data/images/347283/000012_resized</td>\n",
       "      <td>224x224</td>\n",
       "      <td>150582</td>\n",
       "      <td>-104354</td>\n",
       "    </tr>\n",
       "    <tr>\n",
       "      <th>1</th>\n",
       "      <td>grilled salmon</td>\n",
       "      <td>../../data/images/94743/000002</td>\n",
       "      <td>240.6</td>\n",
       "      <td>800x800</td>\n",
       "      <td>186403</td>\n",
       "      <td>../../data/images/94743/000002_resized</td>\n",
       "      <td>224x224</td>\n",
       "      <td>150582</td>\n",
       "      <td>35821</td>\n",
       "    </tr>\n",
       "    <tr>\n",
       "      <th>2</th>\n",
       "      <td>Aj's Taco Salad</td>\n",
       "      <td>../../data/images/37574/000013</td>\n",
       "      <td>192.7</td>\n",
       "      <td>640x960</td>\n",
       "      <td>31682</td>\n",
       "      <td>../../data/images/37574/000013_resized</td>\n",
       "      <td>149x224</td>\n",
       "      <td>100406</td>\n",
       "      <td>-68724</td>\n",
       "    </tr>\n",
       "    <tr>\n",
       "      <th>3</th>\n",
       "      <td>Overnight Oatmeal</td>\n",
       "      <td>../../data/images/348596/000013</td>\n",
       "      <td>202.2</td>\n",
       "      <td>800x450</td>\n",
       "      <td>68275</td>\n",
       "      <td>../../data/images/348596/000013_resized</td>\n",
       "      <td>224x126</td>\n",
       "      <td>84726</td>\n",
       "      <td>-16451</td>\n",
       "    </tr>\n",
       "    <tr>\n",
       "      <th>4</th>\n",
       "      <td>No noodle Tuna Casserole</td>\n",
       "      <td>../../data/images/344032/000010</td>\n",
       "      <td>260.4</td>\n",
       "      <td>735x490</td>\n",
       "      <td>300086</td>\n",
       "      <td>../../data/images/344032/000010_resized</td>\n",
       "      <td>224x149</td>\n",
       "      <td>100182</td>\n",
       "      <td>199904</td>\n",
       "    </tr>\n",
       "    <tr>\n",
       "      <th>...</th>\n",
       "      <td>...</td>\n",
       "      <td>...</td>\n",
       "      <td>...</td>\n",
       "      <td>...</td>\n",
       "      <td>...</td>\n",
       "      <td>...</td>\n",
       "      <td>...</td>\n",
       "      <td>...</td>\n",
       "      <td>...</td>\n",
       "    </tr>\n",
       "    <tr>\n",
       "      <th>120</th>\n",
       "      <td>Broccoli Pasta</td>\n",
       "      <td>../../data/images/4646/000007</td>\n",
       "      <td>126.2</td>\n",
       "      <td>600x900</td>\n",
       "      <td>273375</td>\n",
       "      <td>../../data/images/4646/000007_resized</td>\n",
       "      <td>149x224</td>\n",
       "      <td>100406</td>\n",
       "      <td>172969</td>\n",
       "    </tr>\n",
       "    <tr>\n",
       "      <th>121</th>\n",
       "      <td>Honey whole grain lunch buns</td>\n",
       "      <td>../../data/images/89043/000001</td>\n",
       "      <td>206.5</td>\n",
       "      <td>450x338</td>\n",
       "      <td>55710</td>\n",
       "      <td>../../data/images/89043/000001_resized</td>\n",
       "      <td>224x168</td>\n",
       "      <td>112950</td>\n",
       "      <td>-57240</td>\n",
       "    </tr>\n",
       "    <tr>\n",
       "      <th>122</th>\n",
       "      <td>Carissa's Low Fat Veggie Soup</td>\n",
       "      <td>../../data/images/413047/000004</td>\n",
       "      <td>141.7</td>\n",
       "      <td>700x1050</td>\n",
       "      <td>120295</td>\n",
       "      <td>../../data/images/413047/000004_resized</td>\n",
       "      <td>149x224</td>\n",
       "      <td>100406</td>\n",
       "      <td>19889</td>\n",
       "    </tr>\n",
       "    <tr>\n",
       "      <th>123</th>\n",
       "      <td>Herb Rolls</td>\n",
       "      <td>../../data/images/334314/000008</td>\n",
       "      <td>147.3</td>\n",
       "      <td>570x855</td>\n",
       "      <td>127025</td>\n",
       "      <td>../../data/images/334314/000008_resized</td>\n",
       "      <td>149x224</td>\n",
       "      <td>100406</td>\n",
       "      <td>26619</td>\n",
       "    </tr>\n",
       "    <tr>\n",
       "      <th>124</th>\n",
       "      <td>Sweet potato muffins</td>\n",
       "      <td>../../data/images/431785/000014</td>\n",
       "      <td>83.9</td>\n",
       "      <td>600x399</td>\n",
       "      <td>91044</td>\n",
       "      <td>../../data/images/431785/000014_resized</td>\n",
       "      <td>224x149</td>\n",
       "      <td>100182</td>\n",
       "      <td>-9138</td>\n",
       "    </tr>\n",
       "  </tbody>\n",
       "</table>\n",
       "<p>125 rows × 9 columns</p>\n",
       "</div>"
      ],
      "text/plain": [
       "                             title                       image_path  \\\n",
       "0                     Fruit Dazzle  ../../data/images/347283/000012   \n",
       "1                   grilled salmon   ../../data/images/94743/000002   \n",
       "2                  Aj's Taco Salad   ../../data/images/37574/000013   \n",
       "3                Overnight Oatmeal  ../../data/images/348596/000013   \n",
       "4         No noodle Tuna Casserole  ../../data/images/344032/000010   \n",
       "..                             ...                              ...   \n",
       "120                 Broccoli Pasta    ../../data/images/4646/000007   \n",
       "121   Honey whole grain lunch buns   ../../data/images/89043/000001   \n",
       "122  Carissa's Low Fat Veggie Soup  ../../data/images/413047/000004   \n",
       "123                     Herb Rolls  ../../data/images/334314/000008   \n",
       "124           Sweet potato muffins  ../../data/images/431785/000014   \n",
       "\n",
       "     total_calories resolution  filesize  \\\n",
       "0             194.5    360x360     46228   \n",
       "1             240.6    800x800    186403   \n",
       "2             192.7    640x960     31682   \n",
       "3             202.2    800x450     68275   \n",
       "4             260.4    735x490    300086   \n",
       "..              ...        ...       ...   \n",
       "120           126.2    600x900    273375   \n",
       "121           206.5    450x338     55710   \n",
       "122           141.7   700x1050    120295   \n",
       "123           147.3    570x855    127025   \n",
       "124            83.9    600x399     91044   \n",
       "\n",
       "                          resized_image_path resized_resolution  \\\n",
       "0    ../../data/images/347283/000012_resized            224x224   \n",
       "1     ../../data/images/94743/000002_resized            224x224   \n",
       "2     ../../data/images/37574/000013_resized            149x224   \n",
       "3    ../../data/images/348596/000013_resized            224x126   \n",
       "4    ../../data/images/344032/000010_resized            224x149   \n",
       "..                                       ...                ...   \n",
       "120    ../../data/images/4646/000007_resized            149x224   \n",
       "121   ../../data/images/89043/000001_resized            224x168   \n",
       "122  ../../data/images/413047/000004_resized            149x224   \n",
       "123  ../../data/images/334314/000008_resized            149x224   \n",
       "124  ../../data/images/431785/000014_resized            224x149   \n",
       "\n",
       "     resized_filesize  filesize_diff  \n",
       "0              150582        -104354  \n",
       "1              150582          35821  \n",
       "2              100406         -68724  \n",
       "3               84726         -16451  \n",
       "4              100182         199904  \n",
       "..                ...            ...  \n",
       "120            100406         172969  \n",
       "121            112950         -57240  \n",
       "122            100406          19889  \n",
       "123            100406          26619  \n",
       "124            100182          -9138  \n",
       "\n",
       "[125 rows x 9 columns]"
      ]
     },
     "execution_count": 44,
     "metadata": {},
     "output_type": "execute_result"
    }
   ],
   "source": [
    "df"
   ]
  },
  {
   "cell_type": "code",
   "execution_count": 45,
   "metadata": {},
   "outputs": [
    {
     "data": {
      "text/plain": [
       "14214868"
      ]
     },
     "execution_count": 45,
     "metadata": {},
     "output_type": "execute_result"
    }
   ],
   "source": [
    "df.filesize.sum()"
   ]
  },
  {
   "cell_type": "code",
   "execution_count": 46,
   "metadata": {},
   "outputs": [
    {
     "data": {
      "text/plain": [
       "13207294"
      ]
     },
     "execution_count": 46,
     "metadata": {},
     "output_type": "execute_result"
    }
   ],
   "source": [
    "df.resized_filesize.sum()"
   ]
  },
  {
   "cell_type": "code",
   "execution_count": 47,
   "metadata": {},
   "outputs": [
    {
     "data": {
      "text/html": [
       "<div>\n",
       "<style scoped>\n",
       "    .dataframe tbody tr th:only-of-type {\n",
       "        vertical-align: middle;\n",
       "    }\n",
       "\n",
       "    .dataframe tbody tr th {\n",
       "        vertical-align: top;\n",
       "    }\n",
       "\n",
       "    .dataframe thead th {\n",
       "        text-align: right;\n",
       "    }\n",
       "</style>\n",
       "<table border=\"1\" class=\"dataframe\">\n",
       "  <thead>\n",
       "    <tr style=\"text-align: right;\">\n",
       "      <th></th>\n",
       "      <th>total_calories</th>\n",
       "      <th>filesize</th>\n",
       "      <th>resized_filesize</th>\n",
       "      <th>filesize_diff</th>\n",
       "    </tr>\n",
       "  </thead>\n",
       "  <tbody>\n",
       "    <tr>\n",
       "      <th>count</th>\n",
       "      <td>125.000000</td>\n",
       "      <td>125.00000</td>\n",
       "      <td>125.000000</td>\n",
       "      <td>125.000000</td>\n",
       "    </tr>\n",
       "    <tr>\n",
       "      <th>mean</th>\n",
       "      <td>213.499200</td>\n",
       "      <td>113718.94400</td>\n",
       "      <td>105658.352000</td>\n",
       "      <td>8060.592000</td>\n",
       "    </tr>\n",
       "    <tr>\n",
       "      <th>std</th>\n",
       "      <td>111.300372</td>\n",
       "      <td>87980.28743</td>\n",
       "      <td>19687.977127</td>\n",
       "      <td>90734.799435</td>\n",
       "    </tr>\n",
       "    <tr>\n",
       "      <th>min</th>\n",
       "      <td>31.200000</td>\n",
       "      <td>21067.00000</td>\n",
       "      <td>51126.000000</td>\n",
       "      <td>-104354.000000</td>\n",
       "    </tr>\n",
       "    <tr>\n",
       "      <th>25%</th>\n",
       "      <td>141.700000</td>\n",
       "      <td>57224.00000</td>\n",
       "      <td>100182.000000</td>\n",
       "      <td>-42867.000000</td>\n",
       "    </tr>\n",
       "    <tr>\n",
       "      <th>50%</th>\n",
       "      <td>199.100000</td>\n",
       "      <td>85152.00000</td>\n",
       "      <td>100406.000000</td>\n",
       "      <td>-17296.000000</td>\n",
       "    </tr>\n",
       "    <tr>\n",
       "      <th>75%</th>\n",
       "      <td>265.400000</td>\n",
       "      <td>127910.00000</td>\n",
       "      <td>112950.000000</td>\n",
       "      <td>25692.000000</td>\n",
       "    </tr>\n",
       "    <tr>\n",
       "      <th>max</th>\n",
       "      <td>505.300000</td>\n",
       "      <td>492033.00000</td>\n",
       "      <td>150582.000000</td>\n",
       "      <td>416715.000000</td>\n",
       "    </tr>\n",
       "  </tbody>\n",
       "</table>\n",
       "</div>"
      ],
      "text/plain": [
       "       total_calories      filesize  resized_filesize  filesize_diff\n",
       "count      125.000000     125.00000        125.000000     125.000000\n",
       "mean       213.499200  113718.94400     105658.352000    8060.592000\n",
       "std        111.300372   87980.28743      19687.977127   90734.799435\n",
       "min         31.200000   21067.00000      51126.000000 -104354.000000\n",
       "25%        141.700000   57224.00000     100182.000000  -42867.000000\n",
       "50%        199.100000   85152.00000     100406.000000  -17296.000000\n",
       "75%        265.400000  127910.00000     112950.000000   25692.000000\n",
       "max        505.300000  492033.00000     150582.000000  416715.000000"
      ]
     },
     "execution_count": 47,
     "metadata": {},
     "output_type": "execute_result"
    }
   ],
   "source": [
    "df.describe()"
   ]
  },
  {
   "cell_type": "markdown",
   "metadata": {},
   "source": [
    "## Resize all"
   ]
  },
  {
   "cell_type": "code",
   "execution_count": 50,
   "metadata": {},
   "outputs": [],
   "source": [
    "%%bigquery df_all --project zenscr-seefood-dev\n",
    "\n",
    "SELECT image_path\n",
    "FROM `zenscr-seefood-dev.sparkrecipes.base_filtered`\n",
    "INNER JOIN `zenscr-seefood-dev.sparkrecipes.image_path`\n",
    "USING (recipe_id)"
   ]
  },
  {
   "cell_type": "code",
   "execution_count": 52,
   "metadata": {},
   "outputs": [
    {
     "data": {
      "text/html": [
       "<div>\n",
       "<style scoped>\n",
       "    .dataframe tbody tr th:only-of-type {\n",
       "        vertical-align: middle;\n",
       "    }\n",
       "\n",
       "    .dataframe tbody tr th {\n",
       "        vertical-align: top;\n",
       "    }\n",
       "\n",
       "    .dataframe thead th {\n",
       "        text-align: right;\n",
       "    }\n",
       "</style>\n",
       "<table border=\"1\" class=\"dataframe\">\n",
       "  <thead>\n",
       "    <tr style=\"text-align: right;\">\n",
       "      <th></th>\n",
       "      <th>image_path</th>\n",
       "    </tr>\n",
       "  </thead>\n",
       "  <tbody>\n",
       "    <tr>\n",
       "      <th>0</th>\n",
       "      <td>../../data/images/19/000001</td>\n",
       "    </tr>\n",
       "    <tr>\n",
       "      <th>1</th>\n",
       "      <td>../../data/images/19/000010</td>\n",
       "    </tr>\n",
       "    <tr>\n",
       "      <th>2</th>\n",
       "      <td>../../data/images/19/000011</td>\n",
       "    </tr>\n",
       "    <tr>\n",
       "      <th>3</th>\n",
       "      <td>../../data/images/19/000012</td>\n",
       "    </tr>\n",
       "    <tr>\n",
       "      <th>4</th>\n",
       "      <td>../../data/images/19/000013</td>\n",
       "    </tr>\n",
       "    <tr>\n",
       "      <th>...</th>\n",
       "      <td>...</td>\n",
       "    </tr>\n",
       "    <tr>\n",
       "      <th>1311732</th>\n",
       "      <td>../../data/images/435170/000005</td>\n",
       "    </tr>\n",
       "    <tr>\n",
       "      <th>1311733</th>\n",
       "      <td>../../data/images/435170/000006</td>\n",
       "    </tr>\n",
       "    <tr>\n",
       "      <th>1311734</th>\n",
       "      <td>../../data/images/435170/000007</td>\n",
       "    </tr>\n",
       "    <tr>\n",
       "      <th>1311735</th>\n",
       "      <td>../../data/images/435170/000008</td>\n",
       "    </tr>\n",
       "    <tr>\n",
       "      <th>1311736</th>\n",
       "      <td>../../data/images/435170/000009</td>\n",
       "    </tr>\n",
       "  </tbody>\n",
       "</table>\n",
       "<p>1311737 rows × 1 columns</p>\n",
       "</div>"
      ],
      "text/plain": [
       "                              image_path\n",
       "0            ../../data/images/19/000001\n",
       "1            ../../data/images/19/000010\n",
       "2            ../../data/images/19/000011\n",
       "3            ../../data/images/19/000012\n",
       "4            ../../data/images/19/000013\n",
       "...                                  ...\n",
       "1311732  ../../data/images/435170/000005\n",
       "1311733  ../../data/images/435170/000006\n",
       "1311734  ../../data/images/435170/000007\n",
       "1311735  ../../data/images/435170/000008\n",
       "1311736  ../../data/images/435170/000009\n",
       "\n",
       "[1311737 rows x 1 columns]"
      ]
     },
     "execution_count": 52,
     "metadata": {},
     "output_type": "execute_result"
    }
   ],
   "source": [
    "df_all"
   ]
  },
  {
   "cell_type": "code",
   "execution_count": 57,
   "metadata": {},
   "outputs": [
    {
     "data": {
      "application/vnd.jupyter.widget-view+json": {
       "model_id": "506d7d96a4a0430b9993a5dfe6356b40",
       "version_major": 2,
       "version_minor": 0
      },
      "text/plain": [
       "HBox(children=(FloatProgress(value=0.0, max=1311737.0), HTML(value='')))"
      ]
     },
     "metadata": {},
     "output_type": "display_data"
    },
    {
     "name": "stderr",
     "output_type": "stream",
     "text": [
      "/home/zenscr/.cache/pypoetry/virtualenvs/seefood-XNyMTNSE-py3.7/lib/python3.7/site-packages/PIL/TiffImagePlugin.py:770: UserWarning: Possibly corrupt EXIF data.  Expecting to read 33 bytes but only got 32. Skipping tag 42016\n",
      "  \" Skipping tag %s\" % (size, len(data), tag)\n",
      "/home/zenscr/.cache/pypoetry/virtualenvs/seefood-XNyMTNSE-py3.7/lib/python3.7/site-packages/PIL/TiffImagePlugin.py:770: UserWarning: Possibly corrupt EXIF data.  Expecting to read 310 bytes but only got 0. Skipping tag 37500\n",
      "  \" Skipping tag %s\" % (size, len(data), tag)\n",
      "/home/zenscr/.cache/pypoetry/virtualenvs/seefood-XNyMTNSE-py3.7/lib/python3.7/site-packages/PIL/TiffImagePlugin.py:770: UserWarning: Possibly corrupt EXIF data.  Expecting to read 125 bytes but only got 112. Skipping tag 37510\n",
      "  \" Skipping tag %s\" % (size, len(data), tag)\n",
      "/home/zenscr/.cache/pypoetry/virtualenvs/seefood-XNyMTNSE-py3.7/lib/python3.7/site-packages/PIL/TiffImagePlugin.py:770: UserWarning: Possibly corrupt EXIF data.  Expecting to read 10 bytes but only got 9. Skipping tag 33432\n",
      "  \" Skipping tag %s\" % (size, len(data), tag)\n",
      "/home/zenscr/.cache/pypoetry/virtualenvs/seefood-XNyMTNSE-py3.7/lib/python3.7/site-packages/PIL/TiffImagePlugin.py:770: UserWarning: Possibly corrupt EXIF data.  Expecting to read 20 bytes but only got 19. Skipping tag 306\n",
      "  \" Skipping tag %s\" % (size, len(data), tag)\n",
      "/home/zenscr/.cache/pypoetry/virtualenvs/seefood-XNyMTNSE-py3.7/lib/python3.7/site-packages/PIL/TiffImagePlugin.py:770: UserWarning: Possibly corrupt EXIF data.  Expecting to read 8 bytes but only got 0. Skipping tag 282\n",
      "  \" Skipping tag %s\" % (size, len(data), tag)\n",
      "/home/zenscr/.cache/pypoetry/virtualenvs/seefood-XNyMTNSE-py3.7/lib/python3.7/site-packages/PIL/TiffImagePlugin.py:770: UserWarning: Possibly corrupt EXIF data.  Expecting to read 8 bytes but only got 0. Skipping tag 283\n",
      "  \" Skipping tag %s\" % (size, len(data), tag)\n",
      "/home/zenscr/.cache/pypoetry/virtualenvs/seefood-XNyMTNSE-py3.7/lib/python3.7/site-packages/PIL/TiffImagePlugin.py:770: UserWarning: Possibly corrupt EXIF data.  Expecting to read 24 bytes but only got 23. Skipping tag 42036\n",
      "  \" Skipping tag %s\" % (size, len(data), tag)\n",
      "/home/zenscr/.cache/pypoetry/virtualenvs/seefood-XNyMTNSE-py3.7/lib/python3.7/site-packages/PIL/TiffImagePlugin.py:770: UserWarning: Possibly corrupt EXIF data.  Expecting to read 20 bytes but only got 19. Skipping tag 36868\n",
      "  \" Skipping tag %s\" % (size, len(data), tag)\n",
      "/home/zenscr/.cache/pypoetry/virtualenvs/seefood-XNyMTNSE-py3.7/lib/python3.7/site-packages/PIL/TiffImagePlugin.py:770: UserWarning: Possibly corrupt EXIF data.  Expecting to read 28 bytes but only got 27. Skipping tag 42036\n",
      "  \" Skipping tag %s\" % (size, len(data), tag)\n",
      "/home/zenscr/.cache/pypoetry/virtualenvs/seefood-XNyMTNSE-py3.7/lib/python3.7/site-packages/PIL/TiffImagePlugin.py:770: UserWarning: Possibly corrupt EXIF data.  Expecting to read 9 bytes but only got 8. Skipping tag 33432\n",
      "  \" Skipping tag %s\" % (size, len(data), tag)\n",
      "/home/zenscr/.cache/pypoetry/virtualenvs/seefood-XNyMTNSE-py3.7/lib/python3.7/site-packages/PIL/TiffImagePlugin.py:770: UserWarning: Possibly corrupt EXIF data.  Expecting to read 19 bytes but only got 18. Skipping tag 42036\n",
      "  \" Skipping tag %s\" % (size, len(data), tag)\n",
      "/home/zenscr/.cache/pypoetry/virtualenvs/seefood-XNyMTNSE-py3.7/lib/python3.7/site-packages/PIL/TiffImagePlugin.py:770: UserWarning: Possibly corrupt EXIF data.  Expecting to read 55 bytes but only got 0. Skipping tag 33432\n",
      "  \" Skipping tag %s\" % (size, len(data), tag)\n",
      "/home/zenscr/.cache/pypoetry/virtualenvs/seefood-XNyMTNSE-py3.7/lib/python3.7/site-packages/PIL/TiffImagePlugin.py:770: UserWarning: Possibly corrupt EXIF data.  Expecting to read 6 bytes but only got 5. Skipping tag 33432\n",
      "  \" Skipping tag %s\" % (size, len(data), tag)\n",
      "/home/zenscr/.cache/pypoetry/virtualenvs/seefood-XNyMTNSE-py3.7/lib/python3.7/site-packages/PIL/TiffImagePlugin.py:770: UserWarning: Possibly corrupt EXIF data.  Expecting to read 20 bytes but only got 19. Skipping tag 36867\n",
      "  \" Skipping tag %s\" % (size, len(data), tag)\n"
     ]
    },
    {
     "name": "stdout",
     "output_type": "stream",
     "text": [
      "\n"
     ]
    }
   ],
   "source": [
    "resize_images(df_all, source_col=\"image_path\", target_col=\"image_path\")"
   ]
  }
 ],
 "metadata": {
  "kernelspec": {
   "display_name": "Python 3",
   "language": "python",
   "name": "python3"
  },
  "language_info": {
   "codemirror_mode": {
    "name": "ipython",
    "version": 3
   },
   "file_extension": ".py",
   "mimetype": "text/x-python",
   "name": "python",
   "nbconvert_exporter": "python",
   "pygments_lexer": "ipython3",
   "version": "3.7.6"
  }
 },
 "nbformat": 4,
 "nbformat_minor": 4
}
