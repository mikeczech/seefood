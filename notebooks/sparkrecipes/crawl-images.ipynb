{
 "cells": [
  {
   "cell_type": "code",
   "execution_count": 32,
   "metadata": {},
   "outputs": [],
   "source": [
    "from icrawler.builtin import GoogleImageCrawler\n",
    "import pandas as pd\n",
    "from tqdm.notebook import tqdm\n",
    "import os\n",
    "import os.path\n",
    "\n",
    "MAX_IMG_NUM = 10"
   ]
  },
  {
   "cell_type": "code",
   "execution_count": 33,
   "metadata": {},
   "outputs": [],
   "source": [
    "df_base = pd.read_csv(\"../../data/sparkrecipes_base.csv\")"
   ]
  },
  {
   "cell_type": "code",
   "execution_count": 34,
   "metadata": {},
   "outputs": [
    {
     "data": {
      "text/html": [
       "<div>\n",
       "<style scoped>\n",
       "    .dataframe tbody tr th:only-of-type {\n",
       "        vertical-align: middle;\n",
       "    }\n",
       "\n",
       "    .dataframe tbody tr th {\n",
       "        vertical-align: top;\n",
       "    }\n",
       "\n",
       "    .dataframe thead th {\n",
       "        text-align: right;\n",
       "    }\n",
       "</style>\n",
       "<table border=\"1\" class=\"dataframe\">\n",
       "  <thead>\n",
       "    <tr style=\"text-align: right;\">\n",
       "      <th></th>\n",
       "      <th>recipe_id</th>\n",
       "      <th>title</th>\n",
       "      <th>image_url</th>\n",
       "      <th>total_calories</th>\n",
       "      <th>url</th>\n",
       "    </tr>\n",
       "  </thead>\n",
       "  <tbody>\n",
       "    <tr>\n",
       "      <th>0</th>\n",
       "      <td>0</td>\n",
       "      <td>Caribbean Black Beans and Rice</td>\n",
       "      <td>NaN</td>\n",
       "      <td>479.6</td>\n",
       "      <td>https://recipes.sparkpeople.com/recipe-detail....</td>\n",
       "    </tr>\n",
       "    <tr>\n",
       "      <th>1</th>\n",
       "      <td>1</td>\n",
       "      <td>Minestrone Soup</td>\n",
       "      <td>NaN</td>\n",
       "      <td>153.1</td>\n",
       "      <td>https://recipes.sparkpeople.com/recipe-detail....</td>\n",
       "    </tr>\n",
       "    <tr>\n",
       "      <th>2</th>\n",
       "      <td>2</td>\n",
       "      <td>20-Minute Chicken Creole</td>\n",
       "      <td>https://sparkpeo.hs.llnwd.net/e1/resize/630m62...</td>\n",
       "      <td>269.3</td>\n",
       "      <td>https://recipes.sparkpeople.com/recipe-detail....</td>\n",
       "    </tr>\n",
       "    <tr>\n",
       "      <th>3</th>\n",
       "      <td>3</td>\n",
       "      <td>Beef and Vegetable Stir-Fry</td>\n",
       "      <td>NaN</td>\n",
       "      <td>245.5</td>\n",
       "      <td>https://recipes.sparkpeople.com/recipe-detail....</td>\n",
       "    </tr>\n",
       "    <tr>\n",
       "      <th>4</th>\n",
       "      <td>4</td>\n",
       "      <td>Italian Vegetable Bake</td>\n",
       "      <td>https://sparkpeo.hs.llnwd.net/e1/resize/630m62...</td>\n",
       "      <td>37.2</td>\n",
       "      <td>https://recipes.sparkpeople.com/recipe-detail....</td>\n",
       "    </tr>\n",
       "  </tbody>\n",
       "</table>\n",
       "</div>"
      ],
      "text/plain": [
       "   recipe_id                           title  \\\n",
       "0          0  Caribbean Black Beans and Rice   \n",
       "1          1                 Minestrone Soup   \n",
       "2          2        20-Minute Chicken Creole   \n",
       "3          3     Beef and Vegetable Stir-Fry   \n",
       "4          4          Italian Vegetable Bake   \n",
       "\n",
       "                                           image_url  total_calories  \\\n",
       "0                                                NaN           479.6   \n",
       "1                                                NaN           153.1   \n",
       "2  https://sparkpeo.hs.llnwd.net/e1/resize/630m62...           269.3   \n",
       "3                                                NaN           245.5   \n",
       "4  https://sparkpeo.hs.llnwd.net/e1/resize/630m62...            37.2   \n",
       "\n",
       "                                                 url  \n",
       "0  https://recipes.sparkpeople.com/recipe-detail....  \n",
       "1  https://recipes.sparkpeople.com/recipe-detail....  \n",
       "2  https://recipes.sparkpeople.com/recipe-detail....  \n",
       "3  https://recipes.sparkpeople.com/recipe-detail....  \n",
       "4  https://recipes.sparkpeople.com/recipe-detail....  "
      ]
     },
     "execution_count": 34,
     "metadata": {},
     "output_type": "execute_result"
    }
   ],
   "source": [
    "df_base.head()"
   ]
  },
  {
   "cell_type": "code",
   "execution_count": 47,
   "metadata": {},
   "outputs": [],
   "source": [
    "def is_complete(dest_dir):\n",
    "    return len([name for name in os.listdir(dest_dir) if os.path.isfile(os.path.join(dest_dir, name))]) >= MAX_IMG_NUM"
   ]
  },
  {
   "cell_type": "code",
   "execution_count": 48,
   "metadata": {},
   "outputs": [
    {
     "data": {
      "application/vnd.jupyter.widget-view+json": {
       "model_id": "27058eac21dd41a88e3655050007e17b",
       "version_major": 2,
       "version_minor": 0
      },
      "text/plain": [
       "HBox(children=(IntProgress(value=0, max=5), HTML(value='')))"
      ]
     },
     "metadata": {},
     "output_type": "display_data"
    },
    {
     "name": "stdout",
     "output_type": "stream",
     "text": [
      "\n"
     ]
    }
   ],
   "source": [
    "df_img_source = df_base[[\"recipe_id\", \"title\"]][:5]\n",
    "\n",
    "for _, row in tqdm(df_img_source.iterrows(), total=df_img_source.shape[0]):\n",
    "    dest_dir = f\"../../data/images/{row.recipe_id}\"\n",
    "    if not os.path.exists(dest_dir):\n",
    "        os.makedirs(dest_dir)\n",
    "    if not is_complete(dest_dir):\n",
    "        print(f\"### Crawling images for recipe {row.title}\")\n",
    "        google_crawler = GoogleImageCrawler(storage={'root_dir': dest_dir})\n",
    "        google_crawler.crawl(keyword=row.title, max_num=MAX_IMG_NUM, filters=dict(size=\"medium\"))"
   ]
  },
  {
   "cell_type": "code",
   "execution_count": null,
   "metadata": {},
   "outputs": [],
   "source": []
  }
 ],
 "metadata": {
  "kernelspec": {
   "display_name": "Python 3",
   "language": "python",
   "name": "python3"
  },
  "language_info": {
   "codemirror_mode": {
    "name": "ipython",
    "version": 3
   },
   "file_extension": ".py",
   "mimetype": "text/x-python",
   "name": "python",
   "nbconvert_exporter": "python",
   "pygments_lexer": "ipython3",
   "version": "3.7.3"
  }
 },
 "nbformat": 4,
 "nbformat_minor": 4
}
