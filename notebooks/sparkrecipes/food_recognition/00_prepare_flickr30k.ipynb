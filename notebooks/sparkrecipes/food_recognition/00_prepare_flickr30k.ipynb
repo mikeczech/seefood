{
 "cells": [
  {
   "cell_type": "code",
   "execution_count": 1,
   "metadata": {},
   "outputs": [],
   "source": [
    "IMAGE_SIZE = 224\n",
    "NUM_CHANNELS = 3\n",
    "LMDB_DIR_PATH = \"/mnt/data_ssd/lmdb\"\n",
    "IMAGE_BASE_PATH = \"/mnt/data_ssd/datasets/flickr30k\"\n",
    "MODEL_NAME = \"efficientnet_b3\""
   ]
  },
  {
   "cell_type": "markdown",
   "metadata": {},
   "source": [
    "# Compute Image Embeddings and Persist them via LMDB"
   ]
  },
  {
   "cell_type": "code",
   "execution_count": 2,
   "metadata": {},
   "outputs": [],
   "source": [
    "%load_ext google.cloud.bigquery\n",
    "%load_ext lab_black\n",
    "%load_ext line_profiler"
   ]
  },
  {
   "cell_type": "code",
   "execution_count": 3,
   "metadata": {},
   "outputs": [],
   "source": [
    "%load_ext autoreload\n",
    "%autoreload 2"
   ]
  },
  {
   "cell_type": "code",
   "execution_count": 4,
   "metadata": {},
   "outputs": [
    {
     "name": "stderr",
     "output_type": "stream",
     "text": [
      "Using cache found in /home/mike/.cache/torch/hub/rwightman_gen-efficientnet-pytorch_master\n"
     ]
    }
   ],
   "source": [
    "import os\n",
    "\n",
    "from seefood.features import EfficientNetFeatureExtractor\n",
    "from seefood.data import LMDBEmbeddingWriter\n",
    "from seefood.data import ImageDataset\n",
    "from seefood.data import get_default_transform\n",
    "\n",
    "import torch\n",
    "from PIL import ImageFile\n",
    "\n",
    "ImageFile.LOAD_TRUNCATED_IMAGES = True"
   ]
  },
  {
   "cell_type": "code",
   "execution_count": 5,
   "metadata": {},
   "outputs": [
    {
     "data": {
      "text/plain": [
       "device(type='cuda', index=0)"
      ]
     },
     "execution_count": 5,
     "metadata": {},
     "output_type": "execute_result"
    }
   ],
   "source": [
    "device = torch.device(\"cuda:0\" if torch.cuda.is_available() else \"cpu\")\n",
    "device"
   ]
  },
  {
   "cell_type": "code",
   "execution_count": 6,
   "metadata": {},
   "outputs": [
    {
     "name": "stderr",
     "output_type": "stream",
     "text": [
      "Using cache found in /home/mike/.cache/torch/hub/rwightman_gen-efficientnet-pytorch_master\n",
      "Using cache found in /home/mike/.cache/torch/hub/rwightman_gen-efficientnet-pytorch_master\n"
     ]
    }
   ],
   "source": [
    "feature_extractor = EfficientNetFeatureExtractor(MODEL_NAME).to(device)"
   ]
  },
  {
   "cell_type": "code",
   "execution_count": 7,
   "metadata": {},
   "outputs": [],
   "source": [
    "DATA_FILE = f\"{LMDB_DIR_PATH}/flickr_data_{MODEL_NAME}\""
   ]
  },
  {
   "cell_type": "markdown",
   "metadata": {},
   "source": [
    "## Load and Shuffle Data"
   ]
  },
  {
   "cell_type": "code",
   "execution_count": 8,
   "metadata": {},
   "outputs": [],
   "source": [
    "%%bigquery df --project zenscr-seefood-dev\n",
    "\n",
    "SELECT id, image_path as image_path_suffix\n",
    "FROM `zenscr-seefood-dev.flickr.flickr30k_image_path`"
   ]
  },
  {
   "cell_type": "code",
   "execution_count": 9,
   "metadata": {},
   "outputs": [],
   "source": [
    "df[\"image_path\"] = df[\"image_path_suffix\"].map(\n",
    "    lambda suffix: os.path.join(IMAGE_BASE_PATH, suffix)\n",
    ")"
   ]
  },
  {
   "cell_type": "code",
   "execution_count": 10,
   "metadata": {},
   "outputs": [
    {
     "data": {
      "text/html": [
       "<div>\n",
       "<style scoped>\n",
       "    .dataframe tbody tr th:only-of-type {\n",
       "        vertical-align: middle;\n",
       "    }\n",
       "\n",
       "    .dataframe tbody tr th {\n",
       "        vertical-align: top;\n",
       "    }\n",
       "\n",
       "    .dataframe thead th {\n",
       "        text-align: right;\n",
       "    }\n",
       "</style>\n",
       "<table border=\"1\" class=\"dataframe\">\n",
       "  <thead>\n",
       "    <tr style=\"text-align: right;\">\n",
       "      <th></th>\n",
       "      <th>id</th>\n",
       "      <th>image_path_suffix</th>\n",
       "      <th>image_path</th>\n",
       "    </tr>\n",
       "  </thead>\n",
       "  <tbody>\n",
       "    <tr>\n",
       "      <th>0</th>\n",
       "      <td>0</td>\n",
       "      <td>7589467042.jpg</td>\n",
       "      <td>/mnt/data_ssd/datasets/flickr30k/7589467042.jpg</td>\n",
       "    </tr>\n",
       "    <tr>\n",
       "      <th>1</th>\n",
       "      <td>1</td>\n",
       "      <td>5091237679.jpg</td>\n",
       "      <td>/mnt/data_ssd/datasets/flickr30k/5091237679.jpg</td>\n",
       "    </tr>\n",
       "    <tr>\n",
       "      <th>2</th>\n",
       "      <td>2</td>\n",
       "      <td>3472331684.jpg</td>\n",
       "      <td>/mnt/data_ssd/datasets/flickr30k/3472331684.jpg</td>\n",
       "    </tr>\n",
       "    <tr>\n",
       "      <th>3</th>\n",
       "      <td>3</td>\n",
       "      <td>2444527362.jpg</td>\n",
       "      <td>/mnt/data_ssd/datasets/flickr30k/2444527362.jpg</td>\n",
       "    </tr>\n",
       "    <tr>\n",
       "      <th>4</th>\n",
       "      <td>4</td>\n",
       "      <td>2227179257.jpg</td>\n",
       "      <td>/mnt/data_ssd/datasets/flickr30k/2227179257.jpg</td>\n",
       "    </tr>\n",
       "    <tr>\n",
       "      <th>...</th>\n",
       "      <td>...</td>\n",
       "      <td>...</td>\n",
       "      <td>...</td>\n",
       "    </tr>\n",
       "    <tr>\n",
       "      <th>31778</th>\n",
       "      <td>31778</td>\n",
       "      <td>2454054454.jpg</td>\n",
       "      <td>/mnt/data_ssd/datasets/flickr30k/2454054454.jpg</td>\n",
       "    </tr>\n",
       "    <tr>\n",
       "      <th>31779</th>\n",
       "      <td>31779</td>\n",
       "      <td>3017203816.jpg</td>\n",
       "      <td>/mnt/data_ssd/datasets/flickr30k/3017203816.jpg</td>\n",
       "    </tr>\n",
       "    <tr>\n",
       "      <th>31780</th>\n",
       "      <td>31780</td>\n",
       "      <td>297725741.jpg</td>\n",
       "      <td>/mnt/data_ssd/datasets/flickr30k/297725741.jpg</td>\n",
       "    </tr>\n",
       "    <tr>\n",
       "      <th>31781</th>\n",
       "      <td>31781</td>\n",
       "      <td>2009636597.jpg</td>\n",
       "      <td>/mnt/data_ssd/datasets/flickr30k/2009636597.jpg</td>\n",
       "    </tr>\n",
       "    <tr>\n",
       "      <th>31782</th>\n",
       "      <td>31782</td>\n",
       "      <td>2204545235.jpg</td>\n",
       "      <td>/mnt/data_ssd/datasets/flickr30k/2204545235.jpg</td>\n",
       "    </tr>\n",
       "  </tbody>\n",
       "</table>\n",
       "<p>31783 rows × 3 columns</p>\n",
       "</div>"
      ],
      "text/plain": [
       "          id image_path_suffix  \\\n",
       "0          0    7589467042.jpg   \n",
       "1          1    5091237679.jpg   \n",
       "2          2    3472331684.jpg   \n",
       "3          3    2444527362.jpg   \n",
       "4          4    2227179257.jpg   \n",
       "...      ...               ...   \n",
       "31778  31778    2454054454.jpg   \n",
       "31779  31779    3017203816.jpg   \n",
       "31780  31780     297725741.jpg   \n",
       "31781  31781    2009636597.jpg   \n",
       "31782  31782    2204545235.jpg   \n",
       "\n",
       "                                            image_path  \n",
       "0      /mnt/data_ssd/datasets/flickr30k/7589467042.jpg  \n",
       "1      /mnt/data_ssd/datasets/flickr30k/5091237679.jpg  \n",
       "2      /mnt/data_ssd/datasets/flickr30k/3472331684.jpg  \n",
       "3      /mnt/data_ssd/datasets/flickr30k/2444527362.jpg  \n",
       "4      /mnt/data_ssd/datasets/flickr30k/2227179257.jpg  \n",
       "...                                                ...  \n",
       "31778  /mnt/data_ssd/datasets/flickr30k/2454054454.jpg  \n",
       "31779  /mnt/data_ssd/datasets/flickr30k/3017203816.jpg  \n",
       "31780   /mnt/data_ssd/datasets/flickr30k/297725741.jpg  \n",
       "31781  /mnt/data_ssd/datasets/flickr30k/2009636597.jpg  \n",
       "31782  /mnt/data_ssd/datasets/flickr30k/2204545235.jpg  \n",
       "\n",
       "[31783 rows x 3 columns]"
      ]
     },
     "execution_count": 10,
     "metadata": {},
     "output_type": "execute_result"
    }
   ],
   "source": [
    "df"
   ]
  },
  {
   "cell_type": "code",
   "execution_count": 19,
   "metadata": {},
   "outputs": [],
   "source": [
    "df_input = df.assign(target=0.0)  # ignore target for now"
   ]
  },
  {
   "cell_type": "code",
   "execution_count": 20,
   "metadata": {},
   "outputs": [
    {
     "data": {
      "text/html": [
       "<div>\n",
       "<style scoped>\n",
       "    .dataframe tbody tr th:only-of-type {\n",
       "        vertical-align: middle;\n",
       "    }\n",
       "\n",
       "    .dataframe tbody tr th {\n",
       "        vertical-align: top;\n",
       "    }\n",
       "\n",
       "    .dataframe thead th {\n",
       "        text-align: right;\n",
       "    }\n",
       "</style>\n",
       "<table border=\"1\" class=\"dataframe\">\n",
       "  <thead>\n",
       "    <tr style=\"text-align: right;\">\n",
       "      <th></th>\n",
       "      <th>id</th>\n",
       "      <th>image_path_suffix</th>\n",
       "      <th>image_path</th>\n",
       "      <th>target</th>\n",
       "    </tr>\n",
       "  </thead>\n",
       "  <tbody>\n",
       "    <tr>\n",
       "      <th>0</th>\n",
       "      <td>0</td>\n",
       "      <td>7589467042.jpg</td>\n",
       "      <td>/mnt/data_ssd/datasets/flickr30k/7589467042.jpg</td>\n",
       "      <td>0.0</td>\n",
       "    </tr>\n",
       "    <tr>\n",
       "      <th>1</th>\n",
       "      <td>1</td>\n",
       "      <td>5091237679.jpg</td>\n",
       "      <td>/mnt/data_ssd/datasets/flickr30k/5091237679.jpg</td>\n",
       "      <td>0.0</td>\n",
       "    </tr>\n",
       "    <tr>\n",
       "      <th>2</th>\n",
       "      <td>2</td>\n",
       "      <td>3472331684.jpg</td>\n",
       "      <td>/mnt/data_ssd/datasets/flickr30k/3472331684.jpg</td>\n",
       "      <td>0.0</td>\n",
       "    </tr>\n",
       "    <tr>\n",
       "      <th>3</th>\n",
       "      <td>3</td>\n",
       "      <td>2444527362.jpg</td>\n",
       "      <td>/mnt/data_ssd/datasets/flickr30k/2444527362.jpg</td>\n",
       "      <td>0.0</td>\n",
       "    </tr>\n",
       "    <tr>\n",
       "      <th>4</th>\n",
       "      <td>4</td>\n",
       "      <td>2227179257.jpg</td>\n",
       "      <td>/mnt/data_ssd/datasets/flickr30k/2227179257.jpg</td>\n",
       "      <td>0.0</td>\n",
       "    </tr>\n",
       "    <tr>\n",
       "      <th>...</th>\n",
       "      <td>...</td>\n",
       "      <td>...</td>\n",
       "      <td>...</td>\n",
       "      <td>...</td>\n",
       "    </tr>\n",
       "    <tr>\n",
       "      <th>31778</th>\n",
       "      <td>31778</td>\n",
       "      <td>2454054454.jpg</td>\n",
       "      <td>/mnt/data_ssd/datasets/flickr30k/2454054454.jpg</td>\n",
       "      <td>0.0</td>\n",
       "    </tr>\n",
       "    <tr>\n",
       "      <th>31779</th>\n",
       "      <td>31779</td>\n",
       "      <td>3017203816.jpg</td>\n",
       "      <td>/mnt/data_ssd/datasets/flickr30k/3017203816.jpg</td>\n",
       "      <td>0.0</td>\n",
       "    </tr>\n",
       "    <tr>\n",
       "      <th>31780</th>\n",
       "      <td>31780</td>\n",
       "      <td>297725741.jpg</td>\n",
       "      <td>/mnt/data_ssd/datasets/flickr30k/297725741.jpg</td>\n",
       "      <td>0.0</td>\n",
       "    </tr>\n",
       "    <tr>\n",
       "      <th>31781</th>\n",
       "      <td>31781</td>\n",
       "      <td>2009636597.jpg</td>\n",
       "      <td>/mnt/data_ssd/datasets/flickr30k/2009636597.jpg</td>\n",
       "      <td>0.0</td>\n",
       "    </tr>\n",
       "    <tr>\n",
       "      <th>31782</th>\n",
       "      <td>31782</td>\n",
       "      <td>2204545235.jpg</td>\n",
       "      <td>/mnt/data_ssd/datasets/flickr30k/2204545235.jpg</td>\n",
       "      <td>0.0</td>\n",
       "    </tr>\n",
       "  </tbody>\n",
       "</table>\n",
       "<p>31783 rows × 4 columns</p>\n",
       "</div>"
      ],
      "text/plain": [
       "          id image_path_suffix  \\\n",
       "0          0    7589467042.jpg   \n",
       "1          1    5091237679.jpg   \n",
       "2          2    3472331684.jpg   \n",
       "3          3    2444527362.jpg   \n",
       "4          4    2227179257.jpg   \n",
       "...      ...               ...   \n",
       "31778  31778    2454054454.jpg   \n",
       "31779  31779    3017203816.jpg   \n",
       "31780  31780     297725741.jpg   \n",
       "31781  31781    2009636597.jpg   \n",
       "31782  31782    2204545235.jpg   \n",
       "\n",
       "                                            image_path  target  \n",
       "0      /mnt/data_ssd/datasets/flickr30k/7589467042.jpg     0.0  \n",
       "1      /mnt/data_ssd/datasets/flickr30k/5091237679.jpg     0.0  \n",
       "2      /mnt/data_ssd/datasets/flickr30k/3472331684.jpg     0.0  \n",
       "3      /mnt/data_ssd/datasets/flickr30k/2444527362.jpg     0.0  \n",
       "4      /mnt/data_ssd/datasets/flickr30k/2227179257.jpg     0.0  \n",
       "...                                                ...     ...  \n",
       "31778  /mnt/data_ssd/datasets/flickr30k/2454054454.jpg     0.0  \n",
       "31779  /mnt/data_ssd/datasets/flickr30k/3017203816.jpg     0.0  \n",
       "31780   /mnt/data_ssd/datasets/flickr30k/297725741.jpg     0.0  \n",
       "31781  /mnt/data_ssd/datasets/flickr30k/2009636597.jpg     0.0  \n",
       "31782  /mnt/data_ssd/datasets/flickr30k/2204545235.jpg     0.0  \n",
       "\n",
       "[31783 rows x 4 columns]"
      ]
     },
     "execution_count": 20,
     "metadata": {},
     "output_type": "execute_result"
    }
   ],
   "source": [
    "df_input"
   ]
  },
  {
   "cell_type": "markdown",
   "metadata": {},
   "source": [
    "## Write Embeddings to LMDB"
   ]
  },
  {
   "cell_type": "code",
   "execution_count": 21,
   "metadata": {},
   "outputs": [],
   "source": [
    "transform = get_default_transform(IMAGE_SIZE)\n",
    "\n",
    "dataloader = torch.utils.data.DataLoader(\n",
    "    ImageDataset(df_input, transform), batch_size=64, shuffle=False, num_workers=4\n",
    ")\n",
    "\n",
    "embedding_writer = LMDBEmbeddingWriter(feature_extractor, device)\n",
    "map_size = 1073741824 * 10  # 10GB"
   ]
  },
  {
   "cell_type": "code",
   "execution_count": 22,
   "metadata": {},
   "outputs": [
    {
     "data": {
      "application/vnd.jupyter.widget-view+json": {
       "model_id": "a5b0d6deefb84905b889c5737c074070",
       "version_major": 2,
       "version_minor": 0
      },
      "text/plain": [
       "HBox(children=(FloatProgress(value=0.0, max=497.0), HTML(value='')))"
      ]
     },
     "metadata": {},
     "output_type": "display_data"
    },
    {
     "name": "stdout",
     "output_type": "stream",
     "text": [
      "\n"
     ]
    }
   ],
   "source": [
    "embedding_writer.write(DATA_FILE, dataloader, map_size)"
   ]
  }
 ],
 "metadata": {
  "kernelspec": {
   "display_name": "Python 3",
   "language": "python",
   "name": "python3"
  },
  "language_info": {
   "codemirror_mode": {
    "name": "ipython",
    "version": 3
   },
   "file_extension": ".py",
   "mimetype": "text/x-python",
   "name": "python",
   "nbconvert_exporter": "python",
   "pygments_lexer": "ipython3",
   "version": "3.8.1"
  }
 },
 "nbformat": 4,
 "nbformat_minor": 4
}
